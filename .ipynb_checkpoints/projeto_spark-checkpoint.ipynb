{
 "cells": [
  {
   "cell_type": "markdown",
   "id": "0b53deaf",
   "metadata": {},
   "source": [
    "# Projeto Spark\n",
    "\n",
    "A ser realizado em duplas.\n",
    "\n",
    "Entrega: 6 de dezembro de 2022"
   ]
  },
  {
   "cell_type": "markdown",
   "id": "864a644e",
   "metadata": {
    "tags": []
   },
   "source": [
    "## Introdução\n",
    "\n",
    "Neste projeto vamos construir um classificador Naive-Bayes para determinar o sentimento de um comentário."
   ]
  },
  {
   "cell_type": "markdown",
   "id": "fba01845",
   "metadata": {},
   "source": [
    "## Instalando o ambiente"
   ]
  },
  {
   "cell_type": "markdown",
   "id": "557b6a0c",
   "metadata": {},
   "source": [
    "O jeito mais simples de começar a trabalhar com Spark é instalar um container com tudo pronto! No site https://hub.docker.com/r/jupyter/pyspark-notebook vemos uma imagem Docker que já vem com `pyspark` e `jupyter lab`. Instale a imagem com o comando:\n",
    "\n",
    "```bash\n",
    "docker pull jupyter/pyspark-notebook\n",
    "```\n",
    "\n",
    "Vamos iniciar o ambiente de trabalho com o comando `docker run`. Para isso precisamos tomar alguns cuidados:\n",
    "\n",
    "1) Temos que mapear nosso diretorio local de trabalho para um diretório interno do container, de modo que alterações feitas dentro do container (nesta pasta escolhida) sejam gravadas no nosso diretorio local. No container temos um usuário padrão com *username* `jovyan`. No *homedir* desse usuario temos uma pasta vazia `work`, que vai servir como local de mapeamento do nosso diretorio local de trabalho. Podemos então fazer esse mapeamendo com a opção `-v` do comando `docker run` da seguinte forma:\n",
    "\n",
    "```bash\n",
    "-v <diretorio>:/home/jovyan/work\n",
    "```\n",
    "\n",
    "onde `<diretorio>` representa seu diretorio local de trabalho.\n",
    "\n",
    "2) Para acessar o `jupyter notebook` e o *dashboard* do Spark a partir do nosso *browser* favorito temos que abrir algumas portas do container com a opção `-p`. As portas são `8888` (para o próprio `jupyter notebook`) e `4040` (para o *dashboard* do Spark). Ou seja, adicionaremos às opções do `docker run`o seguinte:\n",
    "\n",
    "```bash\n",
    "-p 8888:8888 -p 4040:4040\n",
    "```\n",
    "\n",
    "Desta forma, ao acessar `localhost:8888` na nossa máquina, estaremos acessando o servidor Jupyter na porta 8888 interna do container.\n",
    "\n",
    "3) Vamos iniciar o container no modo interativo, e vamos especificar que o container deve ser encerrado ao fechar o servidor Jupyter. Faremos isso com as opções `-it` e `-rm`\n",
    "\n",
    "Portanto, o comando completo que eu uso na minha máquina Linux para iniciar o container é:\n",
    "\n",
    "```bash\n",
    "docker run \\\n",
    "    -it \\\n",
    "    --rm \\\n",
    "    -p 8888:8888 \\\n",
    "    -p 4040:4040 \\\n",
    "    -v `pwd`:/home/jovyan/work \\\n",
    "    jupyter/pyspark-notebook\n",
    "\n",
    "\n",
    "```\n",
    "\n",
    "Para facilitar a vida eu coloco esse comando em um arquivo `inicia.sh`. Engenheiros, façam do jeito que preferirem!\n",
    "\n",
    "Agora abra esse notebook lá no container!\n"
   ]
  },
  {
   "cell_type": "markdown",
   "id": "d6496ca0",
   "metadata": {},
   "source": [
    "## Iniciando o Spark"
   ]
  },
  {
   "cell_type": "markdown",
   "id": "abd64175",
   "metadata": {},
   "source": [
    "Vamos iniciar o ambiente Spark. Para isso vamos:\n",
    "\n",
    "1) Criar um objeto de configuração do ambiente Spark. Nossa configuração será simples: vamos especificar que o nome da nossa aplicação Spark é \"Minha aplicação\", e que o *master node* é a máquina local, usando todos os *cores* disponíveis. Aplicações reais de Spark são configuradas de modo ligeiramente diferente: ao especificar o *master node* passamos uma URL real, com o endereço do nó gerente do *cluster* Spark.\n",
    "\n",
    "2) Vamos criar um objeto do tipo `SparkContext` com essa configuração"
   ]
  },
  {
   "cell_type": "code",
   "execution_count": 1,
   "id": "17034aae",
   "metadata": {},
   "outputs": [],
   "source": [
    "import pyspark\n",
    "\n",
    "conf = pyspark.SparkConf()\n",
    "conf.setAppName('Minha aplicação')\n",
    "conf.setMaster('local[*]')\n",
    "\n",
    "sc = pyspark.SparkContext(conf=conf)"
   ]
  },
  {
   "cell_type": "code",
   "execution_count": 2,
   "id": "6541dd61-3596-46fc-8d72-89a0b65dfd14",
   "metadata": {},
   "outputs": [],
   "source": [
    "#outras bibliotecas\n",
    "import numpy as np\n",
    "from functools import partial"
   ]
  },
  {
   "cell_type": "markdown",
   "id": "48ee29d0",
   "metadata": {},
   "source": [
    "O `SparkContext` é a nossa porta de entrada para o cluster Spark, ele será a raiz de todas as nossas operações com o Spark."
   ]
  },
  {
   "cell_type": "code",
   "execution_count": 3,
   "id": "c51ff835",
   "metadata": {},
   "outputs": [
    {
     "data": {
      "text/html": [
       "\n",
       "        <div>\n",
       "            <p><b>SparkContext</b></p>\n",
       "\n",
       "            <p><a href=\"http://4611c917afb8:4040\">Spark UI</a></p>\n",
       "\n",
       "            <dl>\n",
       "              <dt>Version</dt>\n",
       "                <dd><code>v3.3.1</code></dd>\n",
       "              <dt>Master</dt>\n",
       "                <dd><code>local[*]</code></dd>\n",
       "              <dt>AppName</dt>\n",
       "                <dd><code>Minha aplicação</code></dd>\n",
       "            </dl>\n",
       "        </div>\n",
       "        "
      ],
      "text/plain": [
       "<SparkContext master=local[*] appName=Minha aplicação>"
      ]
     },
     "execution_count": 3,
     "metadata": {},
     "output_type": "execute_result"
    }
   ],
   "source": [
    "sc"
   ]
  },
  {
   "cell_type": "markdown",
   "id": "c73ad9c4",
   "metadata": {},
   "source": [
    "O link acima provavelmente não funcionará porque ele se refere à porta 4040 interna do container (portanto a URL está com endereço interno). Porém fizemos o mapeamento da porta 4040 interna para a porta 4040 externa, logo você pode acessar o *dashboard* do Spark no endereço http://localhost:4040\n",
    "\n",
    "<center><img src=\"./spark_dashboard.png\" width=800/></center>"
   ]
  },
  {
   "cell_type": "markdown",
   "id": "0f2f404f",
   "metadata": {
    "jp-MarkdownHeadingCollapsed": true,
    "tags": []
   },
   "source": [
    "## Lendo os dados"
   ]
  },
  {
   "cell_type": "markdown",
   "id": "640d0a71",
   "metadata": {},
   "source": [
    "Vamos começar lendo o arquivo de reviews e gravando o resultado em formato pickle, mais amigável."
   ]
  },
  {
   "cell_type": "code",
   "execution_count": 4,
   "id": "c1fdacff",
   "metadata": {},
   "outputs": [],
   "source": [
    "def parse_line(line):\n",
    "    parts = line[1:-1].split('\",\"')\n",
    "    sentiment = int(parts[0])\n",
    "    title = parts[1].replace('\"\"', '\"')\n",
    "    body = parts[2].replace('\"\"', '\"')\n",
    "    return (sentiment, title, body)\n",
    "\n",
    "rdd = sc.textFile('train.csv').map(parse_line)"
   ]
  },
  {
   "cell_type": "markdown",
   "id": "09534fb8",
   "metadata": {},
   "source": [
    "Agora vamos gravar no formato pickle, para facilitar os trabalhos futuros. Após gravar o arquivo, não mais rode as células desta primeira etapa!"
   ]
  },
  {
   "cell_type": "code",
   "execution_count": 5,
   "id": "a2ff6700",
   "metadata": {},
   "outputs": [],
   "source": [
    "rdd.saveAsPickleFile('reviews.pickle')"
   ]
  },
  {
   "cell_type": "markdown",
   "id": "e734a1a2",
   "metadata": {},
   "source": [
    "## Um classificador Naive-Bayes"
   ]
  },
  {
   "cell_type": "markdown",
   "id": "dbc31b16",
   "metadata": {},
   "source": [
    "Vamos ler o arquivo pickle gravado anteriormente:"
   ]
  },
  {
   "cell_type": "code",
   "execution_count": 4,
   "id": "3d834bdc",
   "metadata": {},
   "outputs": [],
   "source": [
    "rdd = sc.pickleFile('reviews.pickle')"
   ]
  },
  {
   "cell_type": "markdown",
   "id": "2fabadc7",
   "metadata": {},
   "source": [
    "Agora, complete as tarefas em sequencia para construir o classificador Naive-Bayes:"
   ]
  },
  {
   "cell_type": "markdown",
   "id": "8128a9d1",
   "metadata": {},
   "source": [
    "### Fase 1"
   ]
  },
  {
   "cell_type": "markdown",
   "id": "da7eb425",
   "metadata": {},
   "source": [
    "#### Tarefa"
   ]
  },
  {
   "cell_type": "markdown",
   "id": "c7bb4343",
   "metadata": {},
   "source": [
    "Construa uma função que recebe um RDD no formato do RDD original e retorna um RDD no qual cada item é um par (palavra, contagem)."
   ]
  },
  {
   "cell_type": "code",
   "execution_count": 23,
   "id": "47bb6cfb",
   "metadata": {},
   "outputs": [],
   "source": [
    "def splita_frase(item):\n",
    "    return item[1].split() + item[2].split()\n",
    "\n",
    "def palavra_contagem(rdd):\n",
    "    return rdd.flatMap(splita_frase).map(lambda x: (x, 1)).reduceByKey(lambda x, y: x+y)"
   ]
  },
  {
   "cell_type": "code",
   "execution_count": 24,
   "id": "3b17c938-0a42-49e1-8208-335ea0f6dc70",
   "metadata": {},
   "outputs": [],
   "source": [
    "new = palavra_contagem(rdd)"
   ]
  },
  {
   "cell_type": "code",
   "execution_count": 25,
   "id": "46883d1e-c75f-4307-b786-e727ffb842cd",
   "metadata": {},
   "outputs": [
    {
     "data": {
      "text/plain": [
       "[('book', 1398748),\n",
       " ('Healing', 893),\n",
       " ('pyramid', 286),\n",
       " ('like', 930710),\n",
       " ('When', 119667),\n",
       " ('out', 667825),\n",
       " ('Tianca', 1),\n",
       " ('way.', 30976),\n",
       " ('decides', 4141),\n",
       " ('ambulance', 133)]"
      ]
     },
     "execution_count": 25,
     "metadata": {},
     "output_type": "execute_result"
    }
   ],
   "source": [
    "new.take(10)"
   ]
  },
  {
   "cell_type": "markdown",
   "id": "b5cf7be4",
   "metadata": {},
   "source": [
    "#### Tarefa"
   ]
  },
  {
   "cell_type": "markdown",
   "id": "50855d78",
   "metadata": {},
   "source": [
    "Construa uma função que recebe o RDD (palavra, contagem) construido anteriormente e retorna um RDD no qual cada item é um par (palavra, $\\log_{10}\\left(c \\, / \\, T\\right)$), onde $c$ é a contagem daquela palavra e $T$ é a soma das contagens de palavra."
   ]
  },
  {
   "cell_type": "code",
   "execution_count": 8,
   "id": "e922d14d",
   "metadata": {},
   "outputs": [],
   "source": [
    "total_ = new.reduce(lambda x, y: (\"tudo\", x[1] + y[1]))"
   ]
  },
  {
   "cell_type": "code",
   "execution_count": 9,
   "id": "1d50f175-6c65-4dc6-91ea-ffd884ab163f",
   "metadata": {},
   "outputs": [],
   "source": [
    "def logaritmo(rdd, T):\n",
    "    return rdd.map(lambda x: (x[0], np.log10(x[1]/T[1])))"
   ]
  },
  {
   "cell_type": "code",
   "execution_count": 10,
   "id": "042a89e2-64fe-456f-8e8f-fa6bfd163b43",
   "metadata": {},
   "outputs": [],
   "source": [
    "rdd_with_log = logaritmo(new, total_)"
   ]
  },
  {
   "cell_type": "code",
   "execution_count": 11,
   "id": "7c07b0ae-635e-4527-b118-f2ce10ac1bef",
   "metadata": {},
   "outputs": [
    {
     "data": {
      "text/plain": [
       "[('book', -2.3052565818700304),\n",
       " ('Healing', -5.500144601542316),\n",
       " ('pyramid', -5.994630027301819)]"
      ]
     },
     "execution_count": 11,
     "metadata": {},
     "output_type": "execute_result"
    }
   ],
   "source": [
    "rdd_with_log.take(3)"
   ]
  },
  {
   "cell_type": "markdown",
   "id": "ebff5c58",
   "metadata": {
    "tags": []
   },
   "source": [
    "#### Tarefa"
   ]
  },
  {
   "cell_type": "markdown",
   "id": "4e0e8e4a",
   "metadata": {},
   "source": [
    "Separe o RDD original em dois RDDs: o dos reviews positivos e o dos negativos. Em seguida, use as funções anteriores para construir RDDs que contem os pares (palavra, $\\log_{10}\\left(c \\, / \\, T\\right)$)"
   ]
  },
  {
   "cell_type": "code",
   "execution_count": 12,
   "id": "62c4e1f4-a476-4dcb-a638-921c14e3f997",
   "metadata": {},
   "outputs": [],
   "source": [
    "#ou seja, vamos reiniciar o processo, começando pela divisão e só depois aplicaremos o log e etc\n",
    "def filtra_categ(rdd, categ):\n",
    "    return rdd.filter(lambda x: x[0] == categ)"
   ]
  },
  {
   "cell_type": "code",
   "execution_count": 13,
   "id": "ca491f70",
   "metadata": {},
   "outputs": [],
   "source": [
    "positive = filtra_categ(rdd, 2)\n",
    "negative = filtra_categ(rdd, 1)"
   ]
  },
  {
   "cell_type": "markdown",
   "id": "9a0a295b-5d51-46d1-9827-e1adf97e7d49",
   "metadata": {},
   "source": [
    "### Verificando separação dos dados positivos"
   ]
  },
  {
   "cell_type": "code",
   "execution_count": 14,
   "id": "f16cdba0-51fd-4c22-849a-e08d4142a5aa",
   "metadata": {},
   "outputs": [
    {
     "data": {
      "text/plain": [
       "[(2,\n",
       "  'A great first novel by an American icon.',\n",
       "  \"Harrison's first novel is a great book. It shadows the irrevrant character of the novelist himself. From the purpose of the trip [to see wolves] to the final gorging of food in Ishpeming, Harrison takes one on a roller coaster of emotions all bundled up in the persona of a modern man trapped in a world he doesn't understand and that has long foresaken him. Wolf is a must read for Harrrison fans.\"),\n",
       " (2,\n",
       "  'Product Ordered',\n",
       "  'Order product and arrived on time and in great shape, would order again from this company - completely satisfied with book.'),\n",
       " (2,\n",
       "  'Two stories',\n",
       "  \"Mackenzie's Pleasure (4 stars): Zane protects Barrie. I still don't really understand why he left the Seals though.A Game of Chance (3 stars): Chance sets up Sunny. He should be kicked.Overall the Mackenzie series is well worth reading. Ms. Howard does have a knack for romance.\")]"
      ]
     },
     "execution_count": 14,
     "metadata": {},
     "output_type": "execute_result"
    }
   ],
   "source": [
    "#vamos verificar para os positivos\n",
    "positive.take(3)"
   ]
  },
  {
   "cell_type": "markdown",
   "id": "0744e0e5-17eb-48ec-8530-5a7b87801abf",
   "metadata": {},
   "source": [
    "### Verificando separação dos dados negativos"
   ]
  },
  {
   "cell_type": "code",
   "execution_count": 15,
   "id": "c8a9657d-9c94-418b-9444-1777d3664ab4",
   "metadata": {},
   "outputs": [
    {
     "data": {
      "text/plain": [
       "[(1,\n",
       "  'Rambling and Incoherent',\n",
       "  'I had read Sundog and Woman Lit by Fireflies and was excited to read more. This novel was a great disappointment. Harrison seemed to be exploring a prose style which mirrored the insanity of his alcohol deprived/cold turkey protagonist. It was a valiant effort but in the end - it failed misearably.'),\n",
       " (1,\n",
       "  'Disappointing',\n",
       "  'I too read this book and was deeply disappointed. A rambling story with no real satisfaction reached by the reader at the end. I rank this book right up there with \"Farmer\" and \"A good day to die\" as being one of Jim\\'s lessor works.'),\n",
       " (1,\n",
       "  'Dont waste your money',\n",
       "  \"I found this book to be a big disappointment. It is not an easy read and the majority of the book is full of what I considered useless information. The part of the book that is supposed to explain how to construct your own pyramid is the smallest section of the book and isn't even clearly defined. I have read 5 or 6 different pyramid books and this is the only one I found that didn't keep my interest and I couldn't use.\")]"
      ]
     },
     "execution_count": 15,
     "metadata": {},
     "output_type": "execute_result"
    }
   ],
   "source": [
    "negative.take(3)"
   ]
  },
  {
   "cell_type": "markdown",
   "id": "f067085c-96ed-47e7-8cfd-d74a5bc1ff02",
   "metadata": {},
   "source": [
    "Agora queremos que cada par positivo/negativo, tenha também o seu log(c/T)"
   ]
  },
  {
   "cell_type": "code",
   "execution_count": 16,
   "id": "a0d64570-93b6-413a-98c7-0da40dd74c03",
   "metadata": {},
   "outputs": [],
   "source": [
    "#agora sim que já separamos cada um, podemos realizar o processo de manipulação algebrica para encontras as probabilidades de cada palavra no seu contexto (positive ou negative)\n",
    "positive_ = palavra_contagem(positive)\n",
    "negative_ = palavra_contagem(negative)"
   ]
  },
  {
   "cell_type": "code",
   "execution_count": 17,
   "id": "5e90fdf6-debf-45ff-973e-0d87de48f5de",
   "metadata": {},
   "outputs": [],
   "source": [
    "total_positive = positive_.reduce(lambda x, y: (\"tudo\", x[1] + y[1]))\n",
    "total_negative = negative_.reduce(lambda x, y: (\"tudo\", x[1] + y[1]))"
   ]
  },
  {
   "cell_type": "code",
   "execution_count": 19,
   "id": "50f4d4ca-362f-40b8-b898-ca1e31e02e95",
   "metadata": {},
   "outputs": [],
   "source": [
    "positive_log = logaritmo(positive_, total_positive)\n",
    "negative_log = logaritmo(negative_, total_negative)"
   ]
  },
  {
   "cell_type": "markdown",
   "id": "472d16e0-0db2-497c-99df-7f50d4064006",
   "metadata": {},
   "source": [
    "### Verificando o output \n",
    "\n",
    "Agora que já fizemos a separação de reviews em contexto e calculamos as probabilidades em relação a uma palavra ser negativa ou positiva, podemos verificar o resultado abaixo:"
   ]
  },
  {
   "cell_type": "code",
   "execution_count": 20,
   "id": "335f0847-065f-42b9-b7d5-c724225a37e3",
   "metadata": {},
   "outputs": [
    {
     "data": {
      "text/plain": [
       "[('book', -2.272766745312638),\n",
       " ('Healing', -5.282237419514753),\n",
       " ('pyramid', -5.9961630875414125)]"
      ]
     },
     "execution_count": 20,
     "metadata": {},
     "output_type": "execute_result"
    }
   ],
   "source": [
    "positive_log.take(3)"
   ]
  },
  {
   "cell_type": "code",
   "execution_count": 21,
   "id": "88c9bc1b-48fd-4cca-86fa-1d823930c9ec",
   "metadata": {},
   "outputs": [
    {
     "data": {
      "text/plain": [
       "[('book', -2.3376666325195163),\n",
       " ('pyramid', -5.993215643498072),\n",
       " ('like', -2.4720889730358304)]"
      ]
     },
     "execution_count": 21,
     "metadata": {},
     "output_type": "execute_result"
    }
   ],
   "source": [
    "negative_log.take(3)"
   ]
  },
  {
   "cell_type": "markdown",
   "id": "414f149f",
   "metadata": {},
   "source": [
    "### Tarefa"
   ]
  },
  {
   "cell_type": "markdown",
   "id": "7cd81f9c",
   "metadata": {},
   "source": [
    "Use o `.fullOuterJoin()` dos RDDs para construir um RDD unificado, no qual cada item é da forma (palavra, log_prob_positivo, log_prob_negativo). \"Baixe\" esse resultado final usando `.collect()`."
   ]
  },
  {
   "cell_type": "code",
   "execution_count": 22,
   "id": "c51c37ab",
   "metadata": {},
   "outputs": [],
   "source": [
    "palavra_concat = positive_log.fullOuterJoin(negative_log).collect()"
   ]
  },
  {
   "cell_type": "markdown",
   "id": "2c380c05-f042-471a-a783-7db7536212d7",
   "metadata": {},
   "source": [
    "Vamos verificar as 10 primeiras palavras:"
   ]
  },
  {
   "cell_type": "code",
   "execution_count": 112,
   "id": "c389701a-4361-4e5e-81c7-182c3ea83df3",
   "metadata": {},
   "outputs": [
    {
     "data": {
      "text/plain": [
       "[('out', (-2.6616432990632193, -2.596022446951644)),\n",
       " ('ambulance', (-6.340491965199566, -6.3151435631912705)),\n",
       " ('Stars', (-4.739659538336522, -4.854012962539754)),\n",
       " ('family', (-3.4798931704033724, -3.9203467150039017)),\n",
       " ('sound,', (-4.343373450607565, -4.484889325271383)),\n",
       " ('Holiday', (-5.022630737344416, -5.465698194765326)),\n",
       " ('everyone,', (-4.776093194346103, -5.33903263885652)),\n",
       " ('outdoes', (-5.877611149594514, -6.634922994868091)),\n",
       " ('(and', (-3.7824224191001767, -3.795149282785406))]"
      ]
     },
     "execution_count": 112,
     "metadata": {},
     "output_type": "execute_result"
    }
   ],
   "source": [
    "palavra_concat[0:9]"
   ]
  },
  {
   "cell_type": "markdown",
   "id": "3491a21e-a5d9-423f-8887-81266012206a",
   "metadata": {},
   "source": [
    "## De lista para dicionário\n",
    "\n",
    "O resultado foi retornado em forma de lista, contudo, uma vez que vamos precisar consultar várias vezes probabilidades relacionadas a uma palavra que está contida na lista, teríamos que percorrer a lista até encontrar a palavra. No pior caso, a palavra poderia ser a última da lista, necessitando percorrer a lista inteira apenas para encontrar suas probabilidades.\n",
    "\n",
    "Se convertermos isso para um dicionário em que as chaves são as palavras, podemos de maneira simples consultar as probabilidades (uma complexidade bem menor)."
   ]
  },
  {
   "cell_type": "code",
   "execution_count": 9,
   "id": "234c3407-8d0d-42a8-9495-121953114b3e",
   "metadata": {},
   "outputs": [],
   "source": [
    "def coconvert_tupla_dict(list_tuplas):\n",
    "    return {k[0]: (k[1][0], k[1][1]) for k in list_tuplas}"
   ]
  },
  {
   "cell_type": "code",
   "execution_count": 43,
   "id": "7647ccda-c3a9-42b7-b97e-da62dc402be5",
   "metadata": {},
   "outputs": [],
   "source": [
    "palavra_concat_dict = convert_tupla_dict(palavra_concat)"
   ]
  },
  {
   "cell_type": "markdown",
   "id": "6f0b09be-75f8-49c9-ae38-7520863c7536",
   "metadata": {},
   "source": [
    "Pronto, com a mudança o processo se tornará muito mais rápido. Agora podemos prosseguir com a atividade!"
   ]
  },
  {
   "cell_type": "markdown",
   "id": "44bea261",
   "metadata": {},
   "source": [
    "#### Tarefa"
   ]
  },
  {
   "cell_type": "markdown",
   "id": "b9ff8703",
   "metadata": {},
   "source": [
    "Para uma dada string, determine se ela é um review positivo ou negativo usando os RDDs acima. Lembre-se de como funciona o classificador Naive-Bayes: http://stanford.edu/~jurafsky/slp3/slides/7_NB.pdf, consulte tambem suas notas de aula de Ciência dos Dados!"
   ]
  },
  {
   "cell_type": "code",
   "execution_count": 45,
   "id": "f9fe770f",
   "metadata": {},
   "outputs": [],
   "source": [
    "#vamos pegar um teste qualquer presente no dataset\n",
    "phrase = '''A complete waste of time. Typographical errors, poor grammar, and a totally pathetic plot add up to absolutely nothing. \n",
    "I'm embarrassed for this author and very disappointed I actually paid for this book.'''"
   ]
  },
  {
   "cell_type": "markdown",
   "id": "eae92ca0-4a63-4b65-b487-c87bab8c05e0",
   "metadata": {},
   "source": [
    "### Passo a passo \n",
    "\n",
    "Tendo a frase em mãos, precisaremos dividir ela em palavras e em seguida verificar a probabilidade para cada uma delas de estar presente em um contexto positivo ou negativo. Ao somar todas as probabilidade, se a probabilidade de ser negativo for maior, teremos uma frase negativa. Se for o contrário, teremos uma frase positiva =)"
   ]
  },
  {
   "cell_type": "code",
   "execution_count": 47,
   "id": "23ad8bd0-15d2-4de3-8484-2ddbffdb4735",
   "metadata": {},
   "outputs": [
    {
     "data": {
      "text/plain": [
       "['A',\n",
       " 'complete',\n",
       " 'waste',\n",
       " 'of',\n",
       " 'time.',\n",
       " 'Typographical',\n",
       " 'errors,',\n",
       " 'poor',\n",
       " 'grammar,',\n",
       " 'and',\n",
       " 'a',\n",
       " 'totally',\n",
       " 'pathetic',\n",
       " 'plot',\n",
       " 'add',\n",
       " 'up',\n",
       " 'to',\n",
       " 'absolutely',\n",
       " 'nothing.',\n",
       " \"I'm\",\n",
       " 'embarrassed',\n",
       " 'for',\n",
       " 'this',\n",
       " 'author',\n",
       " 'and',\n",
       " 'very',\n",
       " 'disappointed',\n",
       " 'I',\n",
       " 'actually',\n",
       " 'paid',\n",
       " 'for',\n",
       " 'this',\n",
       " 'book.']"
      ]
     },
     "execution_count": 47,
     "metadata": {},
     "output_type": "execute_result"
    }
   ],
   "source": [
    "all_terms = phrase.split()\n",
    "all_terms"
   ]
  },
  {
   "cell_type": "code",
   "execution_count": 10,
   "id": "8b7789bd-c4e9-4b7a-b8a5-b5e6ecd2b344",
   "metadata": {},
   "outputs": [],
   "source": [
    "def naive_bayes(words, reference):\n",
    "    #precisamos divir em palavras positivas e palavras negativas e somar a probabilidade total\n",
    "    positive = 0\n",
    "    negative = 0\n",
    "    \n",
    "    for word in words:\n",
    "        if word in reference:\n",
    "            if reference[word][0] != None:\n",
    "                positive += reference[word][0]\n",
    "            if reference[word][1] != None:\n",
    "                negative += reference[word][1]\n",
    "    \n",
    "    print(positive)\n",
    "    print(negative)\n",
    "    if positive > negative:\n",
    "        return \"positive\"\n",
    "\n",
    "    return \"negative\"\n",
    "    "
   ]
  },
  {
   "cell_type": "code",
   "execution_count": 49,
   "id": "3855ef20-b885-42c7-9582-b3347689e1fe",
   "metadata": {},
   "outputs": [
    {
     "name": "stdout",
     "output_type": "stream",
     "text": [
      "-112.3695899560691\n",
      "-104.0231864327492\n"
     ]
    },
    {
     "data": {
      "text/plain": [
       "'negative'"
      ]
     },
     "execution_count": 49,
     "metadata": {},
     "output_type": "execute_result"
    }
   ],
   "source": [
    "result = naive_bayes(all_terms, palavra_concat_dict)\n",
    "result"
   ]
  },
  {
   "cell_type": "markdown",
   "id": "08ecca46-d321-4d75-ae9d-6c6676f40a10",
   "metadata": {},
   "source": [
    "Aparentemente deu tudo certo, porque o resultado foi negativo e a mensagem que estávamos tentando classificar era sobre um leitor indignado com uma obra e sobre sua expectativa não ter sido atingida durante a leitura."
   ]
  },
  {
   "cell_type": "markdown",
   "id": "dd7ec3f1",
   "metadata": {},
   "source": [
    "### Fase 2"
   ]
  },
  {
   "cell_type": "markdown",
   "id": "f80fa7fe",
   "metadata": {},
   "source": [
    "Agora que temos um classificador Naive-Bayes, vamos explorá-lo um pouco:"
   ]
  },
  {
   "cell_type": "markdown",
   "id": "65e67dff",
   "metadata": {},
   "source": [
    "### Tarefa"
   ]
  },
  {
   "cell_type": "markdown",
   "id": "fb1bc2a4",
   "metadata": {},
   "source": [
    "Quais são as 100 palavras que mais indicam negatividade, ou seja, onde a diferença entre a probabilidade da palavra no conjunto dos comentários negativos e positivos é máxima? E quais as 100 palavras de maior positividade? Mostre os resultados na forma de *word clouds*."
   ]
  },
  {
   "cell_type": "code",
   "execution_count": 79,
   "id": "80be552f-b2a4-4273-aed8-067449c0bd5c",
   "metadata": {},
   "outputs": [],
   "source": [
    "palavra_rdd_concat = positive_log.fullOuterJoin(negative_log)"
   ]
  },
  {
   "cell_type": "markdown",
   "id": "4dd2744d-54af-4689-9ab1-700b65d9aed7",
   "metadata": {},
   "source": [
    "Abaixo estamos realizando várias ações que basicamente pegam a diferença da probabilidade de cada palavra e seleciona as mais negativas. Após isso, as tuplas são limpas para ficar apenas uma lista de **(palavra, diferença de prob)**"
   ]
  },
  {
   "cell_type": "code",
   "execution_count": 63,
   "id": "a88c54b6-eb1e-435c-b61e-636e5a3d52b2",
   "metadata": {},
   "outputs": [],
   "source": [
    "most_negative = palavra_rdd.filter(lambda x: x[1][0] != None).\\\n",
    "    filter(lambda x: x[1][1] != None).map(lambda x: (x[0], x[1][0], x[1][1], x[1][1] - x[1][0])).map(lambda x: (x[0], x[3])).takeOrdered(100, lambda x: -x[1])"
   ]
  },
  {
   "cell_type": "markdown",
   "id": "ae3c2495-c987-4b19-9c93-a738639075f5",
   "metadata": {},
   "source": [
    "Aqui estão as mais negativa:"
   ]
  },
  {
   "cell_type": "code",
   "execution_count": 64,
   "id": "f1ff0a25-3ae0-4f14-bbfd-ba4306293017",
   "metadata": {},
   "outputs": [
    {
     "data": {
      "text/plain": [
       "[('Worthless', 2.7038334385911877),\n",
       " ('Awful!', 2.63719133801127),\n",
       " ('Terrible!', 2.5171176927583643),\n",
       " ('Uninspired', 2.5055578415802504),\n",
       " ('Avoid!', 2.4941116436588127),\n",
       " ('Useless.', 2.491526549824319),\n",
       " ('Disappointed...', 2.491526549824319),\n",
       " ('JUNK!!!', 2.455032459287918),\n",
       " ('Junk!', 2.442636824735115),\n",
       " ('worthless!', 2.430374731773381),\n",
       " ('Worthless.', 2.4105265387055494),\n",
       " ('unfunny,', 2.404232305607861),\n",
       " ('Dull,', 2.390546268204961),\n",
       " ('Unreliable', 2.3502971087679043),\n",
       " ('JUNK!', 2.3466929844990796),\n",
       " ('Horrible.', 2.3181814431927394),\n",
       " ('Disappointing...', 2.3079162673656137),\n",
       " ('Horrible!', 2.3065952184933094),\n",
       " ('Tripe', 2.2782356038432283),\n",
       " ('Disappointment!', 2.259844297498919),\n",
       " ('Yawn', 2.2467565168608354),\n",
       " ('Boring,', 2.24440336171976),\n",
       " ('GARBAGE!', 2.2277446115799666),\n",
       " ('Atrocious', 2.2119944106016236),\n",
       " ('Unsatisfactory', 2.202010189695023),\n",
       " ('Disappointing.', 2.2011677171090014),\n",
       " ('Misrepresentation', 2.194368447401147),\n",
       " ('USELESS.', 2.186589830827529),\n",
       " ('Disappointing!', 2.18396568700138),\n",
       " ('Unimpressed', 2.175996757330105),\n",
       " ('Horrible!!', 2.175996757330105),\n",
       " ('TERRIBLE!!!', 2.1706017254433982),\n",
       " ('Blech.', 2.1596063411419353),\n",
       " ('WORST!', 2.1367434581824307),\n",
       " ('Disgusting.', 2.1278497450224485),\n",
       " ('SecuROM', 2.1278497450224485),\n",
       " ('Dissapointment', 2.113642583903479),\n",
       " ('Defective', 2.110064248327509),\n",
       " ('Dangerous!', 2.0935865411522814),\n",
       " ('YAWN', 2.0935865411522814),\n",
       " ('disappointment!!', 2.0935865411522814),\n",
       " ('Awful.', 2.088150994830926),\n",
       " ('Amateurish', 2.08540749561325),\n",
       " ('Junk.', 2.0837530384432377),\n",
       " ('Poorly', 2.0830470979726137),\n",
       " ('POS.', 2.0826465550882682),\n",
       " ('RUBBISH', 2.073691712435342),\n",
       " ('disappointing!!', 2.0668522879050366),\n",
       " ('Ugh', 2.0647792792821713),\n",
       " ('Plodding', 2.059903427949709),\n",
       " ('Disappointing', 2.059266165206015),\n",
       " ('Unwatchable', 2.058148700383158),\n",
       " ('REFUND.', 2.0563868542268713),\n",
       " ('Leaked', 2.0546178314880246),\n",
       " ('Drivel', 2.0474687896983603),\n",
       " ('Yawn...', 2.0456629888350983),\n",
       " ('E18', 2.0456629888350983),\n",
       " ('Terrible!!', 2.0420287041800043),\n",
       " ('drivel!', 2.0420287041800043),\n",
       " ('Disappointment', 2.0405664318157175),\n",
       " ('Awful,', 2.036783537985486),\n",
       " ('Dreadful!', 2.0346676045336354),\n",
       " ('HORRID', 2.0309397320143923),\n",
       " ('Insulting', 2.0309397320143923),\n",
       " ('Boring!', 2.021690129146842),\n",
       " ('Dissatisfied', 2.020839405110066),\n",
       " ('DISAPPOINTING!', 2.015699765457655),\n",
       " ('Worthless,', 2.015699765457655),\n",
       " ('Deceiving', 2.0137566101716526),\n",
       " ('Worst!', 2.0078744279456986),\n",
       " ('dreadful!', 2.0078744279456986),\n",
       " ('Ineffective', 2.0078744279456986),\n",
       " ('Junk!!', 2.003908240728097),\n",
       " ('Disappointed!!!', 1.9999054982744235),\n",
       " ('Unfunny', 1.9999054982744235),\n",
       " ('Inane', 1.9999054982744235),\n",
       " ('Monotonous', 1.9876710418574115),\n",
       " ('Worst.', 1.9814220925804102),\n",
       " ('Disappointed!', 1.9802549473417903),\n",
       " ('Disapointing', 1.9716622552912542),\n",
       " ('Boring!!', 1.9708031165701163),\n",
       " ('plague!', 1.9643048235331992),\n",
       " ('Unimaginative', 1.9621169373850238),\n",
       " ('Dreck', 1.9577078184799683),\n",
       " ('Boring.', 1.9537009726954784),\n",
       " ('BORING!!!!', 1.9532534770537184),\n",
       " ('tripe!', 1.9532534770537184),\n",
       " ('junk!!', 1.9510090561312659),\n",
       " ('disappointing!!!', 1.9442053480763217),\n",
       " ('Awful...', 1.9442053480763217),\n",
       " ('snoozer.', 1.9442053480763208),\n",
       " ('Tedious,', 1.9396095963871725),\n",
       " ('Leaks!', 1.9396095963871725),\n",
       " ('Dreadful.', 1.934964691341409),\n",
       " ('UGH', 1.9326234755265057),\n",
       " ('Unconvincing', 1.9302695701330288),\n",
       " ('Banal', 1.9302695701330288),\n",
       " ('Beware!!!', 1.9302695701330288),\n",
       " ('Stilted', 1.925523135108567),\n",
       " ('refund?', 1.925523135108567)]"
      ]
     },
     "execution_count": 64,
     "metadata": {},
     "output_type": "execute_result"
    }
   ],
   "source": [
    "most_negative"
   ]
  },
  {
   "cell_type": "code",
   "execution_count": 65,
   "id": "87f05e70-8404-4c50-bf5a-8460eea60f76",
   "metadata": {},
   "outputs": [],
   "source": [
    "most_positive = palavra_rdd.filter(lambda x: x[1][0] != None).\\\n",
    "    filter(lambda x: x[1][1] != None).map(lambda x: (x[0], x[1][0], x[1][1], x[1][0] - x[1][1])).map(lambda x: (x[0], x[3])).takeOrdered(100, lambda x: -x[1])"
   ]
  },
  {
   "cell_type": "markdown",
   "id": "aa9da3f5-14d1-4a07-ade1-7bdf77712dee",
   "metadata": {},
   "source": [
    "O processo foi repetido de maneira totalmente análoga para as palavras mais positivas. Ṕodemos perceber que o resultado abaixo faz sentido, se não são adjetivos positivos, são palavras facilmente imagináveis em contexto positivos, por exemplo 'must-read'."
   ]
  },
  {
   "cell_type": "code",
   "execution_count": 66,
   "id": "4a2d9581-e9f4-4d84-bf8e-35acb43b2f99",
   "metadata": {},
   "outputs": [
    {
     "data": {
      "text/plain": [
       "[('Excellent!!!', 2.4226843415770585),\n",
       " ('must-read!', 2.2430332717551567),\n",
       " ('Inspiring!', 2.226642855566988),\n",
       " ('Outstanding!', 2.220333381659981),\n",
       " ('Excellent!!', 2.1827373698679065),\n",
       " ('Adorable!', 2.173397343613763),\n",
       " ('Underrated', 2.1491287688868264),\n",
       " ('Bookwatch', 2.1407282268603938),\n",
       " ('Fantastic!!', 2.137321978168483),\n",
       " ('Excellent!', 2.0897600634096705),\n",
       " ('Gem!', 2.086596700695946),\n",
       " ('must-have!', 2.080793124596706),\n",
       " ('Insightful!', 2.0749109423707512),\n",
       " ('Awesome!!!', 1.987760766651851),\n",
       " ('Excelente', 1.9845317965216527),\n",
       " ('MUST!', 1.9829082638574391),\n",
       " ('FANTASTIC!!!', 1.9780009293626941),\n",
       " ('Pleasantly', 1.973750052209037),\n",
       " ('Beautiful!', 1.9658470395875813),\n",
       " ('Superb!', 1.95650307292141),\n",
       " ('Captivating!', 1.9473321095962426),\n",
       " ('Mesmerizing', 1.9366082442044705),\n",
       " ('Impressive!', 1.9311453485029677),\n",
       " ('Eye-opening', 1.9256128599030067),\n",
       " ('Inspirational!', 1.9256128599030067),\n",
       " ('Underappreciated', 1.908579520604226),\n",
       " ('Addictive!', 1.9027499769435021),\n",
       " ('Must-have', 1.899805596296722),\n",
       " ('uplifting!', 1.8968411173329818),\n",
       " ('Oustanding', 1.8847766059316013),\n",
       " ('Fabulous!', 1.882147166121917),\n",
       " ('REFRESHING', 1.8786162972267828),\n",
       " ('Overlooked', 1.8765432886039184),\n",
       " ('Awesome!!', 1.8723673479497824),\n",
       " ('Hit!', 1.8692088287049522),\n",
       " ('awesome!!!!!', 1.8660271699187625),\n",
       " ('Refreshing!', 1.8660271699187625),\n",
       " ('Magical!', 1.8660271699187625),\n",
       " ('Favorite!', 1.8595930599133528),\n",
       " ('must-see!', 1.8595930599133519),\n",
       " ('Rules!!', 1.8530621927543942),\n",
       " ('Amazing!!!!', 1.8530621927543942),\n",
       " ('Have!', 1.84975955720431),\n",
       " ('Finally!!!', 1.8464316138553816),\n",
       " ('FANTASTIC!!', 1.8396982311964134),\n",
       " ('lifesaver!', 1.8396982311964134),\n",
       " ('Amazing!!', 1.832858806666108),\n",
       " ('Fantastic!', 1.8281330311798332),\n",
       " ('Wonderful!', 1.8266875556596247),\n",
       " ('Fantastic!!!', 1.8259099467107802),\n",
       " ('Memories!', 1.8259099467107793),\n",
       " ('Outstanding!!', 1.8259099467107793),\n",
       " ('MASTERPIECE!', 1.818848092223293),\n",
       " ('Inspirational,', 1.818848092223293),\n",
       " ('Wonderful!!', 1.8164683904779393),\n",
       " ('Perfect!!!', 1.8116695075961697),\n",
       " ('Magnificent!', 1.8080352229410765),\n",
       " ('Delicious!', 1.8006741232947068),\n",
       " ('life-saver', 1.7817062842187266),\n",
       " ('EXCELLENT!!!', 1.7699147594891693),\n",
       " ('favorite!!', 1.765912017035495),\n",
       " ('Uplifting,', 1.765912017035494),\n",
       " ('Excellent,', 1.7651330132716447),\n",
       " ('Riveting,', 1.757794126813315),\n",
       " ('Poignant', 1.7557407211822573),\n",
       " ('Awesome!', 1.755328872425073),\n",
       " ('delight!', 1.7495216008473253),\n",
       " ('recomendable.', 1.7495216008473253),\n",
       " ('Perfect!', 1.7491237130669495),\n",
       " ('Outstanding', 1.7480575679784254),\n",
       " ('Spectacular!', 1.7453254862537175),\n",
       " ('HOOKED!', 1.7410884333104626),\n",
       " ('Superb.', 1.7368096353311877),\n",
       " ('Indispensible', 1.7324882615485455),\n",
       " ('Invaluable', 1.7324882615485455),\n",
       " ('INSPIRATIONAL', 1.7324882615485446),\n",
       " ('beautiful!!!', 1.7324882615485446),\n",
       " ('Engrossing,', 1.7324882615485446),\n",
       " ('Heartwarming', 1.7281234561460952),\n",
       " ('Riveting', 1.7270253658470436),\n",
       " ('Charming!', 1.7237143372410397),\n",
       " ('Life-changing', 1.7237143372410397),\n",
       " ('Wonderful!!!!', 1.7237143372410397),\n",
       " ('Outstanding,', 1.7086853468759209),\n",
       " ('must-buy.', 1.7056161151482438),\n",
       " ('believer!', 1.705616115148243),\n",
       " ('favorite!!!', 1.705616115148243),\n",
       " ('Beautiful!!!', 1.705616115148243),\n",
       " ('EXCELLENT!!!!', 1.705616115148243),\n",
       " ('Useful!', 1.705616115148243),\n",
       " ('Awsome!', 1.7025250381711023),\n",
       " ('EXCELLENT!!', 1.696276088894101),\n",
       " ('Recommended!!!', 1.6962760888941002),\n",
       " ('resource!', 1.694172963806336),\n",
       " ('Excellant', 1.6919632979215473),\n",
       " ('Non-Stop', 1.6867307709878698),\n",
       " ('Stand-out', 1.6867307709878698),\n",
       " ('joys,', 1.6769709336987138),\n",
       " ('AWESOME!!!!', 1.6769709336987138),\n",
       " ('PLEASANTLY', 1.6769709336987129)]"
      ]
     },
     "execution_count": 66,
     "metadata": {},
     "output_type": "execute_result"
    }
   ],
   "source": [
    "most_positive"
   ]
  },
  {
   "cell_type": "markdown",
   "id": "509d7efd",
   "metadata": {},
   "source": [
    "# Tarefa desafio!"
   ]
  },
  {
   "cell_type": "markdown",
   "id": "3f52f2f3",
   "metadata": {},
   "source": [
    "Qual o desempenho do classificador (acurácia)? Para medir sua acurácia:\n",
    "\n",
    "- Separe os reviews em dois conjuntos: treinamente e teste\n",
    "- Repita o \"treinamento\" do classificador com o conjunto de treinamento\n",
    "- Para cada review do conjunto de teste, determine se é positiva ou negativa de acordo com o classificador\n",
    "- Determine a acurácia\n",
    "\n",
    "Esta não é uma tarefa trivial. Não basta fazer um `for` para determinar a classe de cada review de teste: isso demoraria uma eternidade. Você tem que usar variáveis \"broadcast\" do Spark para enviar uma cópia da tabela de frequencias para cada *core* do executor."
   ]
  },
  {
   "cell_type": "markdown",
   "id": "d59f6945-c057-4f96-a293-f8605501f66c",
   "metadata": {},
   "source": [
    "### Parte 1 \n",
    "\n",
    "Vamos dividir o dataset em treino e teste. Boa notícia, o pyspark já tem um método pŕoprio para isso! https://spark.apache.org/docs/3.1.3/api/python/reference/api/pyspark.sql.DataFrame.randomSplit.html"
   ]
  },
  {
   "cell_type": "code",
   "execution_count": 11,
   "id": "147d9527-dfe2-4d28-bb99-8c82080db876",
   "metadata": {},
   "outputs": [],
   "source": [
    "train, test = rdd.randomSplit(weights=[80, 20], seed=42) #poderia ser adicionada aqui uma seed, facilitando debugs futuros"
   ]
  },
  {
   "cell_type": "code",
   "execution_count": 13,
   "id": "b2f87f2d-547b-41d5-869f-3cd474223ae8",
   "metadata": {},
   "outputs": [
    {
     "data": {
      "text/plain": [
       "[(2,\n",
       "  'A great first novel by an American icon.',\n",
       "  \"Harrison's first novel is a great book. It shadows the irrevrant character of the novelist himself. From the purpose of the trip [to see wolves] to the final gorging of food in Ishpeming, Harrison takes one on a roller coaster of emotions all bundled up in the persona of a modern man trapped in a world he doesn't understand and that has long foresaken him. Wolf is a must read for Harrrison fans.\"),\n",
       " (1,\n",
       "  'Rambling and Incoherent',\n",
       "  'I had read Sundog and Woman Lit by Fireflies and was excited to read more. This novel was a great disappointment. Harrison seemed to be exploring a prose style which mirrored the insanity of his alcohol deprived/cold turkey protagonist. It was a valiant effort but in the end - it failed misearably.'),\n",
       " (1,\n",
       "  'Disappointing',\n",
       "  'I too read this book and was deeply disappointed. A rambling story with no real satisfaction reached by the reader at the end. I rank this book right up there with \"Farmer\" and \"A good day to die\" as being one of Jim\\'s lessor works.')]"
      ]
     },
     "execution_count": 13,
     "metadata": {},
     "output_type": "execute_result"
    }
   ],
   "source": [
    "train.take(3)"
   ]
  },
  {
   "cell_type": "markdown",
   "id": "45481c0f-2571-4ad0-9249-3618628c171a",
   "metadata": {},
   "source": [
    "Agora que já separamos em treino e teste, podemos começar a treinar o modelo com o dataset de treino! Além disso, haverão palavras presentes no dataset de teste que não estarão no de treino e o contrário também pode ocorrer, por isso, vamos utilizar também o laplace smoothing (poderíamos até mudar a ordem das questões para que esse desafio ficasse após a questão de laplace, mas vamos apenas copiar a função)"
   ]
  },
  {
   "cell_type": "code",
   "execution_count": 12,
   "id": "97b71dca-246c-426f-b138-2d4789ea4088",
   "metadata": {},
   "outputs": [],
   "source": [
    "def naive_bayes_with_laplace(rdd, alfa, V, T):\n",
    "    return rdd.map(lambda x: (x[0], np.log( (x[1] + alfa)/(T[1] + V*alfa) ) ) )\n",
    "\n",
    "alfa = 100\n",
    "V = 250000"
   ]
  },
  {
   "cell_type": "code",
   "execution_count": 13,
   "id": "5779f33c-ee9e-49ed-945a-1afe52bb7936",
   "metadata": {},
   "outputs": [],
   "source": [
    "#vamos criar uma função que realiza todo o processo de treinamento, como um pipeline. Podemos até mesmo aproveitar todas as funções que ja fizemos:\n",
    "\n",
    "def treina_modelo(rdd, alfa, V):\n",
    "    \n",
    "    #primeiro separamos frases positivas e depois frases negativas\n",
    "    positive_quotes = filtra_categ(rdd, 2)\n",
    "    negative_quotes = filtra_categ(rdd, 1)\n",
    "    \n",
    "    #em seguida fazemos uma contagem da frequencia de cada palavra no seu contexto (positivo ou negativo)\n",
    "    positive_words_count = palavra_contagem(positive_quotes)\n",
    "    negative_words_count = palavra_contagem(negative_quotes)\n",
    "    \n",
    "    #agora precisamos do total de palavras no contexto \n",
    "    total_positives = positive_words_count.reduce(lambda x, y: (\"total\", x[1] + y[1])) #realizamos a soma da frequencia de cada palavra\n",
    "    total_negatives = positive_words_count.reduce(lambda x, y: (\"total\", x[1] + y[1]))\n",
    "    \n",
    "    #a proxima parte é o inicio da aplicação do naive bayes e vamos colocar o laplace smoothing. Se não colocassemos ele, teriamos que substituir os Nones por 0 nas palavras que\n",
    "    #nao aparecem\n",
    "    \n",
    "    positive_smoothing = naive_bayes_with_laplace(positive_words_count, alfa, V, total_positives)\n",
    "    negative_smoothing = naive_bayes_with_laplace(negative_words_count, alfa, V, total_negatives)\n",
    "    \n",
    "    #lembrando que não podemos deixar Nones \n",
    "    return positive_smoothing.fullOuterJoin(negative_smoothing).\\\n",
    "        map(lambda x: (x[0], (x[1][0], np.log10(alfa/(alfa*V)))) if x[1][1] == None else (x[0], (x[1][0],x[1][1]))).\\\n",
    "        map(lambda x: (x[0], (np.log10(alfa/(alfa*V)), x[1][1])) if x[1][0] == None else (x[0], (x[1][0],x[1][1]))).\\\n",
    "        collect() \n",
    "\n",
    "    '''\n",
    "        o collect vai retornar uma lista, na verdade poderiamos utilizar o collectAsMap \n",
    "        (https://spark.apache.org/docs/latest/api/python/reference/api/pyspark.RDD.collectAsMap.html),\n",
    "        que foi uma dica do Ayres durante o atendimento. Mas como já haviamos feito nossa propria função de conversão, vamos continuar utilizando-a =)\n",
    "    \n",
    "    '''\n",
    "    "
   ]
  },
  {
   "cell_type": "markdown",
   "id": "fd19b25a-4967-4830-8b81-d50a82d68dfe",
   "metadata": {},
   "source": [
    "As celulas abaixo foram para debug da pipeline, que inicialmente estava dando problemas. Preferimos deixar porque ela também representa a documentação do projeto ^^."
   ]
  },
  {
   "cell_type": "code",
   "execution_count": 98,
   "id": "ceaf9b27-0594-4649-9912-755ead0c2c4a",
   "metadata": {},
   "outputs": [],
   "source": [
    "#positive_quotes = filtra_categ(train, 2)\n",
    "#negative_quotes = filtra_categ(train, 1)"
   ]
  },
  {
   "cell_type": "code",
   "execution_count": 99,
   "id": "2688bbf0-58b7-4950-9736-c546d46ba0bf",
   "metadata": {},
   "outputs": [],
   "source": [
    "#positive_words_count = palavra_contagem(positive_quotes)\n",
    "#negative_words_count = palavra_contagem(negative_quotes)"
   ]
  },
  {
   "cell_type": "code",
   "execution_count": 100,
   "id": "d33f2a25-3843-4fc0-85c9-2450ff409acd",
   "metadata": {},
   "outputs": [],
   "source": [
    "#total_positives = positive_words_count.reduce(lambda x, y: (\"total\", x[1] + y[1])) #realizamos a soma da frequencia de cada palavra\n",
    "#total_negatives = positive_words_count.reduce(lambda x, y: (\"total\", x[1] + y[1]))"
   ]
  },
  {
   "cell_type": "code",
   "execution_count": 101,
   "id": "561f54ea-3b32-4f6d-ac46-484db44d1e11",
   "metadata": {},
   "outputs": [],
   "source": [
    "#positive_smoothing = naive_bayes_with_laplace(positive_words_count, alfa, V, total_positives)\n",
    "#negative_smoothing = naive_bayes_with_laplace(negative_words_count, alfa, V, total_negatives)"
   ]
  },
  {
   "cell_type": "markdown",
   "id": "bef7739f-85c0-4e76-8fc4-6e45858897ce",
   "metadata": {},
   "source": [
    "Vamos verificar a saída da pipeline:"
   ]
  },
  {
   "cell_type": "code",
   "execution_count": 14,
   "id": "42f11b77-dcc2-4e69-9385-71e87b09e026",
   "metadata": {},
   "outputs": [],
   "source": [
    "listao_modelo_treino = treina_modelo(train, alfa, V)"
   ]
  },
  {
   "cell_type": "markdown",
   "id": "6cfa76bb-e150-4073-b0ea-9c1f74aee2a8",
   "metadata": {},
   "source": [
    "Tudo aparenta estar nos conformes, então vamos seguir transformando a lista em um dicionario."
   ]
  },
  {
   "cell_type": "code",
   "execution_count": 15,
   "id": "ae797be4-5e70-47bc-b630-aed68b375257",
   "metadata": {},
   "outputs": [],
   "source": [
    "dicionarizao_modelo_treino = coconvert_tupla_dict(listao_modelo_treino)"
   ]
  },
  {
   "cell_type": "markdown",
   "id": "81bdd93f-e19b-4b2e-8727-d48c46876c93",
   "metadata": {},
   "source": [
    "Como o proprio enunciado do desafio diz, vamos precisar realizar o broadcast de variaveis. Vamos fazer isso agora:"
   ]
  },
  {
   "cell_type": "code",
   "execution_count": 16,
   "id": "5c59555d-6acc-4e5b-bd6b-3c6cc09f3cab",
   "metadata": {},
   "outputs": [],
   "source": [
    "bc_treino = sc.broadcast(dicionarizao_modelo_treino)"
   ]
  },
  {
   "cell_type": "code",
   "execution_count": 17,
   "id": "69b4185d-62ee-48e3-8fd0-0e1d46ffde42",
   "metadata": {},
   "outputs": [],
   "source": [
    "bc_alfa = sc.broadcast(alfa)\n",
    "bc_v = sc.broadcast(V)"
   ]
  },
  {
   "cell_type": "markdown",
   "id": "abeef0f0-ee50-4daf-8128-3aae6dae2434",
   "metadata": {},
   "source": [
    "O professor Ayres em aula sugeriu o uso do partial, então vamos fazer isso! Vamos precisar passar uma função pro partial e até fizemos uma função de NB que analisa as probabilidades quando realizamos o NB para uma frase de teste, mas precisaremos adaptar para utilizar no partial usando broadcast"
   ]
  },
  {
   "cell_type": "code",
   "execution_count": 18,
   "id": "0d2219d5-99bd-414c-b105-929589b0d072",
   "metadata": {},
   "outputs": [],
   "source": [
    "#deixaremos essa para quando não formos utilizar smoothing\n",
    "def naive_bayes_new(words, reference_bc):\n",
    "    #precisamos divir em palavras positivas e palavras negativas e somar a probabilidade total\n",
    "    positive = 0\n",
    "    negative = 0\n",
    "    \n",
    "    reference = reference_bc.value\n",
    "    \n",
    "    for word in words:\n",
    "        if word in reference:\n",
    "            if reference[word][0] != None:\n",
    "                positive += reference[word][0]\n",
    "            if reference[word][1] != None:\n",
    "                negative += reference[word][1]\n",
    "    \n",
    "    if positive > negative:\n",
    "        return 2\n",
    "\n",
    "    return 1\n",
    "\n",
    "'''\n",
    "essa sera utilizada para o smoothing. Aproveitamos para passar tanto alfa quanto v para encapsular, assim podemos testar varios valores \n",
    "que funcionem como hiperparametros do modelo e deixar o melhor.\n",
    "'''\n",
    "def naive_bayes_new_with_smoothing(words, reference_bc, v_bc, alfa_bc):\n",
    "    #precisamos divir em palavras positivas e palavras negativas e somar a probabilidade total\n",
    "    positive = 0\n",
    "    negative = 0\n",
    "    \n",
    "    reference = reference_bc.value\n",
    "    \n",
    "    for word in words:\n",
    "        if word in reference:\n",
    "            if reference[word][0] != None:\n",
    "                positive += reference[word][0]\n",
    "            else:\n",
    "                positive += np.log10(alfa_bc.value/(alfa_bc.value*v_bc.value))\n",
    "                \n",
    "            if reference[word][1] != None:\n",
    "                negative += reference[word][1]\n",
    "            else:\n",
    "                negative += np.log10(alfa_bc.value/(alfa_bc.value*v_bc.value))\n",
    "                \n",
    "    if positive > negative:\n",
    "        return 2\n",
    "\n",
    "    return 1"
   ]
  },
  {
   "cell_type": "markdown",
   "id": "8502ddec-1fe4-4285-a37b-43bfb5375ebd",
   "metadata": {},
   "source": [
    "Vamos criar o nosso partial e iniciar o processo de aplicação do modelo treinado nos testes"
   ]
  },
  {
   "cell_type": "code",
   "execution_count": 19,
   "id": "481ab318-262a-470a-892c-0a2be67d9d03",
   "metadata": {},
   "outputs": [],
   "source": [
    "NB_smooth_model = partial(naive_bayes_new_with_smoothing, reference_bc=bc_treino, v_bc=bc_v, alfa_bc=bc_alfa)"
   ]
  },
  {
   "cell_type": "code",
   "execution_count": 20,
   "id": "ade4a6a2-4d18-4101-bef0-45b78b34231e",
   "metadata": {},
   "outputs": [],
   "source": [
    "#vamos aplicar nosso teste\n",
    "result = test.map(lambda x: (x[0], splita_frase(x))).map(lambda x: (NB_smooth_model(words = x[1]), x[0]))"
   ]
  },
  {
   "cell_type": "code",
   "execution_count": 21,
   "id": "3d7189f3-d15d-4dbc-ad16-7f7e793f36da",
   "metadata": {},
   "outputs": [
    {
     "data": {
      "text/plain": [
       "[(1, 1),\n",
       " (1, 1),\n",
       " (1, 1),\n",
       " (1, 1),\n",
       " (1, 1),\n",
       " (2, 2),\n",
       " (1, 2),\n",
       " (1, 2),\n",
       " (1, 1),\n",
       " (1, 1)]"
      ]
     },
     "execution_count": 21,
     "metadata": {},
     "output_type": "execute_result"
    }
   ],
   "source": [
    "result.take(10)"
   ]
  },
  {
   "cell_type": "markdown",
   "id": "bfaffbc1-1b00-4a64-a223-72d1b36babb5",
   "metadata": {},
   "source": [
    "Agora temos que fazer uma contagem de quantas foram as que acertamos, porque com isso, basta fazer em relação ao total que teremos o quanto realmente foi a nossa acuracia. Para saber o quanto acertamos só precisamos de um filter no rdd comparando as tuplas."
   ]
  },
  {
   "cell_type": "markdown",
   "id": "4bd2671f-cc0e-486e-9bf7-f47d54471a2d",
   "metadata": {},
   "source": [
    "## Observação importante:\n",
    "\n",
    "Por algum motivo, realizar o collect direto ou o count do rdd filtrado apenas com os acertos, explode o consumo de memória RAM. Inicalmente estávamos no windows em que havia 6GB de RAM livre mas depois fizemos toda a mudança para o linux em que temos 12GB de RAM livre, mas nunca era suficiente e o processo explodia, matando o kernel. A única opção que se tornou viável foi a gambiarra abaixo, que possui todos os créditos para a dupla da Livia e do Bernardo. "
   ]
  },
  {
   "cell_type": "code",
   "execution_count": 18,
   "id": "5e550b26-70bd-4a34-b3d5-beb6bb7c00d2",
   "metadata": {},
   "outputs": [],
   "source": [
    "lista_correto = sc.broadcast(result.filter(lambda x: x[0] == x[1]).collect())"
   ]
  },
  {
   "cell_type": "code",
   "execution_count": null,
   "id": "38f51621-6879-4290-a2d3-dd00937ad57a",
   "metadata": {},
   "outputs": [],
   "source": [
    "n_acertos = len(lista_correto.value)"
   ]
  },
  {
   "cell_type": "code",
   "execution_count": 23,
   "id": "0349027c-38f2-4a3a-a6fa-76c302108094",
   "metadata": {},
   "outputs": [],
   "source": [
    "n_total = test.count()"
   ]
  },
  {
   "cell_type": "code",
   "execution_count": null,
   "id": "ef577680-ae86-4cdd-af16-758579042a00",
   "metadata": {},
   "outputs": [],
   "source": [
    "acuracia = n_acertos/n_total"
   ]
  },
  {
   "cell_type": "markdown",
   "id": "f39451fc",
   "metadata": {},
   "source": [
    "# Tarefa desafio!"
   ]
  },
  {
   "cell_type": "markdown",
   "id": "3d91afc5",
   "metadata": {},
   "source": [
    "Implemente Laplace smoothing"
   ]
  },
  {
   "cell_type": "markdown",
   "id": "7a13053b-271b-4e0e-bc66-82124668b0de",
   "metadata": {},
   "source": [
    "O que é o laplace smoothing e para que ele serve?\n",
    "\n",
    "Você pode ter percebido que logo no inicio do projeto, quando aplicamos o laplace, ocorreu que algumas palavras só apareciam em contextos positivos ou negativos, tendo uma probabilidade zero. O smoothing de laplace faz com que isso não ocorra, um fator de smoothing e o número total de palavras do dicionário na fórmula (uma estimativa do total de palavras)\n",
    "\n",
    "$P(w/positive)$ = $\\frac{\\alpha + positive}{N + \\alpha*V}$"
   ]
  },
  {
   "cell_type": "code",
   "execution_count": 56,
   "id": "0ea17a8c",
   "metadata": {},
   "outputs": [],
   "source": [
    "#valores retirados do projeto de cdados (https://github.com/wilgnerl/Projeto1-Cdados)\n",
    "alfa = 100\n",
    "V = 250000"
   ]
  },
  {
   "cell_type": "code",
   "execution_count": 42,
   "id": "a8b1d9e7-9885-4c57-9457-56ec30637c21",
   "metadata": {},
   "outputs": [],
   "source": [
    "def naive_bayes_with_laplace(rdd, alfa, V, T):\n",
    "    return rdd.map(lambda x: (x[0], np.log10( (x[1] + alfa)/(T[1] + V*alfa) ) ) )"
   ]
  },
  {
   "cell_type": "code",
   "execution_count": 43,
   "id": "e52ba996-6eb2-40d9-81c9-993bb8b9a2fa",
   "metadata": {},
   "outputs": [],
   "source": [
    "#Agora que temos o laplace smoothing, basta reaplicar nos testes que fizemos para verificar a diferença\n",
    "positive_smoothing = naive_bayes_with_laplace(positive_, alfa, V, total_positive)\n",
    "negative_smoothing = naive_bayes_with_laplace(negative_, alfa, V, total_negative)"
   ]
  },
  {
   "cell_type": "code",
   "execution_count": 44,
   "id": "d6f13e6c-e986-4079-af4c-4c06099b58c7",
   "metadata": {},
   "outputs": [
    {
     "data": {
      "text/plain": [
       "[('book', -2.346095596243699),\n",
       " ('Healing', -5.298323913072647),\n",
       " ('pyramid', -5.831524088674815),\n",
       " ('like', -2.5666435281488233)]"
      ]
     },
     "execution_count": 44,
     "metadata": {},
     "output_type": "execute_result"
    }
   ],
   "source": [
    "positive_smoothing.take(4)"
   ]
  },
  {
   "cell_type": "code",
   "execution_count": 45,
   "id": "289ab00b-d870-4b25-bf07-a5affa2ff31f",
   "metadata": {},
   "outputs": [
    {
     "data": {
      "text/plain": [
       "[('book', -2.40594650080964),\n",
       " ('pyramid', -5.838546852526434),\n",
       " ('like', -2.540345474299366),\n",
       " ('out', -2.664249960582503)]"
      ]
     },
     "execution_count": 45,
     "metadata": {},
     "output_type": "execute_result"
    }
   ],
   "source": [
    "negative_smoothing.take(4)"
   ]
  },
  {
   "cell_type": "markdown",
   "id": "15b6c26d-b5ff-4cbe-ae75-a06d073d3941",
   "metadata": {},
   "source": [
    "### Atenção!\n",
    "\n",
    "Opa! Mas dessa vez não é só juntar o smoothing dos negativos e dos positivos com o fullOuterJoin? Não, porque quando o join ocorrer, ele vai tentar juntar palavras que talvez só existam em um contexto, e por isso, uma das probabilidades será None! Nesse caso, é preciso reaplicar o laplace pra esses casos que são desconhecidos =)"
   ]
  },
  {
   "cell_type": "code",
   "execution_count": 59,
   "id": "4d9a52c2-d4f8-4433-800b-8221391bc342",
   "metadata": {},
   "outputs": [],
   "source": [
    "palavra_concat_smooth = positive_smoothing.fullOuterJoin(negative_smoothing).\\\n",
    "    map(lambda x: (x[0], (x[1][0], np.log10(alfa/(alfa*V)))) if x[1][1] == None else (x[0], (x[1][0],x[1][1]))).\\\n",
    "    map(lambda x: (x[0], (np.log10(alfa/(alfa*V)), x[1][1])) if x[1][0] == None else (x[0], (x[1][0],x[1][1]))).\\\n",
    "    collect()"
   ]
  },
  {
   "cell_type": "markdown",
   "id": "ef9a3cf3-bc8a-4b37-af38-06ccac3facf2",
   "metadata": {},
   "source": [
    "Sabemos que nenhum dado foi perdido porque o tamanho da lista continua igual a como era na fase 2 do projeto! "
   ]
  },
  {
   "cell_type": "code",
   "execution_count": 60,
   "id": "8373f529-ec20-4d86-998c-3d595cd5625d",
   "metadata": {},
   "outputs": [
    {
     "data": {
      "text/plain": [
       "4950593"
      ]
     },
     "execution_count": 60,
     "metadata": {},
     "output_type": "execute_result"
    }
   ],
   "source": [
    "len(palavra_concat_smooth)"
   ]
  },
  {
   "cell_type": "markdown",
   "id": "5fb37a0f-f0d0-4059-8491-e55ea9a6be8a",
   "metadata": {},
   "source": [
    "As palavras que não existem em um contexto ficaram com a probabilidade de -5.3979400086720375. Consegue perceber abaixo? "
   ]
  },
  {
   "cell_type": "code",
   "execution_count": 61,
   "id": "5d9f6839-5095-4214-b0e9-f8b91eeae419",
   "metadata": {},
   "outputs": [
    {
     "data": {
      "text/plain": [
       "[('out', (-2.734885365374987, -2.664249960582503)),\n",
       " ('ambulance', (-5.996757420142288, -6.001750089230017)),\n",
       " ('Stars', (-4.795832648474573, -4.901702169798683)),\n",
       " ('family', (-3.552317429857434, -3.9862334674012705)),\n",
       " ('sound,', (-4.409767483131622, -4.544284306375992)),\n",
       " ('Holiday', (-5.0635701889473035, -5.455149708364345)),\n",
       " ('everyone,', (-4.830791720066347, -5.347128899286434)),\n",
       " ('outdoes', (-5.7591144033427, -6.1076414012573625)),\n",
       " ('(and', (-3.85387764671081, -3.8616502125434433)),\n",
       " ('profanities),', (-6.201951060902276, -5.3979400086720375)),\n",
       " ('kinda', (-4.446680126038944, -4.479633933227099)),\n",
       " ('ALWAYS', (-5.017625138685202, -5.120802847315334)),\n",
       " (\"BURTON'S\", (-6.1934352099797465, -5.3979400086720375)),\n",
       " ('matter,', (-5.077550150346492, -4.984326197313276)),\n",
       " ('Calvary', (-6.004875310364468, -6.124156489322921)),\n",
       " ('cute', (-4.124817106862345, -4.2650507885036975)),\n",
       " ('serviceable', (-5.861880160999808, -5.756179704028327)),\n",
       " ('Olvidan\"', (-6.201951060902276, -5.3979400086720375)),\n",
       " ('narrative', (-4.633052607570497, -4.6759176748051585)),\n",
       " ('Christianity,', (-5.623073660716296, -5.539264523131973)),\n",
       " ('overtones', (-5.608577248759406, -5.700720093566035)),\n",
       " ('common', (-4.2448988070901175, -4.189736338716346)),\n",
       " (\"Europe's\", (-5.8882090997221574, -6.030626216966246)),\n",
       " ('mentalite,', (-6.201951060902276, -5.3979400086720375)),\n",
       " ('walk-up', (-6.189239095386139, -6.226146027860253)),\n",
       " ('start', (-3.641251506339625, -3.729229939836431)),\n",
       " ('gift', (-3.6863394881581084, -3.9816506137731387)),\n",
       " ('favors', (-5.737925104272762, -5.654962603005361)),\n",
       " ('ape', (-5.857967571636758, -5.769363348173752)),\n",
       " ('Mildly', (-6.085698503479069, -5.6104641037865015)),\n",
       " ('residents.', (-5.905242439020937, -6.091731399368075)),\n",
       " ('lesson.', (-5.31641071342673, -5.252927592451506)),\n",
       " ('willing', (-4.529944700803599, -4.423238219676843)),\n",
       " ('adventure.', (-4.848147149408271, -5.413888210182471)),\n",
       " ('thankful!!!', (-6.201951060902276, -5.3979400086720375)),\n",
       " ('stars!!!!', (-6.079167636320111, -6.091731399368075)),\n",
       " ('faked,', (-6.185083135614981, -6.170288210395252)),\n",
       " ('fuel', (-5.11991260401017, -5.086760878938366)),\n",
       " ('WWII.', (-5.266254279677256, -5.643681592595671)),\n",
       " ('im', (-4.494043765065383, -4.4781100913763225)),\n",
       " ('optional', (-5.394027737884549, -5.578647997609338)),\n",
       " ('pleased.', (-4.6599765995634765, -5.286333233843569)),\n",
       " ('accessories', (-4.946439735621436, -5.085219185867823)),\n",
       " ('stripped.', (-6.109362421676862, -5.707116298750831)),\n",
       " ('LOOOOOOVED', (-6.1934352099797465, -5.3979400086720375)),\n",
       " ('subway', (-5.547307592020484, -5.653821223946551)),\n",
       " ('favorite.', (-4.466620990975542, -5.181283594696715)),\n",
       " ('particularly', (-4.138309345183654, -4.250984639336005)),\n",
       " ('belief', (-4.958053873494844, -4.892323518799964)),\n",
       " ('meets', (-4.40665623020342, -4.669134474720112)),\n",
       " ('ghost', (-4.8934606084728305, -4.839944422459459)),\n",
       " ('Tribe', (-5.727705939091075, -5.854534957910564)),\n",
       " ('disc.', (-4.684350189801418, -4.663270295940227)),\n",
       " ('rim', (-5.46041723951119, -5.238234527467991)),\n",
       " ('Too', (-4.353000210664236, -3.6856325377783317)),\n",
       " ('dipping', (-5.67864253381358, -5.728241167217298)),\n",
       " ('hers', (-5.1163673232455205, -5.175561581990799)),\n",
       " ('unlock', (-5.262283559611147, -5.300247748378602)),\n",
       " ('doge', (-6.189239095386139, -6.221908974916998)),\n",
       " ('Pistols,', (-6.010372782275685, -6.041621601267709)),\n",
       " ('Say', (-4.9861643466448635, -5.0827638041646965)),\n",
       " ('Greetings', (-5.958299168323112, -5.958284395448926)),\n",
       " ('ye.This', (-6.201951060902276, -5.3979400086720375)),\n",
       " (\"'Mystery\", (-6.168845936744295, -6.21771286032339)),\n",
       " ('stash', (-5.649969933917632, -5.9145999135111165)),\n",
       " ('there...', (-5.558889464570299, -5.468333352509771)),\n",
       " ('nipple', (-5.531411293947107, -5.321992895950848)),\n",
       " ('stunning', (-4.599998581514931, -5.168420274260132)),\n",
       " ('precocious', (-5.827874533736781, -5.8844981812880075)),\n",
       " ('Dawn.', (-6.013147836330457, -6.055769252329001)),\n",
       " ('\"Neil', (-6.1531939912014995, -6.205362421936961)),\n",
       " ('all?', (-5.743874436785963, -5.445871083846754)),\n",
       " ('topping', (-5.677355734407264, -5.842049246362505)),\n",
       " ('substance.', (-5.539754454130038, -4.8051553973988685)),\n",
       " ('enhanced', (-4.987474436573181, -5.34209516574487)),\n",
       " ('OK.', (-5.137715539612556, -4.765955937522559)),\n",
       " ('Body', (-4.950758721865386, -5.097392088251437)),\n",
       " ('elasticity.', (-6.145574594331307, -6.148386368947422)),\n",
       " ('it.Stings', (-6.201951060902276, -5.3979400086720375)),\n",
       " ('Nonetheless,', (-5.226724059980824, -5.571045274232522)),\n",
       " ('Shirley', (-5.172446740731608, -5.410620365705621)),\n",
       " ('\"who\\'s', (-6.038955099936743, -6.127536229974302)),\n",
       " ('stinkers)', (-6.201951060902276, -6.226146027860253)),\n",
       " ('fatal', (-5.569784538331553, -5.1512435797919025)),\n",
       " ('relief?', (-6.1934352099797465, -6.205362421936961)),\n",
       " ('father.The', (-6.160949455898261, -6.193353514463945)),\n",
       " ('54', (-5.6380707106179235, -5.658404849416377)),\n",
       " ('adapter.', (-5.2722792708536765, -5.0745779066636585)),\n",
       " ('destruction', (-5.208449353939193, -5.314101198215383)),\n",
       " ('Kenny', (-5.084712590497418, -5.239989255034542)),\n",
       " ('YES', (-5.351359412377064, -5.539264523131973)),\n",
       " ('Christian', (-4.174823572825535, -4.299541332195589)),\n",
       " ('Polk', (-5.568782705172408, -5.888393225171532)),\n",
       " ('Cole', (-5.135865112944799, -5.343766602632481)),\n",
       " ('differentiates', (-6.0330861662726445, -6.098025632465763)),\n",
       " ('Among', (-5.148226204289637, -5.433342489604815)),\n",
       " (\"Bird',\", (-6.189239095386139, -5.3979400086720375)),\n",
       " ('Resurrected', (-6.1570544120147375, -6.21771286032339)),\n",
       " ('Arizona', (-5.362417012061758, -5.576734802965058)),\n",
       " ('devoted', (-4.883846382278966, -4.80033699203467)),\n",
       " ('teaching', (-4.332603141978124, -4.576162484215107)),\n",
       " ('church.', (-5.124925126880786, -5.387790874602346)),\n",
       " ('approaches', (-5.0437080281619, -5.34209516574487)),\n",
       " ('AC', (-5.045803903565881, -4.88566303084258)),\n",
       " ('FeatureThis', (-6.201951060902276, -5.3979400086720375)),\n",
       " ('diagnosed', (-5.129996179280702, -5.472067635894734)),\n",
       " ('herb', (-5.549216581827815, -5.740591605603727)),\n",
       " ('WONDERFUL!', (-5.591375218651784, -6.15919923822964)),\n",
       " ('youth...reminding', (-6.201951060902276, -5.3979400086720375)),\n",
       " ('Insightful', (-5.257370673714705, -6.064484484227213)),\n",
       " ('backround', (-5.654822436712044, -5.6956701008293935)),\n",
       " ('USALLY', (-6.197672262923001, -6.205362421936961)),\n",
       " ('Puritan', (-5.950999929581613, -6.067428864873994)),\n",
       " ('accused.', (-6.082420793717833, -6.181667756138751)),\n",
       " ('decade', (-4.915792621354246, -5.095496982050563)),\n",
       " ('nights', (-4.858942419367969, -5.101526742889676)),\n",
       " ('Ringer', (-6.085698503479069, -6.117474903966406)),\n",
       " ('specifics', (-5.5073024303489, -5.485783338366009)),\n",
       " ('dance-ability', (-6.197672262923001, -5.3979400086720375)),\n",
       " ('Remix\"', (-6.09568272438567, -6.174048359268559)),\n",
       " ('corny', (-5.181786766985752, -4.913769522279347)),\n",
       " ('(Special', (-5.929810630511675, -6.025231185079539)),\n",
       " ('Pulp', (-5.600967388543809, -5.6305201465377)),\n",
       " ('w/Magnolia,', (-6.201951060902276, -5.3979400086720375)),\n",
       " ('her?', (-5.7079618808953185, -5.481929768433899)),\n",
       " (\"'Boogie\", (-6.172848679197969, -6.21771286032339)),\n",
       " ('inexplicaple', (-6.201951060902276, -5.3979400086720375)),\n",
       " ('emotion.', (-5.120625146388062, -5.3696422249810425)),\n",
       " ('indicator', (-5.28510638404718, -5.066543452779539)),\n",
       " ('guard', (-5.079167636320111, -5.017262255408264)),\n",
       " ('word.It', (-6.176888656999709, -6.2094403343574)),\n",
       " ('jeans', (-5.070503920117097, -5.106993683789197)),\n",
       " ('\"Politically', (-6.138086572938757, -6.155564953574546)),\n",
       " ('shrinkage', (-6.057053322029539, -6.030626216966246)),\n",
       " ('resist.', (-5.712117840666476, -5.96058835035849)),\n",
       " ('it.Frankly', (-6.189239095386139, -5.3979400086720375)),\n",
       " ('\"Passion\",', (-6.1934352099797465, -6.226146027860253)),\n",
       " ('listens', (-4.928205103796256, -5.225295303823477)),\n",
       " ('dipicting', (-6.189239095386139, -6.2094403343574)),\n",
       " ('destination;', (-6.176888656999709, -6.226146027860253)),\n",
       " ('Dickens', (-5.400771576526519, -5.525476238646339)),\n",
       " ('fusion', (-5.098723304940233, -5.512112277088358)),\n",
       " ('seves', (-6.1934352099797465, -6.230424825839528)),\n",
       " ('family.Rattlesnakes,', (-6.201951060902276, -5.3979400086720375)),\n",
       " ('elements:', (-6.047909942589669, -6.091731399368075)),\n",
       " ('AFRICAN', (-6.041919578900481, -6.101207291251953)),\n",
       " ('genius,', (-5.265258190979349, -5.481163140729263)),\n",
       " ('uses.', (-5.164485115713167, -4.857622157275714)),\n",
       " ('Track', (-4.842096801914299, -5.230424825839528)),\n",
       " ('Small', (-4.696935476667274, -4.818438612562288)),\n",
       " ('toned...this', (-6.201951060902276, -5.3979400086720375)),\n",
       " ('one.All', (-6.099062465037051, -6.170288210395252)),\n",
       " ('goapele,', (-6.201951060902276, -5.3979400086720375)),\n",
       " ('night,and', (-6.164879749526694, -6.21771286032339)),\n",
       " ('jazz,', (-4.992489135349615, -5.513760455468431)),\n",
       " ('place\"', (-5.9861643466448635, -6.055769252329001)),\n",
       " ('Heart,', (-5.577883504634607, -5.854534957910564)),\n",
       " ('Tricks', (-5.871818683533988, -5.972295109891741)),\n",
       " ('nowadays.', (-5.493622733057707, -5.674839574586057)),\n",
       " ('spare,', (-5.698416562989088, -5.9145999135111165)),\n",
       " ('decribe', (-6.085698503479069, -6.124156489322921)),\n",
       " ('gengre', (-6.197672262923001, -5.3979400086720375)),\n",
       " ('\"Trigger,\"', (-6.201951060902276, -5.3979400086720375)),\n",
       " ('entertainment/', (-6.201951060902276, -5.3979400086720375)),\n",
       " ('Narration', (-6.0663933482836825, -6.027920323590321)),\n",
       " ('Easter', (-5.308645343394478, -5.534908473754925)),\n",
       " ('reccommened', (-6.141814445458, -6.213556900552232)),\n",
       " ('Bros.', (-5.4361571398978175, -5.439561609939746)),\n",
       " ('Young)and', (-6.201951060902276, -5.3979400086720375)),\n",
       " ('overly', (-4.691724682024633, -4.505500392396864)),\n",
       " ('fridge...', (-6.201951060902276, -6.2094403343574)),\n",
       " ('mathematics', (-5.283028416054642, -5.423171193751577)),\n",
       " ('games.', (-4.629585629483923, -4.700085623793726)),\n",
       " ('IS!!!!!.', (-6.201951060902276, -5.3979400086720375)),\n",
       " ('HEAVY', (-5.5055687175399, -5.62408603653229)),\n",
       " ('snatch', (-5.745374591928371, -5.962904593085671)),\n",
       " ('Electronics', (-5.737925104272762, -5.525476238646339)),\n",
       " ('sufficiently', (-5.457309573428757, -5.373809578922077)),\n",
       " ('PDA,', (-5.911806208523326, -5.833345658840626)),\n",
       " ('USA,', (-5.47549015901853, -5.43060676728682)),\n",
       " ('stylus--until', (-6.201951060902276, -5.3979400086720375)),\n",
       " ('notify', (-5.94382134495449, -5.6359556928590555)),\n",
       " ('shorter,', (-5.7591144033427, -5.693166955675589)),\n",
       " ('dynasty!', (-6.197672262923001, -6.230424825839528)),\n",
       " ('Bikinis', (-6.189239095386139, -6.2094403343574)),\n",
       " ('freeze', (-5.201521279093917, -4.897886378705361)),\n",
       " ('cooking...i', (-6.201951060902276, -5.3979400086720375)),\n",
       " ('worked.There', (-6.197672262923001, -6.221908974916998)),\n",
       " ('TRIED', (-5.765363352619701, -5.31098423879347)),\n",
       " ('Mclean,', (-6.189239095386139, -6.226146027860253)),\n",
       " ('hateful', (-5.786316686195161, -5.395897108884915)),\n",
       " ('cards.If', (-6.1934352099797465, -6.221908974916998)),\n",
       " ('double-packed', (-6.201951060902276, -5.3979400086720375)),\n",
       " ('journies', (-6.089001139029154, -6.205362421936961)),\n",
       " ('evil.', (-5.215933579897317, -5.281469862954866)),\n",
       " ('reaching', (-5.013983822116798, -5.132999125675804)),\n",
       " ('Slow', (-5.127815616631626, -4.800177295587972)),\n",
       " ('CIU', (-6.201951060902276, -5.3979400086720375)),\n",
       " ('complain', (-4.626603141130198, -4.738647207489599)),\n",
       " ('PRISONER', (-6.141814445458, -6.213556900552232)),\n",
       " (',INTO', (-6.201951060902276, -5.3979400086720375)),\n",
       " ('crochet.', (-6.030181175629237, -6.0703933438377335)),\n",
       " (\"daughter's\", (-4.742379445699012, -4.850751410180438)),\n",
       " ('Dish', (-5.593488577965183, -5.62515179039695)),\n",
       " ('24', (-4.669713992113389, -4.557230494823413)),\n",
       " ('Way\"', (-5.451160168289848, -5.694416724831297)),\n",
       " ('harmonica', (-5.455764039833572, -5.751872616013417)),\n",
       " ('Henderson', (-5.6890765367349445, -5.940279973460577)),\n",
       " ('you?', (-5.252029925245594, -5.102486510091126)),\n",
       " (\"Impossible'\", (-6.189239095386139, -6.230424825839528)),\n",
       " ('lyric', (-5.268253337208709, -5.507204942593614)),\n",
       " ('changes.', (-5.1871561442378455, -5.263006608734392)),\n",
       " ('intoduction', (-6.089001139029154, -6.193353514463945)),\n",
       " ('character.Bottom', (-6.201951060902276, -5.3979400086720375)),\n",
       " ('Maurius', (-6.201951060902276, -5.3979400086720375)),\n",
       " ('Intrigue', (-5.856024416350756, -6.11417226841632)),\n",
       " ('Macomber,\"', (-6.201951060902276, -5.3979400086720375)),\n",
       " ('Blonsky,', (-6.189239095386139, -5.3979400086720375)),\n",
       " ('ASAP', (-5.844544598667326, -5.678443698854883)),\n",
       " ('vocalist.', (-5.658497729297096, -5.836806190950132)),\n",
       " ('non-compared', (-6.201951060902276, -5.3979400086720375)),\n",
       " ('minutes,', (-4.830060584402246, -4.511454753144586)),\n",
       " ('internment', (-5.948593859815734, -6.055769252329001)),\n",
       " (\"Symphony'),\", (-6.201951060902276, -5.3979400086720375)),\n",
       " ('Amon,', (-6.197672262923001, -5.3979400086720375)),\n",
       " ('los', (-4.676072736481837, -5.059234386258723)),\n",
       " ('software!', (-5.996757420142288, -5.818105692283889)),\n",
       " ('Sickness.', (-6.176888656999709, -6.193353514463945)),\n",
       " ('visible', (-5.141814445458, -4.963601881673092)),\n",
       " ('bird', (-4.81888260834619, -4.916265474447653)),\n",
       " ('beautiful.Give', (-6.197672262923001, -5.3979400086720375)),\n",
       " ('roots.', (-5.345934428113925, -5.571988367940596)),\n",
       " ('unappealed', (-6.201951060902276, -5.3979400086720375)),\n",
       " ('Chains', (-5.674793517642664, -5.751872616013417)),\n",
       " ('instructor', (-4.9204901609055245, -4.850572060815137)),\n",
       " ('school)', (-5.905242439020937, -6.050054768804571)),\n",
       " ('disliked', (-5.394027737884549, -4.916056929674425)),\n",
       " ('curious!', (-6.127091188637294, -6.213556900552232)),\n",
       " ('engagingly', (-5.916237823322401, -6.1309424786662134)),\n",
       " ('she!', (-6.123487064368469, -6.185528176951989)),\n",
       " ('Begining', (-6.02729548739175, -6.137836186614114)),\n",
       " ('expect?', (-5.627633224716846, -5.735059117003766)),\n",
       " ('breakdowns', (-5.827874533736781, -5.951444970918621)),\n",
       " ('Band.', (-5.5628197581987315, -5.775353711862939)),\n",
       " ('world.love', (-6.201951060902276, -5.3979400086720375)),\n",
       " ('Oscar,', (-5.881989979387226, -6.025231185079539)),\n",
       " ('organization,', (-5.575844559659895, -5.619848983589035)),\n",
       " ('larger.', (-5.468285108351488, -5.508834567327122)),\n",
       " (\"Asheim's\", (-6.201951060902276, -5.3979400086720375)),\n",
       " ('spends', (-5.02729548739175, -4.653365510912184)),\n",
       " ('(collaborated)', (-6.201951060902276, -5.3979400086720375)),\n",
       " ('Diseases', (-6.085698503479069, -6.189423220835513)),\n",
       " ('Surreal!', (-6.185083135614981, -5.3979400086720375)),\n",
       " ('meet,', (-5.760668231411321, -5.863678337350434)),\n",
       " ('enlightened,', (-6.041919578900481, -6.047225478785707)),\n",
       " ('jerk-off)', (-6.201951060902276, -5.3979400086720375)),\n",
       " ('arrived.Julie', (-6.201951060902276, -5.3979400086720375)),\n",
       " ('Yoganandaji', (-6.197672262923001, -5.3979400086720375)),\n",
       " ('esque.', (-6.197672262923001, -5.3979400086720375)),\n",
       " ('peruse.', (-6.1163673232455205, -6.2094403343574)),\n",
       " ('dogs(9', (-6.201951060902276, -5.3979400086720375)),\n",
       " ('firemans', (-6.197672262923001, -6.230424825839528)),\n",
       " ('sister.', (-5.128904529400763, -5.410620365705621)),\n",
       " ('Scrumpy.', (-6.201951060902276, -6.226146027860253)),\n",
       " ('especialy', (-5.705213172467167, -5.9208789792530165)),\n",
       " ('children!!!', (-6.145574594331307, -6.155564953574546)),\n",
       " ('dribbling', (-6.024428846740146, -5.940279973460577)),\n",
       " ('orignal', (-5.681227627648074, -5.62408603653229)),\n",
       " ('criticism,', (-5.64160637043283, -5.838546852526434)),\n",
       " ('hands-down.', (-6.102468713728962, -6.205362421936961)),\n",
       " ('unopened.', (-6.0923290823780825, -5.831625678446352)),\n",
       " ('INVICTA!My', (-6.201951060902276, -5.3979400086720375)),\n",
       " ('Nature', (-5.313621400807619, -5.513760455468431)),\n",
       " ('\"dogmatic', (-6.201951060902276, -6.230424825839528)),\n",
       " ('knowledgeable', (-5.248665147624823, -5.348255474449688)),\n",
       " ('kicka**', (-6.176888656999709, -5.3979400086720375)),\n",
       " ('Collier', (-6.002152452028994, -6.141324514459935)),\n",
       " ('dragged', (-5.26178976253475, -4.785576467456969)),\n",
       " ('Funniest', (-5.448117812717529, -5.996700096493375)),\n",
       " ('BOND', (-5.950999929581613, -6.047225478785707)),\n",
       " ('Newest', (-5.996757420142288, -6.1309424786662134)),\n",
       " ('fearless', (-5.682525967873354, -5.999217752714621)),\n",
       " ('witch!', (-6.109362421676862, -6.197319701681547)),\n",
       " ('MODERN', (-5.810073087589182, -6.014638111582116)),\n",
       " ('(we', (-5.128541255032527, -5.17936786824717)),\n",
       " ('discipline', (-5.281993148623037, -5.433342489604815)),\n",
       " (\"'shrugs'\", (-6.201951060902276, -5.3979400086720375)),\n",
       " ('(Anne,', (-6.201951060902276, -6.226146027860253)),\n",
       " ('L.M', (-6.185083135614981, -6.221908974916998)),\n",
       " ('explosive.', (-6.044904432449944, -6.189423220835513)),\n",
       " ('Geniune', (-6.197672262923001, -6.221908974916998)),\n",
       " ('him?', (-5.619685130013163, -5.378017309239287)),\n",
       " ('isolation', (-5.47387867486195, -5.717550301672196)),\n",
       " ('beloved.', (-6.102468713728962, -6.170288210395252)),\n",
       " ('Drastic', (-6.172848679197969, -6.20132244413522)),\n",
       " ('magic!', (-5.732056170608663, -6.094867113220934)),\n",
       " ('75%', (-5.616322833359211, -5.2616183460224715)),\n",
       " ('instance.', (-5.817106350320386, -5.654962603005361)),\n",
       " ('TONY', (-5.965723186402319, -6.104412431127164)),\n",
       " ('Pattle,', (-6.201951060902276, -5.3979400086720375)),\n",
       " ('service!Thanks', (-6.201951060902276, -5.3979400086720375)),\n",
       " ('flight.', (-5.521427073040506, -5.537516856862453)),\n",
       " ('Scorsese', (-5.827874533736781, -5.838546852526434)),\n",
       " ('Rocky', (-5.24201280448807, -5.399690097902054)),\n",
       " ('depictions', (-5.560850165335827, -5.6272911764075015)),\n",
       " ('abosorbed', (-6.1934352099797465, -6.230424825839528)),\n",
       " ('trilogy.Overall,', (-6.201951060902276, -5.3979400086720375)),\n",
       " (\"dont'\", (-5.890302089228001, -5.717550301672196)),\n",
       " ('ABOUT\"', (-6.201951060902276, -6.230424825839528)),\n",
       " ('Glossy', (-6.004875310364468, -6.038846547212937)),\n",
       " ('legend!', (-6.002152452028994, -6.2094403343574)),\n",
       " ('unsettling,', (-6.015940736514628, -6.104412431127164)),\n",
       " ('Islam', (-5.251065897142977, -5.124156489322921)),\n",
       " ('verge', (-5.536026581610795, -5.550799068870658)),\n",
       " ('surrealistic,', (-6.164879749526694, -6.205362421936961)),\n",
       " ('re-evaluate', (-5.8483375876844645, -6.012029728474587)),\n",
       " ('\"Orange\".', (-6.201951060902276, -5.3979400086720375)),\n",
       " ('all-black', (-6.141814445458, -6.177841348285698)),\n",
       " ('athletic', (-5.443593870957483, -5.613569917847135)),\n",
       " ('Rondo', (-6.002152452028994, -6.177841348285698)),\n",
       " ('\"Connect', (-6.185083135614981, -6.213556900552232)),\n",
       " ('(tire', (-6.197672262923001, -6.221908974916998)),\n",
       " ('navigating', (-5.619685130013163, -5.707116298750831)),\n",
       " ('Freeze,', (-6.180966569420148, -6.189423220835513)),\n",
       " ('Catwoman', (-6.02158100386732, -5.953712832374443)),\n",
       " ('Logic', (-5.4565361191158575, -5.529738240288834)),\n",
       " ('sounding!!!!', (-6.201951060902276, -5.3979400086720375)),\n",
       " ('charmed.Then', (-6.201951060902276, -5.3979400086720375)),\n",
       " ('recieving', (-5.720551008203339, -5.534042482477151)),\n",
       " ('liten', (-6.164879749526694, -6.205362421936961)),\n",
       " ('madly', (-5.765363352619701, -5.828206019188215)),\n",
       " ('cage,', (-5.852163995537518, -5.800177295587972)),\n",
       " ('vinyl.', (-5.513425515407689, -5.606357269571859)),\n",
       " ('interested,', (-5.450397579012427, -5.445871083846754)),\n",
       " ('hype', (-5.006243168131149, -4.397157761386659)),\n",
       " ('incoherent', (-6.015940736514628, -5.237359815224857)),\n",
       " ('haunting.', (-5.482816762649733, -6.052902611677398)),\n",
       " ('after,finds', (-6.201951060902276, -5.3979400086720375)),\n",
       " (\"'no\", (-5.9682263315561235, -5.801776908747764)),\n",
       " ('regarded', (-5.380846316917095, -5.47057006723184)),\n",
       " ('bizarrely', (-6.105901889567356, -5.942490128265694)),\n",
       " (\"Brick's\", (-6.160949455898261, -6.221908974916998)),\n",
       " ('Tool', (-4.850437938799983, -5.189423220835513)),\n",
       " ('fun?', (-5.8426604547927745, -5.856348298674033)),\n",
       " ('grown-ups', (-5.829695477628407, -6.036089112667748)),\n",
       " ('outloud.', (-6.0330861662726445, -6.185528176951989)),\n",
       " ('bungling', (-6.1163673232455205, -6.124156489322921)),\n",
       " ('SPAWN,', (-6.197672262923001, -6.221908974916998)),\n",
       " ('ADMIT', (-6.047909942589669, -6.052902611677398)),\n",
       " ('33.5', (-6.1934352099797465, -6.20132244413522)),\n",
       " ('shwinn', (-6.201951060902276, -6.226146027860253)),\n",
       " ('Spring,', (-5.932114585421239, -6.047225478785707)),\n",
       " ('peers!', (-6.180966569420148, -6.221908974916998)),\n",
       " ('Style', (-5.123846133824147, -5.234746199622171)),\n",
       " ('on..', (-5.898776396771706, -5.821446435540919)),\n",
       " ('Blayne', (-6.176888656999709, -6.230424825839528)),\n",
       " ('returns', (-4.930961080143107, -4.776108350596521)),\n",
       " ('Pros.', (-6.127091188637294, -6.170288210395252)),\n",
       " ('THANKS', (-5.418104063543751, -5.666544475555176)),\n",
       " (\"rec'd\", (-5.7669397408546565, -5.584438676490234)),\n",
       " ('1x-16x', (-6.197672262923001, -6.221908974916998)),\n",
       " (',so', (-5.894518573629164, -5.974674811637096)),\n",
       " ('compexity.', (-6.201951060902276, -5.3979400086720375)),\n",
       " ('Marie', (-5.273798670007766, -5.483467095638828)),\n",
       " ('Haiku', (-6.010372782275685, -6.120802847315334)),\n",
       " ('German.Coincidently', (-6.201951060902276, -5.3979400086720375)),\n",
       " ('Lulu', (-5.892405214315765, -6.041621601267709)),\n",
       " ('9.5/1011.Love', (-6.201951060902276, -5.3979400086720375)),\n",
       " ('128', (-5.54540695668105, -5.48500988405311)),\n",
       " ('overuse', (-5.833360431714812, -5.547217238407536)),\n",
       " ('varieties.', (-5.914016363328443, -6.079410162157108)),\n",
       " ('CONTRAST.', (-6.1934352099797465, -6.230424825839528)),\n",
       " ('template,', (-6.085698503479069, -6.0763837075269205)),\n",
       " ('TiVO', (-6.1343904273787935, -6.174048359268559)),\n",
       " ('Picard\"', (-6.201951060902276, -6.230424825839528)),\n",
       " ('Wagnarian', (-6.197672262923001, -5.3979400086720375)),\n",
       " ('(Gai-Pan).', (-6.201951060902276, -5.3979400086720375)),\n",
       " ('guest', (-4.806771773370309, -5.022292238581895)),\n",
       " ('pueblo.Espero', (-6.201951060902276, -5.3979400086720375)),\n",
       " ('Madison', (-5.479545225658346, -5.517075696619909)),\n",
       " ('radio,', (-4.9893152273238215, -5.028730322858825)),\n",
       " ('relevé', (-6.201951060902276, -5.3979400086720375)),\n",
       " ('childless', (-6.047909942589669, -6.1076414012573625)),\n",
       " ('ensemble.', (-5.7946527287216885, -6.014638111582116)),\n",
       " ('swing,', (-5.5073024303489, -5.66771983346311)),\n",
       " ('Secret,', (-5.950999929581613, -6.0703933438377335)),\n",
       " ('hide.', (-5.877892831246181, -5.965233255404254)),\n",
       " ('\"truth\"', (-6.036010719289961, -5.886441336574009)),\n",
       " ('Later,', (-5.635729494803021, -5.689439083156346)),\n",
       " ('unfortunately)', (-6.141814445458, -6.124156489322921)),\n",
       " ('cajons', (-6.201951060902276, -6.230424825839528)),\n",
       " ('extravaganza.', (-6.123487064368469, -6.181667756138751)),\n",
       " ('Yeah\",', (-6.168845936744295, -6.226146027860253)),\n",
       " ('out-standing', (-6.172848679197969, -6.230424825839528)),\n",
       " ('Ever!His', (-6.201951060902276, -5.3979400086720375)),\n",
       " ('Hill...well', (-6.201951060902276, -5.3979400086720375)),\n",
       " ('Criss', (-5.9367594904670025, -6.014638111582116)),\n",
       " ('route.', (-5.62420907177321, -5.660714931894452)),\n",
       " ('insulation.', (-6.044904432449944, -5.938081009360639)),\n",
       " ('clean.The', (-6.047909942589669, -6.110894558655085)),\n",
       " ('choices.', (-5.260803849553099, -5.320932347238454)),\n",
       " ('Favorites-', (-6.201951060902276, -5.3979400086720375)),\n",
       " ('Summers', (-5.894518573629164, -5.944711588259652)),\n",
       " ('springy.', (-6.176888656999709, -6.20132244413522)),\n",
       " ('1972,', (-5.877892831246181, -6.027920323590321)),\n",
       " ('vary.', (-5.911806208523326, -5.8197728516513525)),\n",
       " ('Bells', (-5.6864444409092, -5.910463744324478)),\n",
       " ('Amazon[.com]', (-6.102468713728962, -6.11417226841632)),\n",
       " ('behaving', (-5.946201046699844, -5.680863172978296)),\n",
       " ('NO,', (-5.900921065238295, -5.528882487338251)),\n",
       " ('(1970)', (-6.138086572938757, -6.170288210395252)),\n",
       " ('Einsteins.', (-6.168845936744295, -6.193353514463945)),\n",
       " ('Barr', (-5.925239067437191, -5.898286465773641)),\n",
       " ('it....and', (-6.047909942589669, -6.0703933438377335)),\n",
       " ('COMO', (-5.826061192973313, -6.073378197387195)),\n",
       " ('performace', (-5.846436952345031, -5.951444970918621)),\n",
       " ('perfect..', (-6.044904432449944, -6.181667756138751)),\n",
       " ('womango,', (-6.201951060902276, -5.3979400086720375)),\n",
       " ('\"rip', (-6.1531939912014995, -6.124156489322921)),\n",
       " ('rrelated', (-6.201951060902276, -5.3979400086720375)),\n",
       " ('hillarity.', (-6.197672262923001, -5.3979400086720375)),\n",
       " ('crazy!', (-5.602046381600449, -5.577690346765066)),\n",
       " ('yard', (-4.840036310966625, -4.844694703163183)),\n",
       " ('decency', (-5.900921065238295, -5.643681592595671)),\n",
       " (\"easy.I'm\", (-6.180966569420148, -6.226146027860253)),\n",
       " ('Cushing', (-5.886126148573865, -6.067428864873994)),\n",
       " ('Shaw', (-5.426675943427094, -5.612532176655875)),\n",
       " ('insatable', (-6.201951060902276, -5.3979400086720375)),\n",
       " ('anti-grief--I', (-6.201951060902276, -5.3979400086720375)),\n",
       " ('now.its', (-6.201951060902276, -6.226146027860253)),\n",
       " ('brown.', (-5.723398851076165, -5.563573356907087)),\n",
       " ('Roberto', (-5.729151179965256, -5.955992598669341)),\n",
       " ('\"to', (-5.498702258586983, -5.5204164398769375)),\n",
       " ('Zim:', (-6.201951060902276, -5.3979400086720375)),\n",
       " ('over-emphasize', (-6.185083135614981, -6.2094403343574)),\n",
       " ('databases.', (-6.013147836330457, -6.047225478785707)),\n",
       " ('diving,', (-5.958299168323112, -6.079410162157108)),\n",
       " ('stymied', (-6.1343904273787935, -6.137836186614114)),\n",
       " ('several,', (-5.827874533736781, -5.906366596183433)),\n",
       " ('auto', (-4.8057344452929724, -4.801776908747764)),\n",
       " ('MUSIC!!', (-6.099062465037051, -6.197319701681547)),\n",
       " ('flour.', (-5.8882090997221574, -5.816444908302425)),\n",
       " ('gratitude', (-5.5789065780921865, -5.972295109891741)),\n",
       " ('vehicles.', (-5.56183384521708, -5.7907014037040945)),\n",
       " ('consumptive', (-6.1934352099797465, -6.20132244413522)),\n",
       " ('university-assigned', (-6.201951060902276, -5.3979400086720375)),\n",
       " ('categorize', (-5.73498072362598, -5.804993919619762)),\n",
       " ('Directed', (-5.733515985367706, -5.929394830175546)),\n",
       " ('girlfriend;', (-6.168845936744295, -6.213556900552232)),\n",
       " ('\"1st\"', (-6.189239095386139, -6.226146027860253)),\n",
       " ('utilize', (-5.342949574564463, -5.455871727619431)),\n",
       " ('samovar,', (-6.201951060902276, -5.3979400086720375)),\n",
       " ('IS!!', (-6.138086572938757, -6.185528176951989)),\n",
       " ('Frankenstein', (-5.59881741147025, -5.6642032597402725)),\n",
       " ('travels...speachless', (-6.201951060902276, -5.3979400086720375)),\n",
       " (\"Coupland's\", (-6.109362421676862, -6.0886181639439325)),\n",
       " ('brew!', (-6.1570544120147375, -6.20132244413522)),\n",
       " ('moderates', (-6.145574594331307, -6.134375654504607)),\n",
       " (\"COLLECTOR'S\", (-6.138086572938757, -6.162864192316045)),\n",
       " ('QUINTESENTIAL', (-6.201951060902276, -5.3979400086720375)),\n",
       " ('COLLECTORS', (-6.041919578900481, -6.098025632465763)),\n",
       " ('unintended', (-5.918470704754693, -5.878720342429047)),\n",
       " ('Gill', (-5.827874533736781, -6.004297278243897)),\n",
       " ('HD-DVDs', (-6.145574594331307, -6.174048359268559)),\n",
       " ('homophobia', (-6.0330861662726445, -5.946944469691944)),\n",
       " ('non-local', (-6.180966569420148, -6.21771286032339)),\n",
       " (\"latest.I've\", (-6.201951060902276, -5.3979400086720375)),\n",
       " ('POW', (-5.798032469373069, -5.972295109891741)),\n",
       " ('rewrite', (-5.729151179965256, -5.239989255034542)),\n",
       " ('werent.', (-6.1934352099797465, -6.213556900552232)),\n",
       " ('altar', (-5.900921065238295, -5.953712832374443)),\n",
       " ('SOLID', (-5.6890765367349445, -5.99419695133957)),\n",
       " ('conversation.', (-5.4861131312789615, -5.454428887482019)),\n",
       " ('9-11', (-5.900921065238295, -5.845580115257638)),\n",
       " ('introduced.', (-5.773303143810513, -5.733686937404419)),\n",
       " ('Apostle', (-5.93443082814842, -6.047225478785707)),\n",
       " ('Dano', (-6.119912604010171, -6.213556900552232)),\n",
       " ('Tales.', (-5.9682263315561235, -6.050054768804571)),\n",
       " ('Auel,', (-6.189239095386139, -6.181667756138751)),\n",
       " ('spellbinds', (-6.185083135614981, -5.3979400086720375)),\n",
       " ('Hunters,', (-6.123487064368469, -6.148386368947422)),\n",
       " ('\"discoveries\"', (-6.1934352099797465, -6.213556900552232)),\n",
       " ('quality-', (-5.980963152959056, -5.951444970918621)),\n",
       " ('Houston', (-5.324317463345318, -5.506392417600942)),\n",
       " ('\"Didn\\'t', (-6.089001139029154, -6.1309424786662134)),\n",
       " ('function,', (-5.49955465234816, -5.359106262618002)),\n",
       " ('themselves.I', (-6.038955099936743, -6.052902611677398)),\n",
       " ('hops', (-5.929810630511675, -5.906366596183433)),\n",
       " ('Culver', (-6.138086572938757, -6.213556900552232)),\n",
       " ('CREEP', (-6.176888656999709, -6.2094403343574)),\n",
       " ('DEFINATELY', (-5.677355734407264, -5.874910717282282)),\n",
       " ('.org', (-6.189239095386139, -6.221908974916998)),\n",
       " ('(IMHO,', (-6.185083135614981, -6.221908974916998)),\n",
       " ('absolution', (-6.1570544120147375, -6.189423220835513)),\n",
       " ('people\"', (-5.765363352619701, -5.730955516564989)),\n",
       " ('clamps', (-5.318092940766594, -5.3278726649001)),\n",
       " ('Lloyd', (-5.2481865861638335, -5.427888170103353)),\n",
       " ('Times,The', (-6.197672262923001, -5.3979400086720375)),\n",
       " ('knight-like', (-6.201951060902276, -5.3979400086720375)),\n",
       " ('boy,', (-5.009267706661873, -5.115160424660386)),\n",
       " ('rueful', (-6.149367583348446, -6.221908974916998)),\n",
       " ('track...and', (-6.185083135614981, -6.221908974916998)),\n",
       " ('SARK!', (-6.197672262923001, -6.230424825839528)),\n",
       " ('Sheltie', (-6.085698503479069, -6.177841348285698)),\n",
       " ('urged', (-5.867815941080314, -5.927250161708957)),\n",
       " ('sandwiches', (-5.565790997714497, -5.7907014037040945)),\n",
       " ('Susan', (-4.894942482381126, -5.089239028212508)),\n",
       " ('\"Celebrating', (-6.189239095386139, -6.2094403343574)),\n",
       " ('period!', (-5.760668231411321, -5.843811092518791)),\n",
       " ('Light\".', (-6.050936397219857, -6.137836186614114)),\n",
       " ('accquainted', (-6.1934352099797465, -6.226146027860253)),\n",
       " ('boils', (-5.536955554118807, -5.402237286915934)),\n",
       " ('3+', (-5.749906401555876, -5.728241167217298)),\n",
       " ('(mostly', (-5.4361571398978175, -5.48500988405311)),\n",
       " ('life.It', (-5.925239067437191, -6.067428864873994)),\n",
       " ('Peleilui.', (-6.201951060902276, -5.3979400086720375)),\n",
       " ('synchronization.', (-6.168845936744295, -6.162864192316045)),\n",
       " ('exacerbation', (-6.1934352099797465, -6.226146027860253)),\n",
       " ('completely.SARK', (-6.201951060902276, -5.3979400086720375)),\n",
       " ('Scary--real', (-6.201951060902276, -5.3979400086720375)),\n",
       " ('successor', (-5.685134350980882, -5.902307739706565)),\n",
       " ('Cochrane', (-6.085698503479069, -6.155564953574546)),\n",
       " ('chords,', (-5.706585352066515, -5.798583552581414)),\n",
       " ('madness.', (-5.760668231411321, -5.882563681510808)),\n",
       " ('Alaskanchatterbox', (-6.201951060902276, -5.3979400086720375)),\n",
       " ('Dreadlock', (-6.197672262923001, -6.226146027860253)),\n",
       " ('peanuts', (-5.784668507815088, -5.6994520795794)),\n",
       " ('industry,', (-5.340576374768848, -5.399055628129744)),\n",
       " ('Evita,', (-6.149367583348446, -6.170288210395252)),\n",
       " ('strengthened', (-5.817106350320386, -6.0763837075269205)),\n",
       " ('Convenience', (-5.941454611675383, -6.124156489322921)),\n",
       " ('hiking.', (-5.803151913509101, -5.991708150935876)),\n",
       " ('Joplin', (-5.804871893903375, -5.979473694518864)),\n",
       " ('rejection', (-5.720551008203339, -5.759075011297741)),\n",
       " ('Humbling', (-6.1531939912014995, -6.230424825839528)),\n",
       " ('gerald', (-6.189239095386139, -6.213556900552232)),\n",
       " ('magick.Since', (-6.201951060902276, -5.3979400086720375)),\n",
       " ('purposes.', (-5.229006222257626, -5.292738146599857)),\n",
       " ('reverence.....', (-6.201951060902276, -5.3979400086720375)),\n",
       " ('actualy', (-5.664693190738338, -5.61149690922427)),\n",
       " ('J.G.', (-6.085698503479069, -6.124156489322921)),\n",
       " ('AREA.', (-6.119912604010171, -6.189423220835513)),\n",
       " ('instrument).', (-6.160949455898261, -6.226146027860253)),\n",
       " ('literature-', (-6.176888656999709, -6.205362421936961)),\n",
       " ('Mimosa', (-6.160949455898261, -6.213556900552232)),\n",
       " ('Tracklisting', (-6.053984090301863, -5.3979400086720375)),\n",
       " ('Mill', (-5.5178526126822085, -5.553504962246583)),\n",
       " (\"Laura's\", (-5.787971143365174, -5.938081009360639)),\n",
       " ('skiing.', (-5.980963152959056, -6.058654940566489)),\n",
       " ('Slices', (-6.085698503479069, -6.189423220835513)),\n",
       " ('`The', (-5.810073087589182, -5.984326197313276)),\n",
       " ('projected', (-5.612986367664462, -5.628364834511565)),\n",
       " ('nice)and', (-6.201951060902276, -5.3979400086720375)),\n",
       " ('print!!', (-6.1343904273787935, -6.193353514463945)),\n",
       " ('Microphone,', (-6.149367583348446, -6.205362421936961)),\n",
       " ('Calculator,', (-6.1531939912014995, -6.213556900552232)),\n",
       " ('SNEEBLE!', (-6.201951060902276, -5.3979400086720375)),\n",
       " ('ELEGANT', (-6.1343904273787935, -6.221908974916998)),\n",
       " ('$25.', (-5.873833974769314, -5.634863127548482)),\n",
       " ('INTRODUCTION', (-5.996757420142288, -6.1309424786662134)),\n",
       " ('Lounge', (-5.654822436712044, -5.770853210636263)),\n",
       " ('yielded', (-5.922971205981369, -5.720198446961884)),\n",
       " ('divertir', (-6.1934352099797465, -6.230424825839528)),\n",
       " ('wide-spread.', (-6.197672262923001, -5.3979400086720375)),\n",
       " ('clients', (-5.026146559520865, -5.334925697195074)),\n",
       " ('duration.', (-5.948593859815734, -5.974674811637096)),\n",
       " ('(among', (-5.733515985367706, -5.874910717282282)),\n",
       " ('symphonies,', (-5.914016363328443, -6.1076414012573625)),\n",
       " ('intimiately', (-6.201951060902276, -5.3979400086720375)),\n",
       " ('lung', (-5.827874533736781, -5.9208789792530165)),\n",
       " (\"White's\", (-5.574828665671747, -5.6845178465670765)),\n",
       " ('cheated,', (-6.099062465037051, -5.849139926023858)),\n",
       " ('insulin', (-5.774908670525932, -5.814790451132413)),\n",
       " ('disparaging', (-6.06014439900668, -5.965233255404254)),\n",
       " ('POOR', (-5.869812700836389, -4.863308882218069)),\n",
       " ('Creek,', (-5.94382134495449, -6.006859495008497)),\n",
       " ('overwhelms.', (-6.185083135614981, -6.230424825839528)),\n",
       " ('predictable!!!!!!!', (-6.201951060902276, -5.3979400086720375)),\n",
       " ('MP3,', (-5.879936573756168, -5.953712832374443)),\n",
       " ('a...\"', (-6.172848679197969, -6.197319701681547)),\n",
       " ('Substantial', (-6.02158100386732, -6.20132244413522)),\n",
       " ('catholic', (-5.664693190738338, -5.666544475555176)),\n",
       " ('Marienbad', (-6.197672262923001, -6.221908974916998)),\n",
       " ('clearly.If', (-6.1934352099797465, -5.3979400086720375)),\n",
       " ('disassembling', (-6.082420793717833, -5.894302084782052)),\n",
       " ('entero\"', (-6.201951060902276, -5.3979400086720375)),\n",
       " ('AL!!!', (-6.201951060902276, -5.3979400086720375)),\n",
       " ('\"game\"', (-5.973276324292765, -5.82312649365894)),\n",
       " (\"Bertini's\", (-6.1934352099797465, -5.3979400086720375)),\n",
       " ('collectable', (-5.852163995537518, -5.98923353180802)),\n",
       " ('3M', (-5.58199033884925, -5.479633933227099)),\n",
       " ('WJ6,', (-6.201951060902276, -5.3979400086720375)),\n",
       " ('Esswood', (-6.197672262923001, -5.3979400086720375)),\n",
       " ('use.the', (-6.164879749526694, -6.205362421936961)),\n",
       " ('MP3/CD', (-6.172848679197969, -6.155564953574546)),\n",
       " ('preggo', (-6.149367583348446, -6.20132244413522)),\n",
       " ('\"Learning', (-5.958299168323112, -5.965233255404254)),\n",
       " ('Different...But', (-6.197672262923001, -5.3979400086720375)),\n",
       " ('Yasujiro', (-6.180966569420148, -5.3979400086720375)),\n",
       " ('328,000', (-6.201951060902276, -5.3979400086720375)),\n",
       " ('zieht', (-6.197672262923001, -5.3979400086720375)),\n",
       " ('ostlichen', (-6.201951060902276, -5.3979400086720375)),\n",
       " ('Toothbrush', (-5.900921065238295, -6.044414501451879)),\n",
       " ('upgrrade', (-6.201951060902276, -5.3979400086720375)),\n",
       " ('Oral-b', (-6.189239095386139, -6.230424825839528)),\n",
       " ('fancier', (-5.787971143365174, -6.012029728474587)),\n",
       " ('plaque', (-5.820666161086606, -5.942490128265694)),\n",
       " ('Campbell', (-5.2326828112576615, -5.438866182278095)),\n",
       " ('2010?', (-6.160949455898261, -6.193353514463945)),\n",
       " ('tradition-', (-6.1934352099797465, -5.3979400086720375)),\n",
       " ('pops.', (-6.010372782275685, -6.014638111582116)),\n",
       " ('accumulated', (-5.746879946925688, -5.766398869210013)),\n",
       " ('unhesitatingly', (-6.130725473292388, -6.2094403343574)),\n",
       " ('BO!', (-6.201951060902276, -6.230424825839528)),\n",
       " ('voyeurism,', (-6.176888656999709, -6.185528176951989)),\n",
       " ('widely-acclaimed', (-6.201951060902276, -5.3979400086720375)),\n",
       " ('organizations,', (-5.867815941080314, -6.030626216966246)),\n",
       " ('meetings.', (-5.817106350320386, -5.99419695133957)),\n",
       " ('Hemi', (-6.1531939912014995, -6.20132244413522)),\n",
       " ('number.On', (-6.201951060902276, -5.3979400086720375)),\n",
       " ('gas.', (-5.6380707106179235, -5.552601123248339)),\n",
       " ('way...an', (-6.201951060902276, -5.3979400086720375)),\n",
       " ('Compare', (-5.635729494803021, -5.457319377232859)),\n",
       " ('Sentimental', (-5.884053139951, -5.99419695133957)),\n",
       " ('Story\"', (-5.635729494803021, -5.6869714942343474)),\n",
       " ('too).', (-5.395368154016218, -5.596256942667533)),\n",
       " ('($8.50', (-6.201951060902276, -5.3979400086720375)),\n",
       " ('fighting.I', (-6.176888656999709, -6.205362421936961)),\n",
       " ('learn-about-yourself-and-others',\n",
       "  (-6.201951060902276, -5.3979400086720375)),\n",
       " ('verás', (-6.1934352099797465, -5.3979400086720375)),\n",
       " ('oficina,', (-6.189239095386139, -5.3979400086720375)),\n",
       " ('jhi', (-6.201951060902276, -5.3979400086720375)),\n",
       " ('whateber', (-6.201951060902276, -5.3979400086720375)),\n",
       " ('Hobbit\".', (-6.160949455898261, -6.221908974916998)),\n",
       " ('pliers', (-5.47549015901853, -5.37922704395437)),\n",
       " ('trippin,', (-6.185083135614981, -6.226146027860253)),\n",
       " ('installments', (-5.792972670603667, -5.770853210636263)),\n",
       " ('Kilmer,', (-6.082420793717833, -6.134375654504607)),\n",
       " ('pictures.The', (-6.038955099936743, -6.094867113220934)),\n",
       " (\"Taxi'\", (-6.201951060902276, -6.230424825839528)),\n",
       " ('attractions.', (-6.024428846740146, -6.1076414012573625)),\n",
       " ('Sporty.', (-6.197672262923001, -5.3979400086720375)),\n",
       " ('reinvented', (-5.907419358275212, -6.061559931209897)),\n",
       " ('Mercer,', (-6.127091188637294, -6.181667756138751)),\n",
       " ('name;', (-6.09568272438567, -6.038846547212937)),\n",
       " ('timbre', (-5.859919460234281, -6.025231185079539)),\n",
       " ('newbies.', (-5.948593859815734, -6.061559931209897)),\n",
       " ('bulb,', (-5.8389165136589, -5.577690346765066)),\n",
       " ('discard.The', (-6.201951060902276, -6.230424825839528)),\n",
       " ('ed', (-5.634563602876232, -5.770853210636263)),\n",
       " ('Tha', (-5.591375218651784, -5.808234938257595)),\n",
       " ('Mama,', (-5.980963152959056, -6.11417226841632)),\n",
       " ('blackly', (-6.1531939912014995, -6.221908974916998)),\n",
       " ('Combination!', (-6.164879749526694, -5.3979400086720375)),\n",
       " ('\"Waltz', (-6.099062465037051, -6.197319701681547)),\n",
       " ('Adderley', (-6.105901889567356, -6.20132244413522)),\n",
       " ('well-detailed', (-6.145574594331307, -6.230424825839528)),\n",
       " ('offhandedly', (-6.189239095386139, -6.21771286032339)),\n",
       " ('ending!If', (-6.201951060902276, -6.230424825839528)),\n",
       " ('affair,but', (-6.201951060902276, -5.3979400086720375)),\n",
       " ('ANyone', (-6.180966569420148, -6.213556900552232)),\n",
       " ('perverts.', (-6.1934352099797465, -6.162864192316045)),\n",
       " ('USB!!!)', (-6.201951060902276, -6.230424825839528)),\n",
       " ('Mughals', (-6.201951060902276, -6.226146027860253)),\n",
       " ('breathe.\"', (-6.189239095386139, -6.213556900552232)),\n",
       " ('transponder.However,', (-6.201951060902276, -5.3979400086720375)),\n",
       " ('GRIPPING,', (-6.189239095386139, -6.230424825839528)),\n",
       " ('Picchu,', (-6.172848679197969, -6.226146027860253)),\n",
       " ('\"power', (-5.907419358275212, -5.847356373283441)),\n",
       " ('sentence.', (-5.61520782765842, -5.332199420308179)),\n",
       " ('Overboard', (-6.138086572938757, -6.181667756138751)),\n",
       " ('Hopewell', (-6.176888656999709, -6.230424825839528)),\n",
       " ('excommunication.', (-6.1934352099797465, -6.226146027860253)),\n",
       " ('CAMOUFLAGE+DEVISION.', (-6.201951060902276, -5.3979400086720375)),\n",
       " ('resources.', (-5.5444597491476575, -5.530595682782371)),\n",
       " ('510,000', (-6.201951060902276, -5.3979400086720375)),\n",
       " ('Trader', (-5.801438718064981, -5.730955516564989)),\n",
       " ('value.good', (-6.201951060902276, -5.3979400086720375)),\n",
       " ('coerced', (-6.105901889567356, -6.0763837075269205)),\n",
       " ('snobby,', (-6.1570544120147375, -6.124156489322921)),\n",
       " ('emphasis-de-emphasis', (-6.201951060902276, -5.3979400086720375)),\n",
       " ('schools.', (-5.463547303380221, -5.647035234603259)),\n",
       " ('Arabia)Keshner', (-6.201951060902276, -5.3979400086720375)),\n",
       " ('minimum...only', (-6.201951060902276, -5.3979400086720375)),\n",
       " ('Upton', (-6.079167636320111, -6.141324514459935)),\n",
       " ('week.i', (-6.180966569420148, -6.230424825839528)),\n",
       " (\"Annabell's\", (-6.185083135614981, -5.3979400086720375)),\n",
       " ('responds.', (-6.149367583348446, -6.082457855239114)),\n",
       " ('FUNCTIONS', (-6.127091188637294, -6.181667756138751)),\n",
       " ('Chinese).', (-6.1570544120147375, -6.21771286032339)),\n",
       " ('hardwood', (-5.25251274295169, -5.225295303823477)),\n",
       " ('but....our', (-6.201951060902276, -5.3979400086720375)),\n",
       " ('Arizona,', (-5.857967571636758, -5.981893168642277)),\n",
       " ('Fuzz,', (-6.189239095386139, -6.226146027860253)),\n",
       " ('OVERCOMES', (-6.201951060902276, -5.3979400086720375)),\n",
       " ('hard-disk', (-6.189239095386139, -6.185528176951989)),\n",
       " ('rape,', (-5.792972670603667, -5.514586896216214)),\n",
       " ('andmyself', (-6.201951060902276, -5.3979400086720375)),\n",
       " ('self-discovery.', (-6.024428846740146, -6.15196082930572)),\n",
       " ('product-', (-5.833360431714812, -5.8527291570473015)),\n",
       " ('LYRICS.', (-6.079167636320111, -6.15919923822964)),\n",
       " ('Rings/Aragorn', (-6.201951060902276, -5.3979400086720375)),\n",
       " (\"yellow'.\", (-6.201951060902276, -5.3979400086720375)),\n",
       " ('buttery', (-5.869812700836389, -6.064484484227213)),\n",
       " ('here?....', (-6.201951060902276, -5.3979400086720375)),\n",
       " ('\"Making', (-5.776520154682511, -5.873018363604578)),\n",
       " ('peacocks', (-6.1531939912014995, -6.226146027860253)),\n",
       " ('startles', (-6.0663933482836825, -6.144841088182773)),\n",
       " ('Samba,', (-6.082420793717833, -6.2094403343574)),\n",
       " ('spiders', (-5.773303143810513, -5.717550301672196)),\n",
       " ('Go\"', (-5.569784538331553, -5.7938371175569525)),\n",
       " ('stored);', (-6.201951060902276, -5.3979400086720375)),\n",
       " ('reciprocated.', (-6.201951060902276, -6.221908974916998)),\n",
       " ('Denso', (-5.950999929581613, -6.137836186614114)),\n",
       " ('\"Beyond', (-5.676072736481837, -5.8618341966520635)),\n",
       " ('Sun17.', (-6.201951060902276, -5.3979400086720375)),\n",
       " ('(predating', (-6.197672262923001, -5.3979400086720375)),\n",
       " (\"'Misty'\", (-6.197672262923001, -6.230424825839528)),\n",
       " ('stall', (-5.863849753862713, -5.724201189415558)),\n",
       " ('Planets,', (-6.1343904273787935, -6.205362421936961)),\n",
       " ('Cleans', (-5.566785945416333, -6.014638111582116)),\n",
       " ('great-grandfather', (-6.112850749522684, -6.185528176951989)),\n",
       " ('Cradle', (-5.577883504634607, -5.616698102910077)),\n",
       " ('gossip,', (-5.916237823322401, -5.912526904888251)),\n",
       " ('bollocks', (-6.172848679197969, -6.15919923822964)),\n",
       " (\"nite'\", (-6.201951060902276, -6.230424825839528)),\n",
       " ('blip-and-bleat', (-6.201951060902276, -5.3979400086720375)),\n",
       " ('propulsion', (-6.053984090301863, -6.148386368947422)),\n",
       " ('\"Punk\"', (-6.149367583348446, -6.1309424786662134)),\n",
       " ('photoshop', (-5.719134059207732, -5.700720093566035)),\n",
       " ('positioning,', (-6.0923290823780825, -6.110894558655085)),\n",
       " ('\"Roll', (-5.953419403705025, -6.08552708696679)),\n",
       " ('reconciliation', (-5.911806208523326, -5.981893168642277)),\n",
       " ('caught,', (-5.958299168323112, -5.916682864659409)),\n",
       " ('Pads,', (-6.127091188637294, -6.15919923822964)),\n",
       " ('obfuscating', (-6.160949455898261, -6.137836186614114)),\n",
       " ('persontal', (-6.201951060902276, -5.3979400086720375)),\n",
       " ('poseability', (-6.1570544120147375, -5.3979400086720375)),\n",
       " ('Read-Gripping', (-6.201951060902276, -5.3979400086720375)),\n",
       " ('robe', (-5.7079618808953185, -5.656106989654098)),\n",
       " ('usefull.', (-5.922971205981369, -5.974674811637096)),\n",
       " ('scorcho', (-6.197672262923001, -5.3979400086720375)),\n",
       " ('Lieutenant.', (-6.185083135614981, -6.230424825839528)),\n",
       " ('Corps', (-5.47791865266369, -5.634863127548482)),\n",
       " ('KILL', (-5.773303143810513, -5.623022891614829)),\n",
       " ('GI!...\")', (-6.201951060902276, -5.3979400086720375)),\n",
       " ('Bugs?', (-6.197672262923001, -5.3979400086720375)),\n",
       " ('Dubois', (-6.138086572938757, -6.170288210395252)),\n",
       " ('remaster.', (-6.02729548739175, -5.955992598669341)),\n",
       " ('craftman', (-6.168845936744295, -6.197319701681547)),\n",
       " ('Jackass', (-5.9682263315561235, -5.931550142201681)),\n",
       " ('held.', (-5.877892831246181, -5.873018363604578)),\n",
       " ('horror/comedy', (-6.109362421676862, -6.174048359268559)),\n",
       " ('Stevens;', (-6.201951060902276, -6.230424825839528)),\n",
       " ('devils', (-5.920715125677145, -5.967574471219156)),\n",
       " ('luthier', (-6.119912604010171, -6.189423220835513)),\n",
       " ('motel', (-5.886126148573865, -5.871134219730026)),\n",
       " ('craziest', (-5.905242439020937, -6.091731399368075)),\n",
       " (\"KARLOFF'S\", (-6.201951060902276, -5.3979400086720375)),\n",
       " ('\"renaissance\"', (-6.1934352099797465, -6.221908974916998)),\n",
       " ('KOPS,', (-6.201951060902276, -5.3979400086720375)),\n",
       " ('\"Along', (-6.0727335263147015, -6.120802847315334)),\n",
       " ('adressings', (-6.201951060902276, -5.3979400086720375)),\n",
       " ('Absilutely', (-6.201951060902276, -6.230424825839528)),\n",
       " ('eleven,', (-6.0923290823780825, -6.124156489322921)),\n",
       " ('\"School\"', (-6.1934352099797465, -6.226146027860253)),\n",
       " ('different...I', (-6.180966569420148, -6.21771286032339)),\n",
       " ('T...gotta', (-6.201951060902276, -5.3979400086720375)),\n",
       " ('102', (-5.948593859815734, -5.910463744324478)),\n",
       " ('Shortcake.Can', (-6.201951060902276, -5.3979400086720375)),\n",
       " ('Strip', (-5.798032469373069, -5.859997853612066)),\n",
       " ('Interesting.', (-5.861880160999808, -6.050054768804571)),\n",
       " ('re-play', (-6.145574594331307, -6.15196082930572)),\n",
       " ('evils', (-5.762227638766842, -5.63814910399571)),\n",
       " ('econ/finance', (-6.201951060902276, -5.3979400086720375)),\n",
       " ('boggle.', (-6.197672262923001, -5.3979400086720375)),\n",
       " ('intelligibility,', (-6.197672262923001, -5.3979400086720375)),\n",
       " ('opined,', (-6.189239095386139, -6.221908974916998)),\n",
       " (\"mat'.A+.\", (-6.201951060902276, -5.3979400086720375)),\n",
       " ('egos', (-5.907419358275212, -5.82312649365894)),\n",
       " ('Grito', (-6.197672262923001, -5.3979400086720375)),\n",
       " ('challenging,but', (-6.197672262923001, -5.3979400086720375)),\n",
       " ('general)', (-5.958299168323112, -5.999217752714621)),\n",
       " ('Congressional', (-6.007615347730496, -6.0703933438377335)),\n",
       " ('Mediterranean', (-5.699767402280047, -5.888393225171532)),\n",
       " ('actionable', (-5.9861643466448635, -6.033349075301719)),\n",
       " ('beautiful2)', (-6.201951060902276, -5.3979400086720375)),\n",
       " ('threatened', (-5.536955554118807, -5.5824998586188475)),\n",
       " ('Baptists', (-6.0727335263147015, -6.117474903966406)),\n",
       " ('nessecary', (-6.180966569420148, -6.205362421936961)),\n",
       " ('upcovert', (-6.201951060902276, -5.3979400086720375)),\n",
       " ('budgeted', (-6.1163673232455205, -6.101207291251953)),\n",
       " ('impetus', (-5.946201046699844, -5.98923353180802)),\n",
       " ('\"Insensatez\",', (-6.197672262923001, -5.3979400086720375)),\n",
       " ('Word.', (-5.621941210317388, -5.781427859575133)),\n",
       " ('head)', (-5.965723186402319, -5.951444970918621)),\n",
       " ('Cozumel', (-6.1570544120147375, -6.197319701681547)),\n",
       " ('Cameron,', (-5.980963152959056, -6.017262255408264)),\n",
       " ('kitten!', (-6.168845936744295, -6.226146027860253)),\n",
       " ('earnest,', (-6.053984090301863, -6.019902351574473)),\n",
       " ('ocurring', (-6.176888656999709, -6.226146027860253)),\n",
       " ('KIDNAPPED', (-6.176888656999709, -6.197319701681547)),\n",
       " ('56', (-5.677355734407264, -5.6156528689954275)),\n",
       " ('!)\"', (-6.201951060902276, -5.3979400086720375)),\n",
       " ('yummy.', (-5.801438718064981, -6.11417226841632)),\n",
       " ('bureaucracies', (-6.160949455898261, -6.21771286032339)),\n",
       " (\"Barksdale's\", (-6.201951060902276, -6.230424825839528)),\n",
       " ('drug-dealer', (-6.189239095386139, -6.221908974916998)),\n",
       " ('flour', (-5.33469949913904, -5.305838509378217)),\n",
       " ('origianlly', (-6.164879749526694, -6.213556900552232)),\n",
       " ('(Lizzie', (-6.197672262923001, -6.226146027860253)),\n",
       " ('NOMAD', (-6.176888656999709, -6.1309424786662134)),\n",
       " ('MessiahandTO', (-6.201951060902276, -5.3979400086720375)),\n",
       " ('THOUGHIT', (-6.201951060902276, -5.3979400086720375)),\n",
       " ('discomfort.', (-5.681227627648074, -5.775353711862939)),\n",
       " ('vitmains', (-6.197672262923001, -5.3979400086720375)),\n",
       " ('dress.', (-5.642791349290508, -5.704546501419088)),\n",
       " ('Tootsies', (-6.1934352099797465, -6.226146027860253)),\n",
       " ('Tezuman', (-6.201951060902276, -5.3979400086720375)),\n",
       " ('Tray', (-5.817106350320386, -5.809864562991104)),\n",
       " ('instruction.even', (-6.201951060902276, -5.3979400086720375)),\n",
       " ('allen', (-5.600967388543809, -5.724201189415558)),\n",
       " ('discreetly', (-6.06014439900668, -6.120802847315334)),\n",
       " ('Calf,', (-6.197672262923001, -6.230424825839528)),\n",
       " (',one', (-6.1163673232455205, -6.1665603378760085)),\n",
       " ('al,', (-5.861880160999808, -5.871134219730026)),\n",
       " ('Deming,', (-6.172848679197969, -6.226146027860253)),\n",
       " ('executive,', (-6.018751713848456, -6.15196082930572)),\n",
       " ('UP>', (-6.201951060902276, -5.3979400086720375)),\n",
       " ('Dope!', (-6.160949455898261, -6.226146027860253)),\n",
       " ('Marshal.', (-6.180966569420148, -6.230424825839528)),\n",
       " ('Rythmic', (-6.172848679197969, -5.3979400086720375)),\n",
       " ('Ezy', (-6.185083135614981, -6.226146027860253)),\n",
       " ('matrix', (-5.605299538998171, -5.598258303268805)),\n",
       " ('Cleary\"', (-6.201951060902276, -6.230424825839528)),\n",
       " ('keychain', (-5.635729494803021, -5.634863127548482)),\n",
       " ('self-esteem', (-5.720551008203339, -5.729596221302264)),\n",
       " ('Neuortic', (-6.201951060902276, -5.3979400086720375)),\n",
       " ('Hulk\",', (-6.197672262923001, -5.3979400086720375)),\n",
       " ('metaphysics,', (-6.018751713848456, -6.117474903966406)),\n",
       " ('skit', (-5.770109787644163, -5.645914474027963)),\n",
       " ('Bruce\"', (-6.189239095386139, -6.221908974916998)),\n",
       " ('It!!!!!!!!!!!!!!!!!!', (-6.197672262923001, -5.3979400086720375)),\n",
       " ('Fran', (-5.706585352066515, -5.8806377604747695)),\n",
       " ('\"Exposed\"', (-6.172848679197969, -6.226146027860253)),\n",
       " ('Profits!', (-6.201951060902276, -5.3979400086720375)),\n",
       " ('A.I.M', (-6.197672262923001, -5.3979400086720375)),\n",
       " ('colors.....', (-6.197672262923001, -6.230424825839528)),\n",
       " ('chip.', (-5.861880160999808, -5.7619897503049575)),\n",
       " ('surface).', (-6.145574594331307, -6.177841348285698)),\n",
       " ('(hopefully)', (-5.886126148573865, -5.8844981812880075)),\n",
       " ('Al.If', (-6.201951060902276, -5.3979400086720375)),\n",
       " ('word!!!!!', (-6.1934352099797465, -5.3979400086720375)),\n",
       " ('laughs!', (-5.789631927346638, -6.134375654504607)),\n",
       " ('(Lewis', (-6.189239095386139, -6.230424825839528)),\n",
       " ('has..', (-6.172848679197969, -6.205362421936961)),\n",
       " ('Commission,', (-6.145574594331307, -6.148386368947422)),\n",
       " ('Offenders', (-6.1934352099797465, -6.230424825839528)),\n",
       " (\"Frederick's\", (-6.1570544120147375, -6.213556900552232)),\n",
       " ('Java', (-5.00981989298153, -4.95530741133515)),\n",
       " ('intoher', (-6.1934352099797465, -5.3979400086720375)),\n",
       " ('EPs', (-5.932114585421239, -6.104412431127164)),\n",
       " ('passable.', (-6.099062465037051, -5.809864562991104)),\n",
       " ('strategies,', (-5.6890765367349445, -5.8618341966520635)),\n",
       " ('acapella...actually', (-6.201951060902276, -5.3979400086720375)),\n",
       " ('Witty,', (-5.712117840666476, -6.177841348285698)),\n",
       " ('Beamer', (-6.09568272438567, -6.120802847315334)),\n",
       " ('Laserjet', (-6.024428846740146, -5.951444970918621)),\n",
       " ('married.)', (-6.201951060902276, -6.230424825839528)),\n",
       " ('drag.', (-5.857967571636758, -5.573880721618301)),\n",
       " ('Also-more', (-6.201951060902276, -5.3979400086720375)),\n",
       " (\"workout.I've\", (-6.1934352099797465, -6.230424825839528)),\n",
       " ('clunkers.', (-6.1570544120147375, -6.148386368947422)),\n",
       " ('Arabs,', (-6.105901889567356, -6.101207291251953)),\n",
       " ('Burner\\'s\"More', (-6.201951060902276, -5.3979400086720375)),\n",
       " ('\"cd\"', (-6.180966569420148, -6.205362421936961)),\n",
       " ('Posh,', (-6.197672262923001, -5.3979400086720375)),\n",
       " ('minimalism.', (-6.1531939912014995, -6.193353514463945)),\n",
       " ('HIM.', (-5.7946527287216885, -5.918775854165252)),\n",
       " ('him.The', (-5.844544598667326, -5.898286465773641)),\n",
       " ('Sketcher.', (-6.201951060902276, -6.226146027860253)),\n",
       " ('SIOGO', (-6.201951060902276, -5.3979400086720375)),\n",
       " ('One\".', (-5.953419403705025, -6.110894558655085)),\n",
       " (\"D'ANDREA9.\", (-6.201951060902276, -5.3979400086720375)),\n",
       " ('analytic', (-5.907419358275212, -6.050054768804571)),\n",
       " ('Cugie', (-6.201951060902276, -5.3979400086720375)),\n",
       " ('Oakwood', (-6.185083135614981, -6.226146027860253)),\n",
       " ('NEGATIVE', (-5.963234385998624, -5.567293246732216)),\n",
       " ('dissappoint.', (-5.9914285866372206, -6.193353514463945)),\n",
       " ('Disconsolate,\"', (-6.201951060902276, -5.3979400086720375)),\n",
       " ('trader.The', (-6.201951060902276, -6.230424825839528)),\n",
       " (\"to's.\", (-6.160949455898261, -6.21771286032339)),\n",
       " ('1999,', (-5.607481927921803, -5.6869714942343474)),\n",
       " ('facto', (-6.075938666189913, -6.098025632465763)),\n",
       " ('World-Herald', (-6.201951060902276, -5.3979400086720375)),\n",
       " ('bureaucrat', (-6.127091188637294, -6.1309424786662134)),\n",
       " ('artist).', (-6.141814445458, -6.193353514463945)),\n",
       " ('mmmmm!', (-6.185083135614981, -5.3979400086720375)),\n",
       " ('sponsor).I', (-6.201951060902276, -5.3979400086720375)),\n",
       " ('of,I', (-6.201951060902276, -6.221908974916998)),\n",
       " ('messaging', (-5.963234385998624, -5.929394830175546)),\n",
       " (\"amazin'.\", (-6.201951060902276, -5.3979400086720375)),\n",
       " ('Reactors', (-6.201951060902276, -5.3979400086720375)),\n",
       " ('PSHYCEDELIC', (-6.201951060902276, -5.3979400086720375)),\n",
       " ('deservingly.', (-6.1934352099797465, -6.230424825839528)),\n",
       " ('hand-made', (-6.089001139029154, -6.15196082930572)),\n",
       " ('actual,', (-6.02729548739175, -5.958284395448926)),\n",
       " ('inch-and-a-half', (-6.197672262923001, -6.230424825839528)),\n",
       " ('leopard-print', (-6.1934352099797465, -6.230424825839528)),\n",
       " ('Venom', (-5.890302089228001, -5.96058835035849)),\n",
       " ('It,\"', (-5.9914285866372206, -6.101207291251953)),\n",
       " ('Montery', (-6.201951060902276, -6.221908974916998)),\n",
       " ('generalist.', (-6.185083135614981, -6.226146027860253)),\n",
       " ('SEGUIR,', (-6.201951060902276, -5.3979400086720375)),\n",
       " ('commendable', (-5.7669397408546565, -5.933716203958189)),\n",
       " ('itMy', (-6.185083135614981, -6.226146027860253)),\n",
       " ('Vacu-vin', (-6.185083135614981, -6.230424825839528)),\n",
       " ('mim', (-6.172848679197969, -6.230424825839528)),\n",
       " ('mandar', (-6.197672262923001, -6.226146027860253)),\n",
       " (\"There'll\", (-6.109362421676862, -6.20132244413522)),\n",
       " ('ETERNITY...', (-6.201951060902276, -5.3979400086720375)),\n",
       " ('navy.', (-6.0663933482836825, -6.11417226841632)),\n",
       " ('dope!', (-6.075938666189913, -6.20132244413522)),\n",
       " ('clinic.', (-5.9682263315561235, -6.009436917896307)),\n",
       " (\"Jurassic's\", (-6.197672262923001, -5.3979400086720375)),\n",
       " ('12/19/07),', (-6.201951060902276, -5.3979400086720375)),\n",
       " ('Jessicka', (-6.164879749526694, -6.226146027860253)),\n",
       " ('Kids.', (-5.900921065238295, -6.012029728474587)),\n",
       " ('wallop.', (-6.057053322029539, -6.221908974916998)),\n",
       " ('Corp', (-5.918470704754693, -5.922992338566416)),\n",
       " ('myself).', (-5.873833974769314, -5.967574471219156)),\n",
       " ('Leaps.', (-6.201951060902276, -6.230424825839528)),\n",
       " ('motivating!', (-6.085698503479069, -6.230424825839528)),\n",
       " (',I', (-5.647563864151753, -5.66187459742169)),\n",
       " ('Williams!', (-6.105901889567356, -6.221908974916998)),\n",
       " ('perfumes.*', (-6.201951060902276, -5.3979400086720375)),\n",
       " ('indication', (-5.382798205514618, -4.938739530308498)),\n",
       " ('LONNIE', (-6.189239095386139, -5.3979400086720375)),\n",
       " ('Hand\"', (-5.92751883373209, -6.038846547212937)),\n",
       " ('withdrawl', (-6.099062465037051, -6.189423220835513)),\n",
       " ('oozing', (-5.9861643466448635, -5.811500325685363)),\n",
       " ('re-cover', (-6.201951060902276, -6.213556900552232)),\n",
       " ('Turks.', (-6.160949455898261, -6.181667756138751)),\n",
       " ('\"guessing\"', (-6.189239095386139, -6.21771286032339)),\n",
       " (\"much.It's\", (-6.149367583348446, -6.155564953574546)),\n",
       " ('logistics', (-5.918470704754693, -5.946944469691944)),\n",
       " ('Spine', (-5.90307637726443, -6.127536229974302)),\n",
       " ('magical.', (-5.493622733057707, -6.009436917896307)),\n",
       " ('age-old', (-5.844544598667326, -5.996700096493375)),\n",
       " ('\"stranger', (-6.168845936744295, -6.213556900552232)),\n",
       " ('ounce', (-5.384104355316901, -5.153759152711283)),\n",
       " ('Seattle.', (-5.829695477628407, -5.981893168642277)),\n",
       " ('sometime!I', (-6.201951060902276, -5.3979400086720375)),\n",
       " ('members--', (-6.197672262923001, -5.3979400086720375)),\n",
       " ('mediocre.', (-5.813575481425253, -5.122141198087596)),\n",
       " ('yourselves,', (-6.057053322029539, -5.991708150935876)),\n",
       " ('imaginationings', (-6.201951060902276, -5.3979400086720375)),\n",
       " ('Admittedly', (-5.786316686195161, -5.776864302888178)),\n",
       " ('cheap)', (-5.999446558653069, -5.929394830175546)),\n",
       " ('smith.this', (-6.201951060902276, -5.3979400086720375)),\n",
       " ('progressions', (-5.81533732758154, -5.847356373283441)),\n",
       " ('out\"...they', (-6.201951060902276, -5.3979400086720375)),\n",
       " ('Leroi,', (-6.1934352099797465, -6.230424825839528)),\n",
       " ('wish...', (-6.145574594331307, -6.174048359268559)),\n",
       " ('Petrylak', (-6.201951060902276, -5.3979400086720375)),\n",
       " ('rumba,', (-6.172848679197969, -6.226146027860253)),\n",
       " ('spoilers.I', (-6.201951060902276, -6.226146027860253)),\n",
       " ('crash.A', (-6.201951060902276, -6.230424825839528)),\n",
       " ('\"realistic\"', (-6.018751713848456, -5.991708150935876)),\n",
       " ('BATTLE', (-5.939100706281905, -6.006859495008497)),\n",
       " ('2CASABLANCA', (-6.201951060902276, -5.3979400086720375)),\n",
       " ('(1943)AERIAL', (-6.201951060902276, -5.3979400086720375)),\n",
       " ('Gloriously', (-6.123487064368469, -6.221908974916998)),\n",
       " ('everything.Your', (-6.201951060902276, -5.3979400086720375)),\n",
       " ('Skye!', (-6.1934352099797465, -5.3979400086720375)),\n",
       " ('type.Very', (-6.197672262923001, -5.3979400086720375)),\n",
       " ('pizza.', (-5.817106350320386, -5.858169242565658)),\n",
       " ('arrive.I', (-6.176888656999709, -6.20132244413522)),\n",
       " ('knock-out', (-6.024428846740146, -6.181667756138751)),\n",
       " (\"recorder.I've\", (-6.201951060902276, -5.3979400086720375)),\n",
       " ('Fateh', (-6.0923290823780825, -6.20132244413522)),\n",
       " ('sandalwood', (-6.053984090301863, -6.027920323590321)),\n",
       " ('high-def', (-6.0923290823780825, -6.036089112667748)),\n",
       " ('units.The', (-6.1570544120147375, -6.205362421936961)),\n",
       " ('wrong!!!!!', (-6.185083135614981, -6.193353514463945)),\n",
       " ('hero!!?', (-6.201951060902276, -5.3979400086720375)),\n",
       " ('horrible.', (-5.404183176803186, -4.1558545797819475)),\n",
       " ('domain.', (-5.999446558653069, -5.908410338693419)),\n",
       " (\"1930's.\", (-5.852163995537518, -6.094867113220934)),\n",
       " ('watercolor,', (-6.099062465037051, -6.197319701681547)),\n",
       " ('ROBIN', (-6.036010719289961, -6.11417226841632)),\n",
       " ('animal-loving', (-6.189239095386139, -6.226146027860253)),\n",
       " ('book?\"', (-6.089001139029154, -6.009436917896307)),\n",
       " ('ar-15,', (-6.201951060902276, -5.3979400086720375)),\n",
       " ('alright...The', (-6.201951060902276, -5.3979400086720375)),\n",
       " ('Supurb!', (-6.197672262923001, -5.3979400086720375)),\n",
       " ('bug-like', (-6.197672262923001, -6.226146027860253)),\n",
       " ('Iorek', (-6.168845936744295, -6.230424825839528)),\n",
       " ('daemon,', (-6.160949455898261, -6.226146027860253)),\n",
       " ('Selections', (-5.950999929581613, -6.137836186614114)),\n",
       " ...]"
      ]
     },
     "execution_count": 61,
     "metadata": {},
     "output_type": "execute_result"
    }
   ],
   "source": [
    "palavra_concat_smooth"
   ]
  },
  {
   "cell_type": "markdown",
   "id": "a622612a-db4b-48b8-9ce4-3d554bff35a0",
   "metadata": {},
   "source": [
    "Vamos refazer o processo mas sem o collect dessa vez, para verificarmos se algo mudou com as palavras mais positivas ou negativas."
   ]
  },
  {
   "cell_type": "code",
   "execution_count": 51,
   "id": "fc32af92-653a-486c-b28b-8e64fcb68a11",
   "metadata": {},
   "outputs": [],
   "source": [
    "palavra_concat_smooth = positive_smoothing.fullOuterJoin(negative_smoothing).\\\n",
    "    map(lambda x: (x[0], (x[1][0], np.log10(alfa/(alfa*V)))) if x[1][1] == None else (x[0], (x[1][0],x[1][1]))).\\\n",
    "    map(lambda x: (x[0], (np.log10(alfa/(alfa*V)), x[1][1])) if x[1][0] == None else (x[0], (x[1][0],x[1][1])))"
   ]
  },
  {
   "cell_type": "code",
   "execution_count": 52,
   "id": "9113aa1f-74be-46f1-9c58-6b3e6d2d59e4",
   "metadata": {},
   "outputs": [],
   "source": [
    "most_negative_with_smoothing = palavra_concat_smooth.map(lambda x: (x[0], x[1][0], x[1][1], x[1][1] - x[1][0])).map(lambda x: (x[0], x[3])).takeOrdered(100, lambda x: -x[1])"
   ]
  },
  {
   "cell_type": "code",
   "execution_count": 53,
   "id": "a3a0c811-2811-4264-a263-97a598061242",
   "metadata": {},
   "outputs": [
    {
     "data": {
      "text/plain": [
       "[('Disappointing', 1.8220457182801608),\n",
       " ('Waste', 1.7305894232232353),\n",
       " ('Disappointed', 1.6599676965922034),\n",
       " ('Terrible', 1.620164578913955),\n",
       " ('Poorly', 1.5998804062605947),\n",
       " ('Boring', 1.5864624905567304),\n",
       " ('WASTE', 1.5816392884229709),\n",
       " ('Horrible', 1.5811793460304422),\n",
       " ('Disappointment', 1.5455175658294849),\n",
       " ('Worst', 1.5090061700392052),\n",
       " ('Junk', 1.5081834081731094),\n",
       " ('Awful', 1.4913398102703184),\n",
       " ('refund.', 1.4844859150111187),\n",
       " ('waste', 1.4526240130314894),\n",
       " ('Avoid', 1.422531918545455),\n",
       " ('WORST', 1.4214686846339752),\n",
       " ('Worthless', 1.4022768053579142),\n",
       " ('Defective', 1.3851282699841914),\n",
       " ('junk.', 1.3751418624793867),\n",
       " ('Useless', 1.3673625526800377),\n",
       " ('garbage.', 1.3670083326446676),\n",
       " ('Buyer', 1.3579565971092853),\n",
       " ('Poor', 1.3478366261394847),\n",
       " ('awful.', 1.3323128509570452),\n",
       " ('refund', 1.3317332308939802),\n",
       " ('disappointment!', 1.3090471202601277),\n",
       " ('disappointment.', 1.3015407682374072),\n",
       " ('poorly', 1.2967569012165239),\n",
       " ('trash.', 1.2851942073100844),\n",
       " ('Boring,', 1.2658534138897748),\n",
       " ('terrible.', 1.2639416423111927),\n",
       " ('horrible.', 1.2483285970212386),\n",
       " ('JUNK', 1.2444355832226819),\n",
       " ('Save', 1.2328052261561964),\n",
       " ('junk!', 1.2292220715818845),\n",
       " ('worst', 1.2260675165721873),\n",
       " ('worthless.', 1.213104976429026),\n",
       " ('useless.', 1.1974266857020481),\n",
       " ('HORRIBLE', 1.1951257440195633),\n",
       " ('Misleading', 1.1871451080830706),\n",
       " ('worthless', 1.1829915222537721),\n",
       " ('redeeming', 1.1775705584418033),\n",
       " ('Returned', 1.1774101083785835),\n",
       " ('DRM', 1.1750288835963847),\n",
       " ('Disappointing.', 1.1502656394081177),\n",
       " ('disappointing.', 1.1498389541123881),\n",
       " ('Broke', 1.1429715749926252),\n",
       " ('Worse', 1.1373378548738593),\n",
       " ('defective', 1.1097346136539166),\n",
       " ('wasted', 1.108711779860132),\n",
       " ('awful!', 1.1076299691290918),\n",
       " ('Crap', 1.1052388959785535),\n",
       " ('unusable.', 1.104606188932281),\n",
       " ('crap.', 1.101002923670526),\n",
       " ('TERRIBLE', 1.0982707725343115),\n",
       " ('Horrible!', 1.0963625316465366),\n",
       " ('uninteresting', 1.084325954103317),\n",
       " ('refund,', 1.0755694826762818),\n",
       " ('BORING', 1.0737695182226714),\n",
       " ('sucks.', 1.072617601062638),\n",
       " ('Mediocre', 1.0701277574414645),\n",
       " ('drivel.', 1.0683196432957978),\n",
       " ('terrible!', 1.066798171703887),\n",
       " ('Cheaply', 1.0639626650893508),\n",
       " ('0', 1.0620184736729001),\n",
       " ('useless', 1.059207565101954),\n",
       " ('AWFUL', 1.058866968428692),\n",
       " ('defective.', 1.051298438450031),\n",
       " ('horrible!', 1.050707481110373),\n",
       " ('pathetic.', 1.050132637238355),\n",
       " ('insult', 1.0490000588755706),\n",
       " ('AVOID', 1.0482384893445946),\n",
       " ('BUYER', 1.042274313573511),\n",
       " ('Lousy', 1.0407431805983318),\n",
       " ('Flimsy', 1.039337866297255),\n",
       " ('terrible,', 1.0360348148287075),\n",
       " ('disappointing!', 1.033402622901903),\n",
       " ('disappointing', 1.0326919811702617),\n",
       " ('Weak', 1.032070533084232),\n",
       " ('poor.', 1.027065009024132),\n",
       " ('Terrible!', 1.0253875607805716),\n",
       " ('Beware!', 1.0242448104448876),\n",
       " ('Overrated', 1.0226787575101302),\n",
       " ('BEWARE', 1.0199717206506511),\n",
       " ('Dull', 1.0192813909133376),\n",
       " ('Dissapointed', 1.0158217534100311),\n",
       " ('warranty', 1.0158042432827887),\n",
       " ('stinks.', 1.0154523930840798),\n",
       " ('restocking', 1.0129189202209732),\n",
       " ('Sorry,', 1.0102026541407838),\n",
       " ('Garbage', 1.008656275004289),\n",
       " ('POOR', 1.0065038186183202),\n",
       " ('Bother', 1.006190073535162),\n",
       " ('Lame', 1.0060670447658842),\n",
       " ('awful,', 1.0041212969976403),\n",
       " ('Pathetic', 0.9993248688658731),\n",
       " ('laughable.', 0.993711052005624),\n",
       " ('amateurish', 0.9918438941373289),\n",
       " ('Skip', 0.9901519424114777),\n",
       " ('crap!', 0.9867251704434992)]"
      ]
     },
     "execution_count": 53,
     "metadata": {},
     "output_type": "execute_result"
    }
   ],
   "source": [
    "most_negative_with_smoothing"
   ]
  },
  {
   "cell_type": "code",
   "execution_count": 54,
   "id": "28987ad7-2ca9-4493-8fdc-f8cc8005efba",
   "metadata": {},
   "outputs": [],
   "source": [
    "most_positive_with_smoothing = palavra_concat_smooth.map(lambda x: (x[0], x[1][0], x[1][1], x[1][0] - x[1][1])).map(lambda x: (x[0], x[3])).takeOrdered(100, lambda x: -x[1])"
   ]
  },
  {
   "cell_type": "code",
   "execution_count": 55,
   "id": "747fe3ad-01af-4b21-99d2-3fed1a481f7f",
   "metadata": {},
   "outputs": [
    {
     "data": {
      "text/plain": [
       "[('Excellent', 1.4894506925491404),\n",
       " ('Awesome', 1.4216832465162552),\n",
       " ('Outstanding', 1.4011812496639253),\n",
       " ('Excellent!', 1.3728181058943294),\n",
       " ('Awesome!', 1.2893398365510205),\n",
       " ('must-have', 1.2337027424750149),\n",
       " ('Wonderful', 1.1900803018596555),\n",
       " ('Wonderful!', 1.174357471786596),\n",
       " ('Excellent,', 1.1594210304715622),\n",
       " ('amazing!', 1.1397716604434098),\n",
       " ('Highly', 1.1346680801736397),\n",
       " ('Enjoy!', 1.1243188951512924),\n",
       " ('Fantastic', 1.11250691803885),\n",
       " ('Great!', 1.1106848711277983),\n",
       " ('Fantastic!', 1.1097266069900336),\n",
       " ('Superb', 1.1056086421094147),\n",
       " ('Terrific', 1.0659929123676992),\n",
       " ('awesome!', 1.0635873843535766),\n",
       " ('must-read', 1.0626692768800865),\n",
       " ('Enjoyable', 1.0551889530389937),\n",
       " ('pleasantly', 1.0507253421117877),\n",
       " ('Recommended.', 1.0330817071776055),\n",
       " ('recommended!', 1.0330614253636607),\n",
       " ('invaluable', 1.027150703801559),\n",
       " ('Perfect!', 1.0216001561035783),\n",
       " ('Amazing', 1.017396190158271),\n",
       " ('Amazing!', 1.0160289454829936),\n",
       " ('Perfect', 1.0153240405694586),\n",
       " ('Inspiring', 1.0013501087677064),\n",
       " ('Read!', 1.0008262902582583),\n",
       " ('Wonderfully', 0.9848399680064324),\n",
       " ('AWESOME', 0.9831308753454415),\n",
       " ('Delightful', 0.9781686466258561),\n",
       " ('Fun!', 0.976642126664383),\n",
       " ('fun!', 0.9693842826726273),\n",
       " ('Fabulous', 0.9665035200775289),\n",
       " ('refreshing', 0.9631407307639392),\n",
       " ('wonderful!', 0.9546446553758434),\n",
       " ('hooked.', 0.9470207029930204),\n",
       " ('rocks!', 0.9456883946208015),\n",
       " ('perfect!', 0.9418322300907453),\n",
       " ('Solid', 0.9373725030164533),\n",
       " ('Favorite', 0.9346904355704462),\n",
       " ('fantastic!', 0.9333473046696117),\n",
       " ('captures', 0.9332935976078565),\n",
       " ('AWESOME!', 0.9295971320468182),\n",
       " ('collection!', 0.9290474218445368),\n",
       " ('Awsome', 0.9281093366003015),\n",
       " ('Beautifully', 0.9237384144172385),\n",
       " ('Great', 0.9188948830695134),\n",
       " ('Fascinating', 0.9098884569429346),\n",
       " ('Rocks!', 0.9080826560796726),\n",
       " ('delightful', 0.9015572814620869),\n",
       " ('favorites', 0.8987240883947125),\n",
       " ('EXCELLENT', 0.8922995033070187),\n",
       " ('amazing.', 0.8894812195432689),\n",
       " ('best!', 0.8811494622836973),\n",
       " ('favorite!', 0.8801834566324631),\n",
       " ('hooked!', 0.8794873717609208),\n",
       " ('Powerful', 0.8774895848722597),\n",
       " ('Brings', 0.8773847748516257),\n",
       " ('underrated', 0.8773305388875334),\n",
       " ('excellent!', 0.8748732577741309),\n",
       " ('weaves', 0.8747986263376752),\n",
       " ('Inspirational', 0.8713015724849393),\n",
       " ('Book!', 0.8699618823197852),\n",
       " ('Wonderful,', 0.869730354513095),\n",
       " ('everyone!', 0.8696578593866153),\n",
       " ('Brilliant', 0.8682002185626025),\n",
       " ('Outstanding!', 0.8657464674395516),\n",
       " ('Refreshing', 0.8655439519395411),\n",
       " ('great!', 0.8637966407938671),\n",
       " ('favorites!', 0.8626246247104641),\n",
       " ('Exceptional', 0.8604911162079834),\n",
       " ('Excelent', 0.8591684952248624),\n",
       " ('Bravo!', 0.8588485481308021),\n",
       " ('BEST', 0.8587662564238947),\n",
       " ('Excellent.', 0.8561426547548772),\n",
       " ('compliments', 0.8558556173037948),\n",
       " ('Pleasantly', 0.8503483359711179),\n",
       " ('Fun', 0.8493935751667232),\n",
       " ('Recommended!', 0.849320910705039),\n",
       " ('classic!', 0.8486255305040267),\n",
       " ('incredible.', 0.8471556306333223),\n",
       " ('Resource', 0.8449700073971149),\n",
       " ('Enjoyed', 0.8443187251644462),\n",
       " ('Best!', 0.8440762600908887),\n",
       " ('Beautiful!', 0.8435671629977239),\n",
       " ('downside', 0.8359499654432785),\n",
       " ('ages!', 0.8346537389211388),\n",
       " ('timeless', 0.8325537089522701),\n",
       " ('buried),', 0.8324848171674901),\n",
       " ('highway-side', 0.8324848171674901),\n",
       " ('what?Dont', 0.8324848171674901),\n",
       " ('qualifier..', 0.8324848171674901),\n",
       " ('fan-unfriendly', 0.8324848171674901),\n",
       " ('Brutallity', 0.8324848171674901),\n",
       " ('logic.The', 0.8324848171674901),\n",
       " ('writter/director', 0.8324848171674901),\n",
       " ('movie....ugh.', 0.8324848171674901)]"
      ]
     },
     "execution_count": 55,
     "metadata": {},
     "output_type": "execute_result"
    }
   ],
   "source": [
    "most_positive_with_smoothing"
   ]
  },
  {
   "cell_type": "markdown",
   "id": "50c9beaa-5358-4800-99c8-90bd69dcecee",
   "metadata": {},
   "source": [
    "### Algumas observações"
   ]
  },
  {
   "cell_type": "markdown",
   "id": "2d189178-2154-4989-9bb7-897ba93b898c",
   "metadata": {},
   "source": [
    "Aparentemente, mudou em relação a tarefa inicial de predizer as 100 mais negativas e as 100 mais positivas, contudo, continua fazendo sentido. Inicialmente, nós (Jean e Fabricio) tivemos problemas porque os resultados não pareciam fazer muito sentido, apesar de estarmos fazendo as mesmas coisas que fizemos na primeira parte. Então percebemos que o alpha e o V (número estimado de palavras na língua) afetavam de maneira diferente uma palavra existente no contexto e uma palavra inexistente, então estimamos valores melhores que começaram a fazer mais sentido até chegar no resultado acima."
   ]
  },
  {
   "cell_type": "markdown",
   "id": "0c60baa1",
   "metadata": {},
   "source": [
    "## Rubrica de avaliação"
   ]
  },
  {
   "cell_type": "markdown",
   "id": "f012b9b1",
   "metadata": {},
   "source": [
    "- I: groselha, falha crítica, ou não entregou nada\n",
    "- D: Fez uma tentativa honesta de fazer todos os itens da fase 1, mas tem erros\n",
    "- C: Fase 1 completa\n",
    "- B: Fase 2, faltando apenas um desafio\n",
    "- A: Fase 2 completa"
   ]
  }
 ],
 "metadata": {
  "kernelspec": {
   "display_name": "Python 3 (ipykernel)",
   "language": "python",
   "name": "python3"
  },
  "language_info": {
   "codemirror_mode": {
    "name": "ipython",
    "version": 3
   },
   "file_extension": ".py",
   "mimetype": "text/x-python",
   "name": "python",
   "nbconvert_exporter": "python",
   "pygments_lexer": "ipython3",
   "version": "3.10.8"
  },
  "vscode": {
   "interpreter": {
    "hash": "e7370f93d1d0cde622a1f8e1c04877d8463912d04d973331ad4851f04de6915a"
   }
  }
 },
 "nbformat": 4,
 "nbformat_minor": 5
}
