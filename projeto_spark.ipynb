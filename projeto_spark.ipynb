{
 "cells": [
  {
   "cell_type": "markdown",
   "id": "0b53deaf",
   "metadata": {},
   "source": [
    "# Projeto Spark\n",
    "\n",
    "A ser realizado em duplas.\n",
    "\n",
    "Entrega: 6 de dezembro de 2022"
   ]
  },
  {
   "cell_type": "markdown",
   "id": "864a644e",
   "metadata": {
    "tags": []
   },
   "source": [
    "## Introdução\n",
    "\n",
    "Neste projeto vamos construir um classificador Naive-Bayes para determinar o sentimento de um comentário."
   ]
  },
  {
   "cell_type": "markdown",
   "id": "fba01845",
   "metadata": {},
   "source": [
    "## Instalando o ambiente"
   ]
  },
  {
   "cell_type": "markdown",
   "id": "557b6a0c",
   "metadata": {},
   "source": [
    "O jeito mais simples de começar a trabalhar com Spark é instalar um container com tudo pronto! No site https://hub.docker.com/r/jupyter/pyspark-notebook vemos uma imagem Docker que já vem com `pyspark` e `jupyter lab`. Instale a imagem com o comando:\n",
    "\n",
    "```bash\n",
    "docker pull jupyter/pyspark-notebook\n",
    "```\n",
    "\n",
    "Vamos iniciar o ambiente de trabalho com o comando `docker run`. Para isso precisamos tomar alguns cuidados:\n",
    "\n",
    "1) Temos que mapear nosso diretorio local de trabalho para um diretório interno do container, de modo que alterações feitas dentro do container (nesta pasta escolhida) sejam gravadas no nosso diretorio local. No container temos um usuário padrão com *username* `jovyan`. No *homedir* desse usuario temos uma pasta vazia `work`, que vai servir como local de mapeamento do nosso diretorio local de trabalho. Podemos então fazer esse mapeamendo com a opção `-v` do comando `docker run` da seguinte forma:\n",
    "\n",
    "```bash\n",
    "-v <diretorio>:/home/jovyan/work\n",
    "```\n",
    "\n",
    "onde `<diretorio>` representa seu diretorio local de trabalho.\n",
    "\n",
    "2) Para acessar o `jupyter notebook` e o *dashboard* do Spark a partir do nosso *browser* favorito temos que abrir algumas portas do container com a opção `-p`. As portas são `8888` (para o próprio `jupyter notebook`) e `4040` (para o *dashboard* do Spark). Ou seja, adicionaremos às opções do `docker run`o seguinte:\n",
    "\n",
    "```bash\n",
    "-p 8888:8888 -p 4040:4040\n",
    "```\n",
    "\n",
    "Desta forma, ao acessar `localhost:8888` na nossa máquina, estaremos acessando o servidor Jupyter na porta 8888 interna do container.\n",
    "\n",
    "3) Vamos iniciar o container no modo interativo, e vamos especificar que o container deve ser encerrado ao fechar o servidor Jupyter. Faremos isso com as opções `-it` e `-rm`\n",
    "\n",
    "Portanto, o comando completo que eu uso na minha máquina Linux para iniciar o container é:\n",
    "\n",
    "```bash\n",
    "docker run \\\n",
    "    -it \\\n",
    "    --rm \\\n",
    "    -p 8888:8888 \\\n",
    "    -p 4040:4040 \\\n",
    "    -v `pwd`:/home/jovyan/work \\\n",
    "    jupyter/pyspark-notebook\n",
    "\n",
    "\n",
    "```\n",
    "\n",
    "Para facilitar a vida eu coloco esse comando em um arquivo `inicia.sh`. Engenheiros, façam do jeito que preferirem!\n",
    "\n",
    "Agora abra esse notebook lá no container!\n"
   ]
  },
  {
   "cell_type": "markdown",
   "id": "d6496ca0",
   "metadata": {},
   "source": [
    "## Iniciando o Spark"
   ]
  },
  {
   "cell_type": "markdown",
   "id": "abd64175",
   "metadata": {},
   "source": [
    "Vamos iniciar o ambiente Spark. Para isso vamos:\n",
    "\n",
    "1) Criar um objeto de configuração do ambiente Spark. Nossa configuração será simples: vamos especificar que o nome da nossa aplicação Spark é \"Minha aplicação\", e que o *master node* é a máquina local, usando todos os *cores* disponíveis. Aplicações reais de Spark são configuradas de modo ligeiramente diferente: ao especificar o *master node* passamos uma URL real, com o endereço do nó gerente do *cluster* Spark.\n",
    "\n",
    "2) Vamos criar um objeto do tipo `SparkContext` com essa configuração"
   ]
  },
  {
   "cell_type": "code",
   "execution_count": 1,
   "id": "17034aae",
   "metadata": {},
   "outputs": [],
   "source": [
    "import pyspark\n",
    "\n",
    "conf = pyspark.SparkConf()\n",
    "conf.setAppName('Minha aplicação')\n",
    "conf.setMaster('local[*]')\n",
    "\n",
    "sc = pyspark.SparkContext(conf=conf)"
   ]
  },
  {
   "cell_type": "code",
   "execution_count": 2,
   "id": "6541dd61-3596-46fc-8d72-89a0b65dfd14",
   "metadata": {},
   "outputs": [],
   "source": [
    "#outras bibliotecas\n",
    "import numpy as np"
   ]
  },
  {
   "cell_type": "markdown",
   "id": "48ee29d0",
   "metadata": {},
   "source": [
    "O `SparkContext` é a nossa porta de entrada para o cluster Spark, ele será a raiz de todas as nossas operações com o Spark."
   ]
  },
  {
   "cell_type": "code",
   "execution_count": 3,
   "id": "c51ff835",
   "metadata": {},
   "outputs": [
    {
     "data": {
      "text/html": [
       "\n",
       "        <div>\n",
       "            <p><b>SparkContext</b></p>\n",
       "\n",
       "            <p><a href=\"http://4ec2a45a0c45:4040\">Spark UI</a></p>\n",
       "\n",
       "            <dl>\n",
       "              <dt>Version</dt>\n",
       "                <dd><code>v3.3.1</code></dd>\n",
       "              <dt>Master</dt>\n",
       "                <dd><code>local[*]</code></dd>\n",
       "              <dt>AppName</dt>\n",
       "                <dd><code>Minha aplicação</code></dd>\n",
       "            </dl>\n",
       "        </div>\n",
       "        "
      ],
      "text/plain": [
       "<SparkContext master=local[*] appName=Minha aplicação>"
      ]
     },
     "execution_count": 3,
     "metadata": {},
     "output_type": "execute_result"
    }
   ],
   "source": [
    "sc"
   ]
  },
  {
   "cell_type": "markdown",
   "id": "c73ad9c4",
   "metadata": {},
   "source": [
    "O link acima provavelmente não funcionará porque ele se refere à porta 4040 interna do container (portanto a URL está com endereço interno). Porém fizemos o mapeamento da porta 4040 interna para a porta 4040 externa, logo você pode acessar o *dashboard* do Spark no endereço http://localhost:4040\n",
    "\n",
    "<center><img src=\"./spark_dashboard.png\" width=800/></center>"
   ]
  },
  {
   "cell_type": "markdown",
   "id": "0f2f404f",
   "metadata": {},
   "source": [
    "## Lendo os dados"
   ]
  },
  {
   "cell_type": "markdown",
   "id": "640d0a71",
   "metadata": {},
   "source": [
    "Vamos começar lendo o arquivo de reviews e gravando o resultado em formato pickle, mais amigável."
   ]
  },
  {
   "cell_type": "code",
   "execution_count": 2,
   "id": "c1fdacff",
   "metadata": {},
   "outputs": [],
   "source": [
    "def parse_line(line):\n",
    "    parts = line[1:-1].split('\",\"')\n",
    "    sentiment = int(parts[0])\n",
    "    title = parts[1].replace('\"\"', '\"')\n",
    "    body = parts[2].replace('\"\"', '\"')\n",
    "    return (sentiment, title, body)\n",
    "\n",
    "rdd = sc.textFile('train.csv').map(parse_line)"
   ]
  },
  {
   "cell_type": "markdown",
   "id": "09534fb8",
   "metadata": {},
   "source": [
    "Agora vamos gravar no formato pickle, para facilitar os trabalhos futuros. Após gravar o arquivo, não mais rode as células desta primeira etapa!"
   ]
  },
  {
   "cell_type": "code",
   "execution_count": null,
   "id": "a2ff6700",
   "metadata": {},
   "outputs": [],
   "source": [
    "rdd.saveAsPickleFile('reviews.pickle')"
   ]
  },
  {
   "cell_type": "markdown",
   "id": "e734a1a2",
   "metadata": {},
   "source": [
    "## Um classificador Naive-Bayes"
   ]
  },
  {
   "cell_type": "markdown",
   "id": "dbc31b16",
   "metadata": {},
   "source": [
    "Vamos ler o arquivo pickle gravado anteriormente:"
   ]
  },
  {
   "cell_type": "code",
   "execution_count": 4,
   "id": "3d834bdc",
   "metadata": {},
   "outputs": [],
   "source": [
    "rdd = sc.pickleFile('reviews.pickle')"
   ]
  },
  {
   "cell_type": "markdown",
   "id": "2fabadc7",
   "metadata": {},
   "source": [
    "Agora, complete as tarefas em sequencia para construir o classificador Naive-Bayes:"
   ]
  },
  {
   "cell_type": "markdown",
   "id": "8128a9d1",
   "metadata": {},
   "source": [
    "### Fase 1"
   ]
  },
  {
   "cell_type": "markdown",
   "id": "da7eb425",
   "metadata": {},
   "source": [
    "#### Tarefa"
   ]
  },
  {
   "cell_type": "markdown",
   "id": "c7bb4343",
   "metadata": {},
   "source": [
    "Construa uma função que recebe um RDD no formato do RDD original e retorna um RDD no qual cada item é um par (palavra, contagem)."
   ]
  },
  {
   "cell_type": "code",
   "execution_count": 5,
   "id": "47bb6cfb",
   "metadata": {},
   "outputs": [],
   "source": [
    "def separa_em_palavras(item):\n",
    "    titulo = item[1]\n",
    "    corpo = item[2]\n",
    "    \n",
    "    return titulo.split() + corpo.split()\n",
    "\n",
    "def palavra_contagem(rdd):\n",
    "    operacao = rdd.flatMap(separa_em_palavras).map(lambda x: (x, 1)).reduceByKey(lambda x, y: x+y)\n",
    "    return operacao"
   ]
  },
  {
   "cell_type": "code",
   "execution_count": 6,
   "id": "3b17c938-0a42-49e1-8208-335ea0f6dc70",
   "metadata": {},
   "outputs": [],
   "source": [
    "new = palavra_contagem(rdd)"
   ]
  },
  {
   "cell_type": "code",
   "execution_count": 7,
   "id": "46883d1e-c75f-4307-b786-e727ffb842cd",
   "metadata": {},
   "outputs": [
    {
     "data": {
      "text/plain": [
       "[('out', 667825),\n",
       " ('like', 930710),\n",
       " ('heart-rendering', 20),\n",
       " ('family', 62599),\n",
       " ('book', 1398748),\n",
       " ('let', 73362),\n",
       " ('angery.', 5),\n",
       " ('purposes.', 1624),\n",
       " ('wasting', 8540),\n",
       " ('When', 119667)]"
      ]
     },
     "execution_count": 7,
     "metadata": {},
     "output_type": "execute_result"
    }
   ],
   "source": [
    "new.take(10)"
   ]
  },
  {
   "cell_type": "markdown",
   "id": "b5cf7be4",
   "metadata": {},
   "source": [
    "#### Tarefa"
   ]
  },
  {
   "cell_type": "markdown",
   "id": "50855d78",
   "metadata": {},
   "source": [
    "Construa uma função que recebe o RDD (palavra, contagem) construido anteriormente e retorna um RDD no qual cada item é um par (palavra, $\\log_{10}\\left(c \\, / \\, T\\right)$), onde $c$ é a contagem daquela palavra e $T$ é a soma das contagens de palavra."
   ]
  },
  {
   "cell_type": "code",
   "execution_count": 8,
   "id": "e922d14d",
   "metadata": {},
   "outputs": [],
   "source": [
    "total_ = new.reduce(lambda x, y: (\"tudo\", x[1] + y[1]))"
   ]
  },
  {
   "cell_type": "code",
   "execution_count": 9,
   "id": "1d50f175-6c65-4dc6-91ea-ffd884ab163f",
   "metadata": {},
   "outputs": [],
   "source": [
    "def logaritmo(rdd, T):\n",
    "    operacao = rdd.map(lambda x: (x[0], np.log10(x[1]/T[1])))\n",
    "    return operacao"
   ]
  },
  {
   "cell_type": "code",
   "execution_count": 10,
   "id": "042a89e2-64fe-456f-8e8f-fa6bfd163b43",
   "metadata": {},
   "outputs": [],
   "source": [
    "new_2 = logaritmo(new, total_)"
   ]
  },
  {
   "cell_type": "code",
   "execution_count": 11,
   "id": "7c07b0ae-635e-4527-b118-f2ce10ac1bef",
   "metadata": {},
   "outputs": [
    {
     "data": {
      "text/plain": [
       "[('out', -2.6263333876130455),\n",
       " ('like', -2.4821816802222187),\n",
       " ('heart-rendering', -7.149966064766881)]"
      ]
     },
     "execution_count": 11,
     "metadata": {},
     "output_type": "execute_result"
    }
   ],
   "source": [
    "new_2.take(3)"
   ]
  },
  {
   "cell_type": "markdown",
   "id": "ebff5c58",
   "metadata": {},
   "source": [
    "#### Tarefa"
   ]
  },
  {
   "cell_type": "markdown",
   "id": "4e0e8e4a",
   "metadata": {},
   "source": [
    "Separe o RDD original em dois RDDs: o dos reviews positivos e o dos negativos. Em seguida, use as funções anteriores para construir RDDs que contem os pares (palavra, $\\log_{10}\\left(c \\, / \\, T\\right)$)"
   ]
  },
  {
   "cell_type": "code",
   "execution_count": 12,
   "id": "62c4e1f4-a476-4dcb-a638-921c14e3f997",
   "metadata": {},
   "outputs": [],
   "source": [
    "def filtra_categ(rdd, categ):\n",
    "    operation = rdd.filter(lambda x: x[0] == categ)\n",
    "    return operation"
   ]
  },
  {
   "cell_type": "code",
   "execution_count": 13,
   "id": "ca491f70",
   "metadata": {},
   "outputs": [],
   "source": [
    "positive = filtra_categ(rdd, 2)\n",
    "negative = filtra_categ(rdd, 1)"
   ]
  },
  {
   "cell_type": "code",
   "execution_count": 14,
   "id": "f16cdba0-51fd-4c22-849a-e08d4142a5aa",
   "metadata": {},
   "outputs": [
    {
     "data": {
      "text/plain": [
       "[(2,\n",
       "  'Stuning even for the non-gamer',\n",
       "  'This sound track was beautiful! It paints the senery in your mind so well I would recomend it even to people who hate vid. game music! I have played the game Chrono Cross but out of all of the games I have ever played it has the best music! It backs away from crude keyboarding and takes a fresher step with grate guitars and soulful orchestras. It would impress anyone who cares to listen! ^_^'),\n",
       " (2,\n",
       "  'The best soundtrack ever to anything.',\n",
       "  \"I'm reading a lot of reviews saying that this is the best 'game soundtrack' and I figured that I'd write a review to disagree a bit. This in my opinino is Yasunori Mitsuda's ultimate masterpiece. The music is timeless and I'm been listening to it for years now and its beauty simply refuses to fade.The price tag on this is pretty staggering I must say, but if you are going to buy any cd for this much money, this is the only one that I feel would be worth every penny.\"),\n",
       " (2,\n",
       "  'Amazing!',\n",
       "  'This soundtrack is my favorite music of all time, hands down. The intense sadness of \"Prisoners of Fate\" (which means all the more if you\\'ve played the game) and the hope in \"A Distant Promise\" and \"Girl who Stole the Star\" have been an important inspiration to me personally throughout my teen years. The higher energy tracks like \"Chrono Cross ~ Time\\'s Scar~\", \"Time of the Dreamwatch\", and \"Chronomantique\" (indefinably remeniscent of Chrono Trigger) are all absolutely superb as well.This soundtrack is amazing music, probably the best of this composer\\'s work (I haven\\'t heard the Xenogears soundtrack, so I can\\'t say for sure), and even if you\\'ve never played the game, it would be worth twice the price to buy it.I wish I could give it 6 stars.')]"
      ]
     },
     "execution_count": 14,
     "metadata": {},
     "output_type": "execute_result"
    }
   ],
   "source": [
    "positive.take(3)"
   ]
  },
  {
   "cell_type": "code",
   "execution_count": 15,
   "id": "c8a9657d-9c94-418b-9444-1777d3664ab4",
   "metadata": {},
   "outputs": [
    {
     "data": {
      "text/plain": [
       "[(1,\n",
       "  'Buyer beware',\n",
       "  'This is a self-published book, and if you want to know why--read a few paragraphs! Those 5 star reviews must have been written by Ms. Haddon\\'s family and friends--or perhaps, by herself! I can\\'t imagine anyone reading the whole thing--I spent an evening with the book and a friend and we were in hysterics reading bits and pieces of it to one another. It is most definitely bad enough to be entered into some kind of a \"worst book\" contest. I can\\'t believe Amazon even sells this kind of thing. Maybe I can offer them my 8th grade term paper on \"To Kill a Mockingbird\"--a book I am quite sure Ms. Haddon never heard of. Anyway, unless you are in a mood to send a book to someone as a joke---stay far, far away from this one!'),\n",
       " (1,\n",
       "  'The Worst!',\n",
       "  \"A complete waste of time. Typographical errors, poor grammar, and a totally pathetic plot add up to absolutely nothing. I'm embarrassed for this author and very disappointed I actually paid for this book.\"),\n",
       " (1,\n",
       "  'Oh please',\n",
       "  \"I guess you have to be a romance novel lover for this one, and not a very discerning one. All others beware! It is absolute drivel. I figured I was in trouble when a typo is prominently featured on the back cover, but the first page of the book removed all doubt. Wait - maybe I'm missing the point. A quick re-read of the beginning now makes it clear. This has to be an intentional churning of over-heated prose for satiric purposes. Phew, so glad I didn't waste $10.95 after all.\")]"
      ]
     },
     "execution_count": 15,
     "metadata": {},
     "output_type": "execute_result"
    }
   ],
   "source": [
    "negative.take(3)"
   ]
  },
  {
   "cell_type": "markdown",
   "id": "f067085c-96ed-47e7-8cfd-d74a5bc1ff02",
   "metadata": {},
   "source": [
    "Agora queremos que cada par positivo/negativo, tenha também o seu log(c/T)"
   ]
  },
  {
   "cell_type": "code",
   "execution_count": 16,
   "id": "a0d64570-93b6-413a-98c7-0da40dd74c03",
   "metadata": {},
   "outputs": [],
   "source": [
    "positive_ = palavra_contagem(positive)\n",
    "negative_ = palavra_contagem(negative)"
   ]
  },
  {
   "cell_type": "code",
   "execution_count": 17,
   "id": "5e90fdf6-debf-45ff-973e-0d87de48f5de",
   "metadata": {},
   "outputs": [],
   "source": [
    "total_positive = positive_.reduce(lambda x, y: (\"tudo\", x[1] + y[1]))\n",
    "total_negative = negative_.reduce(lambda x, y: (\"tudo\", x[1] + y[1]))"
   ]
  },
  {
   "cell_type": "code",
   "execution_count": 18,
   "id": "50f4d4ca-362f-40b8-b898-ca1e31e02e95",
   "metadata": {},
   "outputs": [],
   "source": [
    "positive_log = logaritmo(positive_, total_positive)\n",
    "negative_log = logaritmo(negative_, total_negative)"
   ]
  },
  {
   "cell_type": "code",
   "execution_count": 19,
   "id": "335f0847-065f-42b9-b7d5-c724225a37e3",
   "metadata": {},
   "outputs": [
    {
     "data": {
      "text/plain": [
       "[('out', -2.6616432990632193),\n",
       " ('like', -2.493354335745979),\n",
       " ('heart-rendering', -6.877611149594514)]"
      ]
     },
     "execution_count": 19,
     "metadata": {},
     "output_type": "execute_result"
    }
   ],
   "source": [
    "positive_log.take(3)"
   ]
  },
  {
   "cell_type": "code",
   "execution_count": 20,
   "id": "88c9bc1b-48fd-4cca-86fa-1d823930c9ec",
   "metadata": {},
   "outputs": [
    {
     "data": {
      "text/plain": [
       "[('family', -3.9203467150039017),\n",
       " ('book', -2.3376666325195163),\n",
       " ('purposes.', -5.277100209404035)]"
      ]
     },
     "execution_count": 20,
     "metadata": {},
     "output_type": "execute_result"
    }
   ],
   "source": [
    "negative_log.take(3)"
   ]
  },
  {
   "cell_type": "markdown",
   "id": "414f149f",
   "metadata": {},
   "source": [
    "### Tarefa"
   ]
  },
  {
   "cell_type": "markdown",
   "id": "7cd81f9c",
   "metadata": {},
   "source": [
    "Use o `.fullOuterJoin()` dos RDDs para construir um RDD unificado, no qual cada item é da forma (palavra, log_prob_positivo, log_prob_negativo). \"Baixe\" esse resultado final usando `.collect()`."
   ]
  },
  {
   "cell_type": "code",
   "execution_count": 21,
   "id": "c51c37ab",
   "metadata": {},
   "outputs": [],
   "source": [
    "palavra_concat = positive_log.fullOuterJoin(negative_log).collect()"
   ]
  },
  {
   "cell_type": "code",
   "execution_count": 22,
   "id": "c389701a-4361-4e5e-81c7-182c3ea83df3",
   "metadata": {},
   "outputs": [
    {
     "data": {
      "text/plain": [
       "('out', (-2.6616432990632193, -2.596022446951644))"
      ]
     },
     "execution_count": 22,
     "metadata": {},
     "output_type": "execute_result"
    }
   ],
   "source": [
    "palavra_concat[0]"
   ]
  },
  {
   "cell_type": "markdown",
   "id": "3491a21e-a5d9-423f-8887-81266012206a",
   "metadata": {},
   "source": [
    "Vamos precisar converter para um dicionario. Isso porque é muito mais fácil encontrar a palavra caso ela seja uma chave do dict, se for uma lista, é preciso percorrer toda a lista."
   ]
  },
  {
   "cell_type": "code",
   "execution_count": 23,
   "id": "7d629e53-28e7-42f9-9c7a-d35fc69cde5e",
   "metadata": {},
   "outputs": [],
   "source": [
    "def convert_tupla_dict(tupla):\n",
    "    dictionary = {}\n",
    "    for word, values in tupla:\n",
    "        dictionary[word] = values\n",
    "    \n",
    "    return dictionary"
   ]
  },
  {
   "cell_type": "code",
   "execution_count": 24,
   "id": "7647ccda-c3a9-42b7-b97e-da62dc402be5",
   "metadata": {},
   "outputs": [],
   "source": [
    "palavra_concat_dict = convert_tupla_dict(palavra_concat)"
   ]
  },
  {
   "cell_type": "code",
   "execution_count": 25,
   "id": "20d05a31-9d6f-497b-98b6-23aeda5b717f",
   "metadata": {},
   "outputs": [
    {
     "data": {
      "text/plain": [
       "{'out': (-2.6616432990632193, -2.596022446951644),\n",
       " 'heart-rendering': (-6.877611149594514, -7.865371916246365),\n",
       " 'angery.': (-7.831853659033838, -7.689280657190683),\n",
       " 'age-old': (-6.018940302390982, -6.30307905178989),\n",
       " 'family': (-3.4798931704033724, -3.9203467150039017),\n",
       " 'start': (-3.5690467360332745, -3.6622437996551502),\n",
       " 'willing': (-4.465804449233603, -4.361649309759885),\n",
       " 'choices.': (-5.239676901637972, -5.309069415479077),\n",
       " 'Electronics': (-5.845081924767593, -5.551504695877211),\n",
       " 'gift': (-3.614264444068743, -3.915737992447102),\n",
       " 'southside': (-6.7904609738756125, -7.166401911910346),\n",
       " 'guest': (-4.751046854699476, -4.981426721212085),\n",
       " 'nails,': (-5.738431973871603, -5.746446163420588),\n",
       " 'cute': (-4.055043551962825, -4.201388461638098),\n",
       " 'smoother-than-silk': (-8.13288365469782, None),\n",
       " 'JMM': (-7.6557623999781566, None),\n",
       " '24': (-4.609137187886255, -4.498109201462125),\n",
       " 'Later,': (-5.69831475066362, -5.7667281904293075),\n",
       " 'fuel': (-5.083665632027637, -5.050458734971291),\n",
       " 'Starr': (-5.831853659033838, -5.820048937459707),\n",
       " 'Banana,': (-7.132883654697819, -7.467431907574327),\n",
       " 'favorite.': (-4.401214322869183, -5.153143246626829),\n",
       " 'Awesume!': (-8.13288365469782, None),\n",
       " 'Too': (-4.285743037284413, -3.6185164939969727),\n",
       " 'Nature': (-5.299736542785034, -5.536992312807627),\n",
       " \"daughter's\": (-4.684177334792739, -4.8007267714544275),\n",
       " 'especialy': (-5.79642392084929, -6.1410960466455755),\n",
       " 'hi-NRG': (-7.6557623999781566, -8.166401911910345),\n",
       " 'sufficiently': (-5.469182729308171, -5.369827578699916),\n",
       " 'countryside.I': (-7.831853659033838, -8.166401911910345),\n",
       " 'enhanced': (-4.9411532613349625, -5.333254799997561),\n",
       " 'NO,': (-6.124283482935902, -5.5557417488204655),\n",
       " 'Tha': (-5.638729060679377, -5.943685440762763),\n",
       " 'Hot\"': (-6.576581153930532, -6.575337304883846),\n",
       " 'Logic': (-5.468241679141694, -5.556807502685126),\n",
       " 'stash': (-5.717910306727001, -6.128975413969722),\n",
       " '\"Beyond': (-5.754485753749681, -6.032863003540128),\n",
       " 'meets': (-4.340211865556252, -4.6127615756789915),\n",
       " 'Rocky': (-5.2185404975783785, -5.399989064797946),\n",
       " 'AGAIN!!!!!!': (-7.354732404314175, -7.263311924918402),\n",
       " 'particularly': (-4.068650358663066, -4.18717231888819),\n",
       " 'installments': (-5.931486530377367, -5.885368544662618),\n",
       " 'Body': (-4.90217934108525, -5.06191480059795),\n",
       " 'funny-sad': (-7.6557623999781566, None),\n",
       " 'narrative': (-4.571424483455903, -4.619735886840162),\n",
       " '12).': (-6.752672412986213, -6.7192438805681265),\n",
       " 'diagnosed': (-5.094661016329101, -5.486066398495782),\n",
       " 'fatal': (-5.610439421191499, -5.120297124664307),\n",
       " 'adventure.': (-4.794227989119119, -5.416665596341285),\n",
       " 'Desert,': (-6.6557623999781566, -6.844182617176426),\n",
       " 'teaching': (-4.265062746652246, -4.517456729744673),\n",
       " 'indication': (-5.380067223509548, -4.892937639288999),\n",
       " 'unintended': (-6.159755801098121, -6.062598190954389),\n",
       " 'schools.': (-5.476785452684988, -5.7085200151763535),\n",
       " 'im': (-4.429162494770799, -4.417439050654184),\n",
       " 'Small': (-4.637200587080904, -4.767074379751667),\n",
       " 'have...I': (-7.354732404314175, -7.125009226752121),\n",
       " 'kinda': (-4.380912079961492, -4.418990104023922),\n",
       " '(and': (-3.7824224191001767, -3.795149282785406),\n",
       " 'shorter,': (-5.877611149594514, -5.771950231084129),\n",
       " 'daytime,': (-6.614369714819932, -6.634922994868091),\n",
       " 'Ow': (-7.6557623999781566, -7.125009226752121),\n",
       " 'Marie': (-5.254361859196613, -5.499883931355464),\n",
       " 'Islam': (-5.228709286413656, -5.090854950517815),\n",
       " 'herb': (-5.5838803926720315, -5.840066050981594),\n",
       " 'common': (-4.176283066484642, -4.12532519219487),\n",
       " 'Christian': (-4.1054932700128495, -4.236268266069228),\n",
       " 'Nonetheless,': (-5.201425784008814, -5.608894710004687),\n",
       " 'forwaed': (-8.13288365469782, None),\n",
       " 'school)': (-6.132883654697819, -6.442126042309557),\n",
       " 'matter,': (-5.037714303266064, -4.941092630184483),\n",
       " 'MODERN': (-5.959697386285545, -6.346857976368477),\n",
       " 'nothings,': (-7.530823663369857, -8.166401911910345),\n",
       " 'Puritan': (-6.229793667705875, -6.494304053974628),\n",
       " 'hypocrisy,': (-6.831853659033838, -6.647887972032458),\n",
       " 'all?': (-5.85413005374499, -5.454594682869154),\n",
       " 'overly': (-4.631824392480068, -4.445333610113186),\n",
       " 'prejudices,': (-6.601404737655564, -6.586618315293536),\n",
       " 'spends': (-4.9836645420424395, -4.596560012506584),\n",
       " 'yard': (-4.785748871787799, -4.794411000445431),\n",
       " 'muscles.': (-5.6130556609221, -5.951558063862648),\n",
       " 'Selections': (-6.229793667705875, -6.7684619032383075),\n",
       " 'decade': (-4.865242672351903, -5.059871058087964),\n",
       " 'Vary': (-6.627733676377913, -6.634922994868091),\n",
       " 'Dish': (-5.641521960863547, -5.679263536433159),\n",
       " 'Sticks': (-5.821129793642065, -5.901584088900809),\n",
       " 'listings,': (-6.333543105244238, -6.321303871896089),\n",
       " 'nights': (-4.805524720311489, -5.066376181802483),\n",
       " 'laughs!': (-5.926057778665969, -6.751428563939528),\n",
       " 'sound,': (-4.343373450607565, -4.484889325271383),\n",
       " 'him?': (-5.6765176215687765, -5.374711262890227),\n",
       " 'auto': (-4.749966519610288, -4.749761404572064),\n",
       " 'minutes,': (-4.775329934954738, -4.451401944498303),\n",
       " 'effective.It': (-7.178641145258494, -7.564341920582383),\n",
       " 'hype': (-4.961157201044588, -4.335172218043282),\n",
       " 'well-disciplined': (-7.4339136503618, -8.166401911910345),\n",
       " 'inherit': (-6.050098284381369, -6.207360519589252),\n",
       " 'watercolor,': (-6.6857256233556, -7.212159402471021),\n",
       " 'categorize': (-5.840627583341343, -5.938515207296672),\n",
       " 'Leitmotif,': (-8.13288365469782, None),\n",
       " 'KILL': (-5.899887544305665, -5.676443432485511),\n",
       " 'ed': (-5.696721007657064, -5.885368544662618),\n",
       " 'Corny.': (-7.831853659033838, -7.087220665862721),\n",
       " 'corny': (-5.151518145619275, -4.866676757934709),\n",
       " 'peanuts': (-5.918039806650121, -5.780795638312034),\n",
       " 'Whaa': (-8.13288365469782, None),\n",
       " 'Holiday': (-5.022630737344416, -5.465698194765326),\n",
       " 'body/pregnancy': (-8.13288365469782, None),\n",
       " 'adapter.': (-5.252641878802339, -5.037356852022388),\n",
       " 'indicator': (-5.267187594781749, -5.02873137467359),\n",
       " 'AC': (-5.003516058974833, -4.837207496821894),\n",
       " 'roof,': (-6.035973641689763, -6.128975413969722),\n",
       " 'pleased.': (-4.599111596313101, -5.26987569442079),\n",
       " '3+': (-5.863370710479903, -5.822009638225235),\n",
       " 'DOSENT': (-7.018940302390982, -6.647887972032458),\n",
       " 'complain': (-4.5647993233824256, -4.684386335459634),\n",
       " 'altri': (-7.287785614683562, -8.166401911910345),\n",
       " 'los': (-4.615687756747845, -5.020894740500683),\n",
       " '(stellar': (-7.6557623999781566, -8.166401911910345),\n",
       " 'aussie': (-6.281625305978744, -6.7684619032383075),\n",
       " 'Campbell': (-5.208087658899907, -5.446242608504389),\n",
       " 'stunning': (-4.537497673888677, -5.139052304135589),\n",
       " 'overtones': (-5.66159194363888, -5.782586545929914),\n",
       " 'Piercings,': (-8.13288365469782, None),\n",
       " 'clinic.': (-6.269560794577363, -6.333892999204109),\n",
       " 'USA,': (-5.491409544193719, -5.43642762621079),\n",
       " 'christmas....': (-8.13288365469782, -7.865371916246365),\n",
       " 'roots.': (-5.337003637353744, -5.610099411143058),\n",
       " 'tarts.': (-7.229793667705875, -7.125009226752121),\n",
       " 'fiddling': (-5.831853659033838, -5.489708302285479),\n",
       " 'Accomplishment': (-7.018940302390982, -7.865371916246365),\n",
       " 'disc.': (-4.624219291644876, -4.606734633522288),\n",
       " 'haunting.': (-5.500426362513095, -6.4503985682755465),\n",
       " 'boy,': (-4.9643861711747865, -5.081111333680281),\n",
       " 'rulers.': (-6.831853659033838, -7.321303871896089),\n",
       " 'belief': (-4.909907204804428, -4.844182617176426),\n",
       " 'un-calibrated': (-8.13288365469782, None),\n",
       " \"set'.\": (-7.831853659033838, -8.166401911910345),\n",
       " 'everyone,': (-4.776093194346103, -5.33903263885652),\n",
       " 'Indispensable!': (-6.6704856567988635, None),\n",
       " 'games.': (-4.5678627263525255, -4.644610262271222),\n",
       " 'Eckhart': (-5.977547617232758, -6.226882659291727),\n",
       " '\"progressive,': (-8.13288365469782, None),\n",
       " 'graphis': (-6.986755619019581, -6.865371916246365),\n",
       " 'AFX': (-7.132883654697819, -7.321303871896089),\n",
       " 'obsess': (-6.392520965203575, -6.4105270562378545),\n",
       " 'bird': (-4.763667797287677, -4.869298261761089),\n",
       " 'azabeche,': (-8.13288365469782, None),\n",
       " 'Hyancinth': (-8.13288365469782, None),\n",
       " 'unlock': (-5.241346197025255, -5.2855883196295546),\n",
       " 'cheated,': (-6.6857256233556, -6.011065874445284),\n",
       " 'comically': (-6.275551158266551, -6.002049056125909),\n",
       " '65-1/2\"': (-7.6557623999781566, None),\n",
       " 'administrators': (-5.962621939302862, -6.247323819534271),\n",
       " 'visible': (-5.107577789433049, -4.919165362403581),\n",
       " '\"Making': (-5.904996950084145, -6.052458559603509),\n",
       " 'Hand\"': (-6.178641145258494, -6.4105270562378545),\n",
       " 'overstock': (-7.091490969539594, -6.675040218076073),\n",
       " \"Z's\": (-6.6557623999781566, -6.735038147751358),\n",
       " 'Style': (-5.087952108548659, -5.212159402471021),\n",
       " 'dress.': (-5.708002018066752, -5.788004010962208),\n",
       " 'knowledgeable': (-5.226010119975749, -5.340327109209519),\n",
       " 'insulin': (-5.902434733319545, -5.954214307506388),\n",
       " 'introduced.': (-5.899887544305665, -5.829942178061816),\n",
       " 'discipline': (-5.263651934966843, -5.4396747028837735),\n",
       " 'chip.': (-6.050098284381369, -5.871935685748753),\n",
       " 'WWII.': (-5.245829276646862, -5.704003914011389),\n",
       " '3~4.5/5': (-8.13288365469782, None),\n",
       " '24.06': (-8.13288365469782, None),\n",
       " 'dipping': (-5.758135308687716, -5.822009638225235),\n",
       " 'radio,': (-4.943112698350945, -4.988288659595714),\n",
       " 'Pulp': (-5.651441026195514, -5.686394968953195),\n",
       " 'real\"': (-6.499415199118233, -6.467431907574327),\n",
       " 'fusion': (-5.060633757084305, -5.534958142897174),\n",
       " 'listens': (-4.878335577588845, -5.201670990856716),\n",
       " 'Evanescence': (-5.936984002288585, -5.930873465002796),\n",
       " 'Cradle': (-5.621000293718945, -5.668091358120745),\n",
       " 'Spine': (-6.128562280915177, -6.7192438805681265),\n",
       " 'Chilling,': (-6.564681930630824, -7.865371916246365),\n",
       " 'Band.': (-5.601404737655564, -5.8922440626466654),\n",
       " \"Enam's\": (-8.13288365469782, None),\n",
       " 'Frankenstein': (-5.648583815351033, -5.731833007876147),\n",
       " 'Yazawa': (-7.831853659033838, None),\n",
       " 'you?': (-5.229793667705875, -5.067412272509168),\n",
       " 'recordings.Now,': (-8.13288365469782, None),\n",
       " 'outdoes': (-5.877611149594514, -6.634922994868091),\n",
       " 'fiancee.': (-6.564681930630824, -6.675040218076073),\n",
       " 'Houston': (-5.312025665258119, -5.527912654955708),\n",
       " 'overuse': (-5.999344746327601, -5.5786909468914345),\n",
       " 'downstream': (-6.8106643599639, -6.735038147751358),\n",
       " 'Witty,': (-5.8065477937690675, -7.020273876232108),\n",
       " 'emotion.': (-5.084441851147415, -5.36499820189299),\n",
       " 'back.R.V.Angel.': (-8.13288365469782, None),\n",
       " '\"episode\"': (-7.229793667705875, -7.467431907574327),\n",
       " 'nipple': (-5.561174822889131, -5.310277467668045),\n",
       " 'Belfast/dirty': (-8.13288365469782, None),\n",
       " 'enthusiests': (-7.530823663369857, None),\n",
       " 'regarded': (-5.377771388302748, -5.484256835536514),\n",
       " 'dragged': (-5.240789052007338, -4.7329521181487495),\n",
       " 'Free.It': (-8.13288365469782, None),\n",
       " 'Gill': (-5.989868854443724, -6.321303871896089),\n",
       " 'Arizona': (-5.356182470709408, -5.616173558855252),\n",
       " 'far-out': (-6.614369714819932, -6.804674075892753),\n",
       " 'ounce': (-5.381604550714477, -5.123039633889216),\n",
       " 'Reagan,': (-6.287785614683562, -6.212159402471021),\n",
       " 'girl?': (-6.41688031106302, -6.101943922683427),\n",
       " 'Huntington-Whiteley': (-8.13288365469782, -8.166401911910345),\n",
       " 'budgeted': (-6.771155818680226, -6.610099411143058),\n",
       " 'List?': (-7.4339136503618, -7.125009226752121),\n",
       " 'Stars': (-4.739659538336522, -4.854012962539754),\n",
       " 'THANKS': (-5.421920535702544, -5.735038147751358),\n",
       " 'robe': (-5.800445194782214, -5.720797708636748),\n",
       " 'technique.I': (-7.178641145258494, -7.263311924918402),\n",
       " 'Slow': (-5.092281314583746, -4.7481006205906),\n",
       " 'ENERGY.': (-7.091490969539594, -7.388250661526702),\n",
       " 'hiking.': (-5.948192223880221, -6.291340648518646),\n",
       " 'newest\"Fours\"': (-8.13288365469782, None),\n",
       " 'ALWAYS': (-4.973316461464199, -5.087220665862721),\n",
       " 'purposes.': (-5.203975964453867, -5.277100209404035),\n",
       " 'width.': (-5.9510400667530465, -5.935952990532072),\n",
       " 'shank,': (-7.132883654697819, -6.962281929254421),\n",
       " 'puntualidad': (-8.13288365469782, None),\n",
       " 'rape,': (-5.931486530377367, -5.538012981860034),\n",
       " 'VISUALY': (-7.831853659033838, None),\n",
       " '42yrs': (-7.831853659033838, None),\n",
       " 'Track': (-4.787902240770562, -5.207360519589252),\n",
       " 'genius,': (-5.244704160779494, -5.497085031344233),\n",
       " 'months.And': (-7.831853659033838, -8.166401911910345),\n",
       " 'Fourplay,': (-7.530823663369857, -7.689280657190683),\n",
       " 'too).': (-5.394896328364388, -5.6413571048735),\n",
       " \"White's\": (-5.61700981098614, -5.7598617314763905),\n",
       " 'progammable': (-7.530823663369857, -7.865371916246365),\n",
       " 'Scheisse': (-7.831853659033838, -7.865371916246365),\n",
       " 'threatened': (-5.56821759044573, -5.623576484951165),\n",
       " 'psychohistorical': (-7.831853659033838, None),\n",
       " 'resources.': (-5.5777892061195, -5.557875878333151),\n",
       " '\"Foundation\"': (-7.132883654697819, -6.990310652854665),\n",
       " 'returns': (-4.881245434249607, -4.723138924451651),\n",
       " 'clients': (-4.982434245236939, -5.325042441455491),\n",
       " '(December': (-6.986755619019581, -6.751428563939528),\n",
       " '1956),': (-7.6557623999781566, -7.865371916246365),\n",
       " 'meetings.': (-5.971515652462845, -6.29717019217937),\n",
       " 'approaches': (-5.001264990348694, -5.333254799997561),\n",
       " 'breakdowns': (-5.989868854443724, -6.20261408456479),\n",
       " 'tp': (-6.246392929525338, -6.2579168930316955),\n",
       " 'industry,': (-5.330794396816087, -5.399246045828165),\n",
       " 'industrious': (-6.771155818680226, -6.865371916246365),\n",
       " 'name;': (-6.6704856567988635, -6.4105270562378545),\n",
       " 'Cole': (-5.101071383367449, -5.335172218043282),\n",
       " 'indirectly': (-6.1551600494089715, -6.2855883196295546),\n",
       " 'lung': (-5.989868854443724, -6.1410960466455755),\n",
       " 'Admittedly': (-5.920696050293861, -5.8945603053738465),\n",
       " 'TURTLES.': (-7.831853659033838, -8.166401911910345),\n",
       " '(Special': (-6.183493648052907, -6.374010222412092),\n",
       " 'top-cop': (-8.13288365469782, None),\n",
       " 'childless': (-6.489430978211632, -6.634922994868091),\n",
       " '1999,': (-5.660127205380607, -5.7632813907345275),\n",
       " 'outback.': (-6.85413005374499, -7.321303871896089),\n",
       " 'releast': (-7.530823663369857, -7.564341920582383),\n",
       " 'Mim': (-7.091490969539594, -7.689280657190683),\n",
       " 'buttery': (-6.064697792951658, -6.485160674534758),\n",
       " 'reaching': (-4.969424102927829, -5.100448931596476),\n",
       " 'WoW!I': (-8.13288365469782, None),\n",
       " 'oozing': (-6.313339719155951, -5.948917967696439),\n",
       " 'himself!': (-5.865711926294805, -6.02338711165625),\n",
       " '128': (-5.579000628053945, -5.50175993635422),\n",
       " 'DETERMINATION': (-7.229793667705875, -7.865371916246365),\n",
       " 'BROADWAY': (-6.470125823016245, -6.704003914011389),\n",
       " 'accessories': (-4.897607778010767, -5.048799220220261),\n",
       " 'Convenience': (-6.208604368635937, -6.704003914011389),\n",
       " 'perfect..': (-6.479671140922475, -7.052458559603509),\n",
       " 'hardwood': (-5.230336875383828, -5.201670990856716),\n",
       " 'easy.These': (-7.831853659033838, None),\n",
       " 'Fans.': (-6.103499877012609, -6.586618315293536),\n",
       " 'nessecary': (-7.354732404314175, -7.321303871896089),\n",
       " 'uses.': (-5.132449577218501, -4.807896000420111),\n",
       " 'teasers.': (-7.229793667705875, -7.052458559603509),\n",
       " 'function,': (-5.521160346690477, -5.352820923342153),\n",
       " 'earthquakes.': (-7.178641145258494, -7.087220665862721),\n",
       " 'Kenny': (-5.045457197661534, -5.217988946131745),\n",
       " 'funny.We': (-7.4339136503618, -7.467431907574327),\n",
       " 'Habanera,': (-7.6557623999781566, -7.865371916246365),\n",
       " 'Shirley': (-5.141214647317871, -5.412818853017439),\n",
       " 'lesson.': (-5.302936958756184, -5.232408748079103),\n",
       " 'self-esteem': (-5.819016434328666, -5.823979231088139),\n",
       " 'BELIEVED': (-6.831853659033838, -6.865371916246365),\n",
       " 'Herve)': (-8.13288365469782, None),\n",
       " '(we': (-5.093073100549469, -5.1510421565011315),\n",
       " 'devoted': (-4.831636566061608, -4.748266413485114),\n",
       " 'Trisha': (-5.9836645420424395, -6.402973918347408),\n",
       " 'Henderson': (-5.773048172357931, -6.179630177644101),\n",
       " 'Warm!': (-6.986755619019581, None),\n",
       " 'Carpenters': (-5.865711926294805, -6.217011905265433),\n",
       " 'done...the': (-7.4339136503618, -8.166401911910345),\n",
       " 'internment': (-6.22439863581917, -6.458831735812409),\n",
       " 'POW': (-5.939759056343357, -6.247323819534271),\n",
       " 'Tool': (-4.796624102683626, -5.162080538127703),\n",
       " 'Madison': (-5.496395758344454, -5.541089460948672),\n",
       " 'grown-ups': (-5.993004568296582, -6.402973918347408),\n",
       " 'unsuitable': (-6.287785614683562, -5.612518885266471),\n",
       " 'newbies.': (-6.22439863581917, -6.476205831881832),\n",
       " 'upside,': (-6.614369714819932, -5.918428645548539),\n",
       " 'horrible.': (-5.405342397669263, -4.091147011377445),\n",
       " 'MEALS!': (-8.13288365469782, None),\n",
       " 'web-sit': (-8.13288365469782, None),\n",
       " '\"boot\"': (-7.4339136503618, -7.263311924918402),\n",
       " 'lasagna,': (-6.752672412986213, -7.388250661526702),\n",
       " 'discernable': (-6.3846956276916185, -5.746446163420588),\n",
       " 'jazz,': (-4.946492439002326, -5.536992312807627),\n",
       " '75%': (-5.671985811941271, -5.242122625848464),\n",
       " 'Th': (-6.079805211214399, -6.132978156423396),\n",
       " 'utilize': (-5.333543105244237, -5.4665641860431),\n",
       " \"manufacture's\": (-6.701519890538832, -6.360221937926458),\n",
       " '\"manufactured': (-7.229793667705875, -7.263311924918402),\n",
       " 'Mediterranean': (-5.788491381012708, -6.0800420812355975),\n",
       " 'foods.': (-5.362768359910717, -5.5900605617045525),\n",
       " 'OK...would': (-8.13288365469782, None),\n",
       " 'criticism,': (-5.706372393333244, -5.993215643498072),\n",
       " 'substance.': (-5.571782271048764, -4.753269861475474),\n",
       " 'paperback....': (-8.13288365469782, -7.865371916246365),\n",
       " 'SOLID': (-5.773048172357931, -6.29717019217937),\n",
       " 'disco-era': (-7.530823663369857, -7.564341920582383),\n",
       " 'changes.': (-5.157451846188557, -5.243676453917086),\n",
       " 'out.So': (-6.771155818680226, -6.5536180551906105),\n",
       " 'Among': (-5.114599346271288, -5.4396747028837735),\n",
       " 'Vickery': (-7.354732404314175, None),\n",
       " '\"Gunga': (-7.530823663369857, -7.865371916246365),\n",
       " 'church.': (-5.08912852772914, -5.386084599770195),\n",
       " 'Dickens': (-5.401294889511081, -5.551504695877211),\n",
       " 'catholic': (-5.738431973871603, -5.735038147751358),\n",
       " 'dialing': (-6.025673685049951, -5.802789932018201),\n",
       " '(interaction).': (-8.13288365469782, None),\n",
       " 'rowboats,': (-8.13288365469782, None),\n",
       " 'athletic': (-5.452548141283256, -5.663974791925913),\n",
       " 'Kafka-esque,': (-8.13288365469782, None),\n",
       " '2-day': (-6.269560794577363, -6.252588059526629),\n",
       " 'hers': (-5.079805211214399, -5.1468702273790905),\n",
       " 'HARDLY': (-6.470125823016245, -6.090854950517815),\n",
       " 'applause!!': (-7.831853659033838, None),\n",
       " 'ATTA': (-7.831853659033838, None),\n",
       " 'performace': (-6.02229394439857, -6.20261408456479),\n",
       " 'Insightful': (-5.2358066514883985, -6.485160674534758),\n",
       " 'instructor': (-4.870195310396123, -4.800539696507791),\n",
       " 'text-book.': (-7.6557623999781566, -7.467431907574327),\n",
       " 'Glossy': (-6.362031643055675, -6.4105270562378545),\n",
       " 'Shaw': (-5.4321799375527995, -5.662611228853164),\n",
       " 'Auel,': (-7.530823663369857, -7.052458559603509),\n",
       " 'eleven,': (-6.6557623999781566, -6.704003914011389),\n",
       " 'route.': (-5.682634546378458, -5.727069218080083),\n",
       " '(6th)': (-8.13288365469782, -7.564341920582383),\n",
       " 'resúmen:El': (-8.13288365469782, -7.865371916246365),\n",
       " 'COMO': (-5.986755619019581, -6.513189398135002),\n",
       " 'depictions': (-5.598857548641684, -5.68210207256356),\n",
       " 'culture?': (-6.5888156103475435, -6.543152621512445),\n",
       " 'Bears,': (-6.4516424173222315, -6.513189398135002),\n",
       " 'her,simply': (-8.13288365469782, None),\n",
       " 'vehicles.': (-5.600129275705322, -5.915981909601451),\n",
       " 'Broadway\"': (-6.614369714819932, -7.263311924918402),\n",
       " 'Susan': (-4.843294702155222, -5.0531272194459955),\n",
       " 'nymphomaniacal': (-8.13288365469782, -7.865371916246365),\n",
       " '\"Flyboys\"': (-7.530823663369857, -6.990310652854665),\n",
       " 'nark,': (-8.13288365469782, None),\n",
       " 'Hey,I': (-7.229793667705875, -7.689280657190683),\n",
       " 'Chandlers': (-7.354732404314175, -7.865371916246365),\n",
       " 'hard-drinking': (-7.4339136503618, -7.865371916246365),\n",
       " 'Creepers': (-6.717910306727001, -6.485160674534758),\n",
       " \"Voce'\": (-8.13288365469782, None),\n",
       " \"Turchin's\": (-7.831853659033838, None),\n",
       " '(mostly': (-5.443574795574199, -5.50175993635422),\n",
       " 'myself).': (-6.072185814344207, -6.236982986196053),\n",
       " 'transcendently': (-7.4339136503618, -7.564341920582383),\n",
       " 'headspace.': (-7.530823663369857, None),\n",
       " 'Netley': (-7.831853659033838, -8.166401911910345),\n",
       " 'Gloriously': (-6.8106643599639, -7.689280657190683),\n",
       " 'three-dimensional': (-6.035973641689763, -6.513189398135002),\n",
       " 'indelible,': (-7.4339136503618, None),\n",
       " 'surmized': (-7.831853659033838, None),\n",
       " 'nowadays.': (-5.513790324071077, -5.746446163420588),\n",
       " 'destruction': (-5.181060619381907, -5.301297937269218),\n",
       " 'guard': (-5.0394619695355845, -4.976070213740054),\n",
       " '\"truth\"': (-6.4516424173222315, -6.076496800470948),\n",
       " 'Compare': (-5.69831475066362, -5.468301366286956),\n",
       " '`The': (-5.959697386285545, -6.274307309219865),\n",
       " 'Lakers!': (-7.831853659033838, -8.166401911910345),\n",
       " 'DEFINATELY': (-5.756306697641307, -6.055812201611096),\n",
       " 'Kala': (-7.018940302390982, -7.125009226752121),\n",
       " 'isolation': (-5.489430978211632, -5.8065664295704575),\n",
       " 'Kurupt,': (-6.8106643599639, -6.9111294068070395),\n",
       " 'book?\"': (-6.641521960863547, -6.333892999204109),\n",
       " 'screens...': (-7.831853659033838, -7.321303871896089),\n",
       " '54': (-5.701519890538832, -5.723922142845897),\n",
       " 'reset.': (-6.313339719155951, -5.568706725984834),\n",
       " 'magic!': (-5.836218464436288, -6.586618315293536),\n",
       " 'freeze': (-5.173365277724821, -4.85001216083715),\n",
       " 'SoydanZulal': (-8.13288365469782, None),\n",
       " 'favors': (-5.845081924767593, -5.7192438805681265),\n",
       " 'concern)': (-7.178641145258494, -7.865371916246365),\n",
       " 'HIM.': (-5.934226567743397, -6.137018134225136),\n",
       " 'Fran': (-5.7984299035468885, -6.0660313667927825),\n",
       " 'behaving': (-6.2190698023141024, -5.754782205947115),\n",
       " 'Haiku': (-6.377008799025328, -6.689280657190683),\n",
       " 'daytime;': (-7.831853659033838, None),\n",
       " 'strengthened': (-5.971515652462845, -6.522949235424158),\n",
       " 'optional': (-5.393311310247728, -5.618627206522523),\n",
       " 'skit': (-5.894837551569024, -5.7070094241511145),\n",
       " 'helpful/': (-8.13288365469782, None),\n",
       " 'Thereason,': (-8.13288365469782, None),\n",
       " 'forever!If': (-8.13288365469782, -8.166401911910345),\n",
       " 'well-planned': (-6.752672412986213, -7.263311924918402),\n",
       " 'engagingly': (-6.1551600494089715, -6.735038147751358),\n",
       " 'Lola,': (-6.752672412986213, -7.087220665862721),\n",
       " 'hypnotising;': (-8.13288365469782, None),\n",
       " 'Tagalog': (-6.576581153930532, -6.735038147751358),\n",
       " 'West\"': (-6.146111920431574, -6.4105270562378545),\n",
       " 'topping': (-5.756306697641307, -5.9990845771621695),\n",
       " 'AMAZE': (-6.8106643599639, -7.388250661526702),\n",
       " 'ghost': (-4.841736892965933, -4.789460154763587),\n",
       " '-\"The': (-7.287785614683562, -7.865371916246365),\n",
       " 'evil.': (-5.189389138791717, -5.264399020559616),\n",
       " 'disliked': (-5.393311310247728, -4.869079197705043),\n",
       " 'catholic.': (-7.132883654697819, -7.087220665862721),\n",
       " 'people\"': (-5.88737098688367, -5.825957797070227),\n",
       " 'hr;': (-8.13288365469782, None),\n",
       " 'al,': (-6.050098284381369, -6.0491306162545815),\n",
       " 'navy.': (-6.553100058081009, -6.66125193359044),\n",
       " 'gratitude': (-5.622338644491207, -6.247323819534271),\n",
       " 'Montand': (-7.091490969539594, -7.467431907574327),\n",
       " 'Marquez...': (-7.6557623999781566, None),\n",
       " 'surface).': (-6.956792395642138, -7.020273876232108),\n",
       " 'Fish\"': (-6.530823663369857, -6.675040218076073),\n",
       " 'similarly).': (-8.13288365469782, None),\n",
       " 'translated)': (-7.4339136503618, -7.212159402471021),\n",
       " 'magical.': (-5.513790324071077, -6.333892999204109),\n",
       " 'timbre': (-6.046523824023071, -6.374010222412092),\n",
       " 'harmonica': (-5.467302663679866, -5.856771744484447),\n",
       " '$25.': (-6.072185814344207, -5.692185647834091),\n",
       " 'BULLY': (-7.530823663369857, -7.689280657190683),\n",
       " 'kewl.Why': (-8.13288365469782, None),\n",
       " 'Millar': (-6.771155818680226, -6.7192438805681265),\n",
       " 'Tales.': (-6.269560794577363, -6.442126042309557),\n",
       " 'religios': (-7.4339136503618, -7.166401911910346),\n",
       " 'rewrite': (-5.831853659033838, -5.217988946131745),\n",
       " 'Yves': (-6.362031643055675, -6.62233386756007),\n",
       " 'her?': (-5.800445194782214, -5.498015995220346),\n",
       " \"'odd'\": (-7.530823663369857, -7.865371916246365),\n",
       " 'It,\"': (-6.326703680713932, -6.610099411143058),\n",
       " 'earth!!': (-6.956792395642138, -7.212159402471021),\n",
       " 'happier-especially': (-8.13288365469782, None),\n",
       " 'UNITED': (-6.377008799025328, -6.346857976368477),\n",
       " 'Eco-drive.': (-7.831853659033838, None),\n",
       " 'Jakarta-Tomcat.': (-8.13288365469782, None),\n",
       " 'accumulated': (-5.85872580543414, -5.8786001819801195),\n",
       " 'Itwas': (-7.229793667705875, -7.020273876232108),\n",
       " 'Satisfy\",': (-8.13288365469782, None),\n",
       " 'advance,': (-6.164400706143884, -5.913548880930453),\n",
       " 'premera': (-8.13288365469782, None),\n",
       " 'Sicily.': (-6.641521960863547, -7.052458559603509),\n",
       " 'chords,': (-5.7984299035468885, -5.92835580878155),\n",
       " 'Pray(10/10)a': (-8.13288365469782, None),\n",
       " 'vocalist.': (-5.729763133522002, -5.990310652854665),\n",
       " 'Falco.': (-7.530823663369857, -7.689280657190683),\n",
       " 'charatcters': (-7.530823663369857, -8.166401911910345),\n",
       " 'cage,': (-6.032513109580257, -5.930873465002796),\n",
       " 'yielded': (-6.169095827352264, -5.8103760547172225),\n",
       " 'Tresor': (-7.229793667705875, -7.467431907574327),\n",
       " 'ethernet': (-5.56821759044573, -5.4529113688164035),\n",
       " 'Java': (-4.9649758446963395, -4.910406185187943),\n",
       " 'Lord.Her': (-8.13288365469782, None),\n",
       " 'Holmes..........': (-8.13288365469782, None),\n",
       " 'tall.All': (-7.831853659033838, -8.166401911910345),\n",
       " 'Preaching': (-6.4516424173222315, -6.32755282117309),\n",
       " 'Guide\"': (-5.923368640155188, -5.7632813907345275),\n",
       " 'imaginatively,': (-7.530823663369857, -7.564341920582383),\n",
       " \"bum's\": (-7.6557623999781566, -7.689280657190683),\n",
       " 'loss?': (-6.902434733319545, -6.7192438805681265),\n",
       " '1972,': (-6.079805211214399, -6.381072076899579),\n",
       " 'resolved,': (-6.246392929525338, -5.901584088900809),\n",
       " \"version/Director's\": (-8.13288365469782, None),\n",
       " 'bodied': (-6.173842262376725, -6.598200187843351),\n",
       " 'Laserjet': (-6.41688031106302, -6.20261408456479),\n",
       " 'subway': (-5.581433656724944, -5.717695592005266),\n",
       " 'ADMIT': (-6.489430978211632, -6.4503985682755465),\n",
       " 'Say': (-4.939759056343358, -5.046157116363981),\n",
       " 'Wu-Tang': (-6.01230972349197, -6.125009226752121),\n",
       " 'facsimile': (-6.287785614683562, -6.076496800470948),\n",
       " 'duration.': (-6.22439863581917, -6.252588059526629),\n",
       " '3M': (-5.626378622292947, -5.495229069195262),\n",
       " '03609Na': (-8.13288365469782, None),\n",
       " 'OK.': (-5.103094183865964, -4.712625052219903),\n",
       " 'vinyl.': (-5.538491104322392, -5.6545185509314715),\n",
       " 'Ohh,': (-7.178641145258494, -6.962281929254421),\n",
       " 'Oscar,': (-6.087560675911162, -6.374010222412092),\n",
       " 'Easter': (-5.2940345639605635, -5.563257539290163),\n",
       " 'logistics': (-6.159755801098121, -6.193274058310647),\n",
       " 'washer)': (-7.287785614683562, -7.263311924918402),\n",
       " 'subscribe.': (-7.018940302390982, -6.735038147751358),\n",
       " 'YES': (-5.343302942533394, -5.568706725984834),\n",
       " 'TRIED': (-5.88737098688367, -5.29775747351552),\n",
       " 'regimine': (-7.132883654697819, -7.087220665862721),\n",
       " 'discomfort.': (-5.761815792426083, -5.8922440626466654),\n",
       " 'resecure': (-7.831853659033838, -7.865371916246365),\n",
       " 'vary.': (-6.146111920431574, -5.962281929254421),\n",
       " 'there...': (-5.596325212126289, -5.481556550265934),\n",
       " \"rec'd\": (-5.889845606011525, -5.626072437119472),\n",
       " 'hands-down.': (-6.701519890538832, -7.321303871896089),\n",
       " 'actual,': (-6.425313478599882, -6.217011905265433),\n",
       " 'classics\".In': (-8.13288365469782, None),\n",
       " 'Bradford': (-6.240789052007338, -6.247323819534271),\n",
       " 'serviceable': (-6.050098284381369, -5.863205854489856),\n",
       " '\"Porque': (-7.4339136503618, -7.865371916246365),\n",
       " 'HDTV/monitor': (-8.13288365469782, None),\n",
       " 'Velcro!': (-7.530823663369857, -7.865371916246365),\n",
       " '5\\'4\"': (-6.479671140922475, -6.35348855526749),\n",
       " 'gown.': (-6.530823663369857, -6.823979231088139),\n",
       " '34-29-41,': (-8.13288365469782, None),\n",
       " 'Angharad': (-7.6557623999781566, -7.865371916246365),\n",
       " 'period!': (-5.880030623717926, -6.002049056125909),\n",
       " \"D'arcy\": (-7.132883654697819, -7.564341920582383),\n",
       " '$3.95,': (-8.13288365469782, None),\n",
       " 'Groups!': (-7.4339136503618, -8.166401911910345),\n",
       " 'heavier,': (-5.7454938283590895, -6.039297113545538),\n",
       " '...it': (-6.083665632027637, -5.938515207296672),\n",
       " 'Mill': (-5.544051929103612, -5.586618315293536),\n",
       " 'boils': (-5.56821759044573, -5.402973918347408),\n",
       " '\"J\\'Nuh.\"': (-8.13288365469782, None),\n",
       " 'Directed': (-5.838417428536227, -6.157801740148428),\n",
       " 'dog-friendly': (-7.4339136503618, -7.388250661526702),\n",
       " 'sister.': (-5.093469535521682, -5.412818853017439),\n",
       " '7-11),': (-8.13288365469782, None),\n",
       " 'Word.': (-5.679565314650781, -5.901584088900809),\n",
       " 'only;': (-6.641521960863547, -6.346857976368477),\n",
       " 'condition.You': (-7.6557623999781566, -7.689280657190683),\n",
       " 'oatmeal).': (-7.831853659033838, -8.166401911910345),\n",
       " 'Narration': (-6.553100058081009, -6.381072076899579),\n",
       " 'verge': (-5.567035836024301, -5.583203137941723),\n",
       " 'unremitting': (-7.132883654697819, -6.689280657190683),\n",
       " 'Print.': (-6.902434733319545, -7.052458559603509),\n",
       " 'try.The': (-6.601404737655564, -6.634922994868091),\n",
       " 'Richardson': (-5.863370710479903, -6.090854950517815),\n",
       " 'Ahhh,': (-6.499415199118233, -6.7684619032383075),\n",
       " 'Secret,': (-6.229793667705875, -6.503644080228772),\n",
       " 'ending).': (-6.5888156103475435, -6.7192438805681265),\n",
       " 'HEAVY': (-5.528657601613349, -5.677851195409901),\n",
       " 'bulb,': (-6.009032013730733, -5.617398649884557),\n",
       " 'Terriers.': (-7.229793667705875, -7.212159402471021),\n",
       " 'unspeakably': (-6.6857256233556, -6.360221937926458),\n",
       " 'LED.': (-6.362031643055675, -6.333892999204109),\n",
       " 'Waters.': (-6.229793667705875, -6.434008152087377),\n",
       " '\"Roll': (-6.235256563407377, -6.5536180551906105),\n",
       " 'varieties.': (-6.150612421658251, -6.532933456330759),\n",
       " '\"Jim': (-6.6857256233556, -6.823979231088139),\n",
       " '9-11': (-6.124283482935902, -6.005033909675371),\n",
       " 'reconciliation': (-6.146111920431574, -6.268774820619904),\n",
       " 'flight.': (-5.548552430330289, -5.566518839836657),\n",
       " 'crochet.': (-6.4339136503618, -6.503644080228772),\n",
       " 'fancier': (-5.923368640155188, -6.340327109209519),\n",
       " 'expalines': (-8.13288365469782, None),\n",
       " \"pj's,\": (-7.530823663369857, -7.865371916246365),\n",
       " 'Lloyd': (-5.225472293923233, -5.433204646803776),\n",
       " 'Pond': (-6.01230972349197, -6.263311924918402),\n",
       " 'price.)': (-7.053702408650194, -7.087220665862721),\n",
       " 'Bros.': (-5.443574795574199, -5.447070624926619),\n",
       " 'DUPER!': (-8.13288365469782, -8.166401911910345),\n",
       " 'however,there': (-7.831853659033838, -8.166401911910345),\n",
       " '56': (-5.756306697641307, -5.666714829291942),\n",
       " 'successor': (-5.76739566980692, -6.105704071556734),\n",
       " 'mid-sixties': (-6.752672412986213, -7.263311924918402),\n",
       " 'craziest': (-6.132883654697819, -6.575337304883846),\n",
       " 'reality?': (-6.520099797978084, -6.564341920582383),\n",
       " \"1930's.\": (-6.032513109580257, -6.586618315293536),\n",
       " 'allen': (-5.651441026195514, -5.816153893576183),\n",
       " 'experineced': (-7.6557623999781566, None),\n",
       " 'rams': (-7.132883654697819, -6.7684619032383075),\n",
       " 'cannibalization,': (-8.13288365469782, None),\n",
       " 'Katharine': (-5.9539067074046494, -6.0660313667927825),\n",
       " \"sport's\": (-6.771155818680226, -7.467431907574327),\n",
       " 'tivo.': (-7.354732404314175, -7.087220665862721),\n",
       " 'to/from': (-6.369455661134882, -6.564341920582383),\n",
       " 'boughtActiontec': (-8.13288365469782, None),\n",
       " 'firewall': (-5.823253487271921, -5.498015995220346),\n",
       " 'home;': (-6.369455661134882, -6.513189398135002),\n",
       " 'Unbox': (-6.614369714819932, -5.9990845771621695),\n",
       " 'say..I': (-7.354732404314175, -7.564341920582383),\n",
       " 'uSB': (-8.13288365469782, -7.865371916246365),\n",
       " 'WEP.': (-6.956792395642138, -6.751428563939528),\n",
       " 'TiVO': (-6.877611149594514, -6.990310652854665),\n",
       " 'configured,': (-7.132883654697819, -6.62233386756007),\n",
       " 'grave?': (-7.287785614683562, -7.052458559603509),\n",
       " 'nut.': (-5.9510400667530465, -5.814219393798983),\n",
       " 'Nike': (-5.870432564967389, -5.668091358120745),\n",
       " 'near\\'m...\".': (-8.13288365469782, None),\n",
       " 'Wrath\",': (-7.354732404314175, -8.166401911910345),\n",
       " 'marvelous...': (-7.831853659033838, -8.166401911910345),\n",
       " 'boring..but': (-7.831853659033838, -7.689280657190683),\n",
       " 'Arizona,': (-6.042978543258421, -6.268774820619904),\n",
       " 'chicks!': (-7.091490969539594, -7.263311924918402),\n",
       " 'Murray,': (-6.072185814344207, -6.217011905265433),\n",
       " 'OuncesGood': (-8.13288365469782, None),\n",
       " 'Way\"': (-5.461710811982736, -5.77370495865068),\n",
       " 'expect?': (-5.687279451424222, -5.831948160759414),\n",
       " 'lyric': (-5.248088290748838, -5.528912182397835),\n",
       " 'clays': (-6.627733676377913, -6.675040218076073),\n",
       " 'audition,': (-6.831853659033838, -7.052458559603509),\n",
       " 'better....defientley': (-8.13288365469782, None),\n",
       " ',I': (-5.7145823633780735, -5.728651349089958),\n",
       " 'Man\\'...\"Clay': (-8.13288365469782, None),\n",
       " '\"vanilla\",': (-8.13288365469782, None),\n",
       " 'song?I': (-7.831853659033838, -7.865371916246365),\n",
       " 'FOUND...GAME': (-8.13288365469782, None),\n",
       " 'winn': (-7.132883654697819, -7.689280657190683),\n",
       " 'matrix': (-5.657212466373389, -5.643957678404026),\n",
       " \"demo's\": (-6.641521960863547, -6.704003914011389),\n",
       " 'enjoy.It': (-7.091490969539594, -7.865371916246365),\n",
       " 'Man).': (-6.85413005374499, -7.052458559603509),\n",
       " 'precocious': (-5.989868854443724, -6.07298022674811),\n",
       " 'mediocre.': (-5.965566319949643, -5.088670732257953),\n",
       " 'lyrics??': (-7.831853659033838, -8.166401911910345),\n",
       " \"O'reilly\": (-6.85413005374499, -6.434008152087377),\n",
       " 'chance\".This': (-8.13288365469782, -8.166401911910345),\n",
       " 'School\",...).': (-8.13288365469782, None),\n",
       " 'Light\".': (-6.499415199118233, -6.7684619032383075),\n",
       " 'maw': (-7.287785614683562, -7.052458559603509),\n",
       " 'youdecipher': (-8.13288365469782, None),\n",
       " 'arm.The': (-7.229793667705875, -7.564341920582383),\n",
       " 'serialization': (-7.6557623999781566, -7.125009226752121),\n",
       " 'THATIT': (-8.13288365469782, -8.166401911910345),\n",
       " 'extant': (-6.3199702980549635, -6.5536180551906105),\n",
       " 'oceanic': (-6.6704856567988635, -7.125009226752121),\n",
       " 'SNL': (-5.701519890538832, -5.465698194765326),\n",
       " 'orignal': (-5.761815792426083, -5.677851195409901),\n",
       " 'Caspian]': (-8.13288365469782, None),\n",
       " 'fastest.': (-6.627733676377913, -6.804674075892753),\n",
       " '\"energy': (-6.831853659033838, -6.78619067019874),\n",
       " 'grandsons,': (-6.530823663369857, -6.804674075892753),\n",
       " 'Hornblower': (-5.821129793642065, -6.2579168930316955),\n",
       " 'sealore!': (-8.13288365469782, None),\n",
       " \"olvidar......It'll\": (-8.13288365469782, None),\n",
       " 'Kumbayah,': (-8.13288365469782, None),\n",
       " 'mathematics': (-5.264827292874777, -5.427621353425977),\n",
       " '600%': (-7.831853659033838, -7.689280657190683),\n",
       " 'unsettling,': (-6.392520965203575, -6.62233386756007),\n",
       " 'collectable': (-6.032513109580257, -6.2855883196295546),\n",
       " 'Originally.....I': (-8.13288365469782, None),\n",
       " 'knock-out': (-6.41688031106302, -7.052458559603509),\n",
       " 'fun?': (-6.015612359042055, -6.02338711165625),\n",
       " 'together.What': (-7.229793667705875, -7.321303871896089),\n",
       " 'acousticness': (-7.831853659033838, None),\n",
       " 'macha': (-7.831853659033838, None),\n",
       " 'rejection': (-5.819016434328666, -5.867548835500639),\n",
       " 'delivered).': (-7.530823663369857, -7.865371916246365),\n",
       " \"Astley's\": (-7.530823663369857, -7.564341920582383),\n",
       " 'plaque': (-5.977547617232758, -6.184130678870777),\n",
       " 'seconds.Most': (-8.13288365469782, None),\n",
       " 'turnk': (-7.831853659033838, None),\n",
       " 'interconnect': (-6.701519890538832, -6.9111294068070395),\n",
       " 'CD.A': (-6.877611149594514, -7.125009226752121),\n",
       " 'Tricks': (-6.068425665470901, -6.247323819534271),\n",
       " 'disparaging': (-6.530823663369857, -6.231903460666778),\n",
       " 'Thakar': (-8.13288365469782, None),\n",
       " 'blog).': (-8.13288365469782, -7.865371916246365),\n",
       " 'Kilmer,': (-6.614369714819932, -6.751428563939528),\n",
       " '\"Liberation': (-7.530823663369857, -8.166401911910345),\n",
       " 'Congressional': (-6.369455661134882, -6.503644080228772),\n",
       " \"out'.\": (-7.018940302390982, -6.9111294068070395),\n",
       " 'faced.': (-5.971515652462845, -6.610099411143058),\n",
       " 'different..': (-6.877611149594514, -6.935952990532072),\n",
       " 'battlefield.To': (-8.13288365469782, None),\n",
       " 'assaults': (-6.340491965199566, -6.263311924918402),\n",
       " 'way.Connor': (-8.13288365469782, None),\n",
       " 'carols,': (-6.40860778509703, -6.9111294068070395),\n",
       " 'Venuti': (-7.287785614683562, -7.865371916246365),\n",
       " 'Littt.D.-Professor': (-8.13288365469782, None),\n",
       " 'sushi': (-5.690403885633371, -6.07298022674811),\n",
       " '7am': (-6.701519890538832, -6.751428563939528),\n",
       " '\"reality.\"': (-7.178641145258494, -7.467431907574327),\n",
       " 'self-discovery.': (-6.41688031106302, -6.844182617176426),\n",
       " '65cm': (-6.928763672041894, -6.418213884904145),\n",
       " 'out.well': (-7.831853659033838, -8.166401911910345),\n",
       " 'clamps': (-5.304868590473842, -5.316982498113446),\n",
       " 'Madelline': (-7.6557623999781566, None),\n",
       " 'Patrick!': (-7.229793667705875, -7.689280657190683),\n",
       " 'Ugh!Overall,': (-8.13288365469782, -8.166401911910345),\n",
       " 'money-saving': (-6.734943646025782, -7.052458559603509),\n",
       " 'efficiency-enhancing': (-8.13288365469782, None),\n",
       " \"led's\": (-6.986755619019581, -7.052458559603509),\n",
       " 'Star,\"': (-6.717910306727001, -7.125009226752121),\n",
       " 'Corax,': (-7.4339136503618, None),\n",
       " '\"Learning': (-6.246392929525338, -6.231903460666778),\n",
       " 'SECTION,': (-7.354732404314175, -7.321303871896089),\n",
       " 'hateful': (-5.920696050293861, -5.395549900268201),\n",
       " 'drag.': (-6.042978543258421, -5.612518885266471),\n",
       " 'madness.': (-5.880030623717926, -6.069491898902289),\n",
       " 'witch!': (-6.734943646025782, -7.212159402471021),\n",
       " 'Captive': (-6.489430978211632, -6.442126042309557),\n",
       " 'do?Very': (-7.831853659033838, None),\n",
       " 'dope!': (-6.5888156103475435, -7.263311924918402),\n",
       " 'nose-first': (-8.13288365469782, -7.865371916246365),\n",
       " 'Drizzt': (-5.923368640155188, -6.268774820619904),\n",
       " 'thic': (-7.287785614683562, -7.467431907574327),\n",
       " 'mis-print/duplicate': (-8.13288365469782, None),\n",
       " 'madly': (-5.88737098688367, -5.976070213740054),\n",
       " 'SONG....VERY': (-8.13288365469782, None),\n",
       " 'egos': (-6.1372484601002695, -5.967744824955923),\n",
       " 'navigating': (-5.6765176215687765, -5.7916535659002415),\n",
       " 'lot(anyone': (-8.13288365469782, None),\n",
       " 'metal/rap': (-7.287785614683562, -7.125009226752121),\n",
       " 'Psyche,': (-7.287785614683562, -7.865371916246365),\n",
       " 'spare,': (-5.78653068024718, -6.128975413969722),\n",
       " '\"to': (-5.520099797978084, -5.5452256301353104),\n",
       " 'Christianity,': (-5.6810972191735285, -5.568706725984834),\n",
       " \"an'\": (-6.4339136503618, -6.7684619032383075),\n",
       " \"wiggle)That's\": (-8.13288365469782, None),\n",
       " 'bruce': (-5.926057778665969, -5.984558323965573),\n",
       " '\"intense': (-7.6557623999781566, -7.689280657190683),\n",
       " 'winged)': (-8.13288365469782, None),\n",
       " 'ROBIN': (-6.4516424173222315, -6.66125193359044),\n",
       " 'fearless': (-5.763667797287677, -6.309069415479077),\n",
       " '(Equilibrium,': (-8.13288365469782, None),\n",
       " 'oringal': (-6.8106643599639, -6.990310652854665),\n",
       " 'great.highly': (-8.13288365469782, None),\n",
       " 'date...and': (-7.6557623999781566, -7.467431907574327),\n",
       " 'complexly': (-6.8106643599639, -7.865371916246365),\n",
       " 'peek-a-boo': (-6.4516424173222315, -6.751428563939528),\n",
       " 'Puck)': (-8.13288365469782, None),\n",
       " 'perry': (-6.313339719155951, -6.62233386756007),\n",
       " 'analytic': (-6.1372484601002695, -6.442126042309557),\n",
       " 'Gibbons': (-5.993004568296582, -6.442126042309557),\n",
       " 'accessing': (-5.88737098688367, -5.758161946598496),\n",
       " 'thru-hole': (-7.831853659033838, -8.166401911910345),\n",
       " 'Amplifier': (-6.489430978211632, -6.418213884904145),\n",
       " 'spec': (-5.907574372971957, -5.598200187843351),\n",
       " \"'invisible'\": (-7.530823663369857, -7.689280657190683),\n",
       " 'jeans': (-5.030107039814378, -5.072280316069784),\n",
       " 'etc.);': (-6.831853659033838, -6.990310652854665),\n",
       " \"Abijah's\": (-8.13288365469782, None),\n",
       " 'strategies,': (-5.773048172357931, -6.032863003540128),\n",
       " 'photoshop': (-5.816913309240902, -5.782586545929914),\n",
       " 'WONDERFUL!': (-5.638729060679377, -6.887648310957516),\n",
       " 'soundtrack-like': (-7.530823663369857, -8.166401911910345),\n",
       " 'reinvinted': (-8.13288365469782, None),\n",
       " 'him.\"You': (-8.13288365469782, None),\n",
       " 'rim': (-5.472967454627969, -5.216037057534223),\n",
       " \"mindblowin'\": (-8.13288365469782, None),\n",
       " 'appeared!': (-7.530823663369857, -7.321303871896089),\n",
       " 'Heart,': (-5.621000293718945, -6.020273876232108),\n",
       " 'Humor,': (-6.091490969539594, -6.9111294068070395),\n",
       " 'brown.': (-5.823253487271921, -5.599375545751285),\n",
       " 'symphonies,': (-6.150612421658251, -6.634922994868091),\n",
       " 'CLASSICS,': (-7.018940302390982, -7.865371916246365),\n",
       " 'Advisory\"': (-7.4339136503618, -7.212159402471021),\n",
       " 'MASTERPIECE...ESPECIALLY': (-8.13288365469782, None),\n",
       " 'Strip': (-5.939759056343357, -6.029681344753939),\n",
       " '[Remix]': (-7.530823663369857, None),\n",
       " 'TP25)': (-8.13288365469782, None),\n",
       " 'contained.': (-5.977547617232758, -6.036068143415339),\n",
       " 'Dubois': (-6.902434733319545, -6.962281929254421),\n",
       " 'feliz': (-6.6704856567988635, -7.564341920582383),\n",
       " ',quality': (-7.530823663369857, None),\n",
       " 'snikers': (-8.13288365469782, None),\n",
       " 'projected': (-5.667500803249401, -5.683528328301592),\n",
       " '\"dated\"': (-6.425313478599882, -7.052458559603509),\n",
       " 'rambled': (-6.734943646025782, -5.768461903238308),\n",
       " 'gas.': (-5.701519890538832, -5.585476936234726),\n",
       " 'Corps': (-5.494394397743182, -5.692185647834091),\n",
       " 'MACRAMEDIA': (-8.13288365469782, None),\n",
       " 'commendable': (-5.889845606011525, -6.166401911910346),\n",
       " '\"System': (-7.018940302390982, -6.66125193359044),\n",
       " 'aerials.': (-7.831853659033838, None),\n",
       " '\"Sugar.\"': (-7.6557623999781566, -8.166401911910345),\n",
       " 'deliveres': (-7.229793667705875, -7.865371916246365),\n",
       " 'Pounding': (-6.576581153930532, -7.388250661526702),\n",
       " '(hopefully)': (-6.095457156757195, -6.07298022674811),\n",
       " '(neopoints,': (-8.13288365469782, None),\n",
       " 'growing...': (-7.4339136503618, -7.689280657190683),\n",
       " 'Belgistan,': (-8.13288365469782, None),\n",
       " 'Regards....': (-8.13288365469782, -8.166401911910345),\n",
       " 'pit.': (-6.111694355627881, -6.032863003540128),\n",
       " 'snatch': (-5.856421850524575, -6.226882659291727),\n",
       " 'TOO!': (-6.042978543258421, -6.388250661526702),\n",
       " 'choice...': (-6.614369714819932, -6.29717019217937),\n",
       " 'life.It': (-6.173842262376725, -6.494304053974628),\n",
       " 'earnest,': (-6.509634364299918, -6.360221937926458),\n",
       " 'APPLY': (-6.576581153930532, -6.751428563939528),\n",
       " \"Emperor',\": (-7.831853659033838, None),\n",
       " 'product-': (-5.999344746327601, -6.017182799254965),\n",
       " '[...]).': (-6.902434733319545, -7.125009226752121),\n",
       " 'Intrigue': (-6.0394619695355845, -6.66125193359044),\n",
       " 'malevolent,': (-7.354732404314175, -7.865371916246365),\n",
       " 'relationship;': (-6.752672412986213, -7.388250661526702),\n",
       " 'afterthoughts.Some': (-8.13288365469782, None),\n",
       " 'finely-drawn': (-7.530823663369857, -7.564341920582383),\n",
       " 'Ivy': (-5.489430978211632, -5.5970280022953),\n",
       " 'non-frightening': (-7.530823663369857, -7.467431907574327),\n",
       " 'toilet.\"': (-7.831853659033838, -7.689280657190683),\n",
       " 'Line:A': (-6.499415199118233, -6.564341920582383),\n",
       " 'moderates': (-6.956792395642138, -6.751428563939528),\n",
       " 'awhile),': (-7.6557623999781566, -7.467431907574327),\n",
       " 'empathise': (-6.470125823016245, -6.485160674534758),\n",
       " 'TRANSPARANT': (-8.13288365469782, None),\n",
       " 'facewash': (-6.956792395642138, -7.564341920582383),\n",
       " 'itto': (-6.6557623999781566, -6.689280657190683),\n",
       " 'gravity\".': (-8.13288365469782, None),\n",
       " 'MKP': (-7.6557623999781566, None),\n",
       " 'sentient': (-6.213805562321745, -6.367061362456764),\n",
       " 'adding:': (-8.13288365469782, None),\n",
       " 'AUTUMN': (-7.132883654697819, -7.467431907574327),\n",
       " 'swing,': (-5.530823663369857, -5.736649631907937),\n",
       " '(\"Honey\")': (-8.13288365469782, None),\n",
       " 'journies': (-6.641521960863547, -7.321303871896089),\n",
       " 'Sizova': (-8.13288365469782, None),\n",
       " 'organizations,': (-6.061001647391694, -6.388250661526702),\n",
       " 'Funniest': (-5.458022513960008, -6.30307905178989),\n",
       " 'CBS.': (-6.627733676377913, -6.647887972032458),\n",
       " 'Branch,': (-6.877611149594514, -6.751428563939528),\n",
       " 'best.CLOSE': (-8.13288365469782, None),\n",
       " 'curtain.Of': (-8.13288365469782, None),\n",
       " \"Vonnegut's\": (-6.01230972349197, -6.29717019217937),\n",
       " 'be.\"': (-6.499415199118233, -6.634922994868091),\n",
       " \"Nazi's\": (-6.132883654697819, -6.252588059526629),\n",
       " 'Stonehenge.': (-7.287785614683562, -7.564341920582383),\n",
       " 'HEIGHTS': (-7.132883654697819, -7.125009226752121),\n",
       " 'motel': (-6.095457156757195, -6.0491306162545815),\n",
       " 'Resource.': (-6.956792395642138, -7.388250661526702),\n",
       " '\"Been': (-6.499415199118233, -6.804674075892753),\n",
       " 'uplifted,': (-6.641521960863547, -7.166401911910346),\n",
       " \"Colson's\": (-7.530823663369857, -7.212159402471021),\n",
       " 'exploration,': (-6.029079933741862, -6.35348855526749),\n",
       " '_room': (-8.13288365469782, None),\n",
       " '(beautiful!': (-8.13288365469782, None),\n",
       " '\"power': (-6.1372484601002695, -6.008039419815096),\n",
       " 'Story\"': (-5.69831475066362, -5.7632813907345275),\n",
       " 'well.BUT': (-7.6557623999781566, -7.564341920582383),\n",
       " '....oh': (-7.831853659033838, -8.166401911910345),\n",
       " 'larger.': (-5.4825761315658825, -5.530918165095433),\n",
       " '(Sequal': (-8.13288365469782, None),\n",
       " '4%Sugar:': (-8.13288365469782, None),\n",
       " 'executives...It': (-8.13288365469782, None),\n",
       " 'same.I': (-6.354732404314175, -6.0491306162545815),\n",
       " 'specks,': (-7.4339136503618, -7.212159402471021),\n",
       " '\"NOW': (-7.178641145258494, -7.052458559603509),\n",
       " 'day...somehow,': (-8.13288365469782, None),\n",
       " 'progressions': (-5.968530798913382, -6.008039419815096),\n",
       " \"terriffic!It's\": (-8.13288365469782, None),\n",
       " 'theriver': (-8.13288365469782, None),\n",
       " 'Postcards': (-6.641521960863547, -7.087220665862721),\n",
       " 'Dooley': (-6.41688031106302, -6.5536180551906105),\n",
       " 'curls': (-5.4418021625748505, -5.516094388778409),\n",
       " \"it!!!!).It's\": (-8.13288365469782, None),\n",
       " 'Grimes': (-6.252070062417028, -5.935952990532072),\n",
       " 'fondamentalists': (-8.13288365469782, None),\n",
       " 'Extras': (-5.884910388336013, -6.247323819534271),\n",
       " 'Ice.': (-6.509634364299918, -6.321303871896089),\n",
       " \"Rooster's\": (-7.229793667705875, -8.166401911910345),\n",
       " 'handle!': (-6.499415199118233, -6.247323819534271),\n",
       " 'EducatorCity': (-8.13288365469782, None),\n",
       " 'Ryman': (-6.717910306727001, -7.263311924918402),\n",
       " 'several,': (-5.989868854443724, -6.113323468426926),\n",
       " \"Homes's\": (-8.13288365469782, None),\n",
       " 'Eulogy': (-7.178641145258494, -7.564341920582383),\n",
       " 'interested,': (-5.460785796762102, -5.454594682869154),\n",
       " 'it...buy': (-6.902434733319545, -7.321303871896089),\n",
       " 'discourses)': (-8.13288365469782, None),\n",
       " 'incarceration.': (-7.018940302390982, -7.467431907574327),\n",
       " '\"jail': (-7.6557623999781566, None),\n",
       " 'competitor!Would': (-8.13288365469782, None),\n",
       " '\"gimmicky,\"': (-8.13288365469782, None),\n",
       " 'puzzling,': (-6.771155818680226, -6.675040218076073),\n",
       " 'grown-ups.': (-6.530823663369857, -6.9111294068070395),\n",
       " 'devolves': (-6.85413005374499, -6.020273876232108),\n",
       " 'irony)Woe': (-8.13288365469782, None),\n",
       " 'untrue': (-6.326703680713932, -5.7481006205906),\n",
       " 'rises,': (-6.831853659033838, -7.125009226752121),\n",
       " 'hierachy': (-7.6557623999781566, -7.865371916246365),\n",
       " '2,Jimmy': (-8.13288365469782, None),\n",
       " 'Brel': (-6.701519890538832, -6.751428563939528),\n",
       " 'Myer': (-6.85413005374499, -7.166401911910346),\n",
       " '(MODesto,': (-8.13288365469782, None),\n",
       " 'together).': (-6.257822391306119, -6.3151435631912705),\n",
       " 'Cleans': (-5.6065443773079755, -6.346857976368477),\n",
       " 'thisbecomes': (-8.13288365469782, None),\n",
       " 'bench-press': (-7.831853659033838, None),\n",
       " 'nonchalantly': (-7.018940302390982, -7.052458559603509),\n",
       " 'Finally...Irish': (-8.13288365469782, None),\n",
       " 'experience.Anyway,': (-7.831853659033838, None),\n",
       " 'Interesting.': (-6.050098284381369, -6.442126042309557),\n",
       " \"'no\": (-6.269560794577363, -5.933405801518192),\n",
       " 'richer.': (-6.340491965199566, -6.35348855526749),\n",
       " 'Chinky': (-7.831853659033838, -7.865371916246365),\n",
       " 'Ukraine': (-6.377008799025328, -6.467431907574327),\n",
       " 'thong': (-6.159755801098121, -6.04255027094326),\n",
       " 'Stenio': (-8.13288365469782, None),\n",
       " 'print!!': (-6.877611149594514, -7.166401911910346),\n",
       " 'Go\"': (-5.610439421191499, -5.9208892440961955),\n",
       " 'Apart_': (-8.13288365469782, None),\n",
       " '_Full': (-8.13288365469782, None),\n",
       " 'Nightly\"': (-8.13288365469782, None),\n",
       " 'Pistols,': (-6.377008799025328, -6.418213884904145),\n",
       " 'stumbled.': (-7.530823663369857, None),\n",
       " 'Guttenberg': (-6.877611149594514, -6.7684619032383075),\n",
       " 'Starlight': (-6.246392929525338, -6.494304053974628),\n",
       " 'Fiend': (-6.425313478599882, -6.735038147751358),\n",
       " 'LYRICS.': (-6.601404737655564, -6.887648310957516),\n",
       " 'Taco': (-6.425313478599882, -6.367061362456764),\n",
       " 'Wilhide': (-8.13288365469782, None),\n",
       " \"Russ'\": (-7.287785614683562, -7.689280657190683),\n",
       " 'sucksare': (-8.13288365469782, None),\n",
       " 'information.If': (-6.717910306727001, -6.7192438805681265),\n",
       " '\"Tom\\'s': (-7.287785614683562, -7.564341920582383),\n",
       " 'Crue,': (-6.509634364299918, -6.418213884904145),\n",
       " 'trainer.Even': (-8.13288365469782, None),\n",
       " 'insert,': (-6.072185814344207, -6.026522825509109),\n",
       " 'Holbrook,': (-7.229793667705875, -7.689280657190683),\n",
       " '\"fictional': (-7.354732404314175, -7.467431907574327),\n",
       " 'Sentimental': (-6.091490969539594, -6.29717019217937),\n",
       " 'girlfriend!\"I': (-8.13288365469782, None),\n",
       " \"Zarchi's\": (-7.6557623999781566, -8.166401911910345),\n",
       " 'straightens': (-6.257822391306119, -6.564341920582383),\n",
       " '\"bulletproof\"': (-7.831853659033838, -7.689280657190683),\n",
       " 'decency': (-6.124283482935902, -5.704003914011389),\n",
       " 'ex-husbands).': (-8.13288365469782, None),\n",
       " 'world?Along': (-8.13288365469782, None),\n",
       " 'Braugher': (-7.132883654697819, -7.564341920582383),\n",
       " 'remembered!': (-6.326703680713932, -7.125009226752121),\n",
       " 'occurance,': (-7.354732404314175, -7.087220665862721),\n",
       " 'reader\"': (-6.442687574669305, -6.503644080228772),\n",
       " 'siblings.': (-5.899887544305665, -6.340327109209519),\n",
       " 'Rones': (-7.831853659033838, None),\n",
       " 'advanced,': (-5.7280499380778815, -5.9111294068070395),\n",
       " 'Hammer.The': (-8.13288365469782, None),\n",
       " 'algunos,': (-7.831853659033838, -8.166401911910345),\n",
       " 'pasando': (-6.831853659033838, -7.865371916246365),\n",
       " '\"shocking\"': (-7.091490969539594, -6.309069415479077),\n",
       " '\"Yorkville\"': (-8.13288365469782, None),\n",
       " 'Kids.': (-6.124283482935902, -6.340327109209519),\n",
       " '\"thirteen\"': (-7.6557623999781566, None),\n",
       " 'Women,': (-5.931486530377367, -6.128975413969722),\n",
       " \"Thieve's\": (-7.6557623999781566, None),\n",
       " 'recklessness': (-7.132883654697819, -7.321303871896089),\n",
       " 'Motel\"': (-7.091490969539594, -7.321303871896089),\n",
       " 'mlike': (-7.831853659033838, None),\n",
       " 'choise.': (-7.229793667705875, -7.052458559603509),\n",
       " 'Squirrelpaw!Thanks': (-8.13288365469782, None),\n",
       " 'knida': (-7.6557623999781566, -7.564341920582383),\n",
       " 'urged': (-6.061001647391694, -6.153564687205173),\n",
       " 'Wasting': (-6.641521960863547, -6.090854950517815),\n",
       " 'chelsea,': (-8.13288365469782, None),\n",
       " 'cadillac': (-6.641521960863547, -6.844182617176426),\n",
       " 'backround': (-5.72464368938597, -5.775466804806967),\n",
       " 'sentence.': (-5.6704856567988635, -5.321924736164664),\n",
       " 'recieving': (-5.819016434328666, -5.562175858825875),\n",
       " 'either.I': (-6.178641145258494, -5.647887972032458),\n",
       " 'joke.If': (-7.530823663369857, -7.125009226752121),\n",
       " 'amazon.com,they': (-8.13288365469782, None),\n",
       " \"Rush's\": (-5.980595310314762, -6.105704071556734),\n",
       " 'months-': (-7.132883654697819, -6.374010222412092),\n",
       " 'experience;': (-6.287785614683562, -6.32755282117309),\n",
       " 'hooliganish': (-8.13288365469782, None),\n",
       " 'definintive': (-8.13288365469782, -7.865371916246365),\n",
       " 'STUDIOS': (-7.132883654697819, -6.7684619032383075),\n",
       " \"Carraway's\": (-7.6557623999781566, None),\n",
       " '(head': (-7.018940302390982, -6.9111294068070395),\n",
       " 'SEQUEL': (-6.132883654697819, -6.125009226752121),\n",
       " 'HD-DVDs': (-6.956792395642138, -6.990310652854665),\n",
       " 'Minute!': (-7.530823663369857, -7.689280657190683),\n",
       " 'shuffling,': (-7.229793667705875, -7.388250661526702),\n",
       " 'americana': (-6.470125823016245, -6.804674075892753),\n",
       " 'emprega': (-8.13288365469782, None),\n",
       " 'OMELET': (-7.831853659033838, None),\n",
       " 'forbidden,': (-6.956792395642138, -7.212159402471021),\n",
       " 'Warrior(German)or': (-8.13288365469782, None),\n",
       " 'ago...in': (-7.831853659033838, -8.166401911910345),\n",
       " 'fallow': (-6.479671140922475, -6.804674075892753),\n",
       " 'powder!': (-6.7904609738756125, -6.990310652854665),\n",
       " 'vocations': (-7.132883654697819, -7.321303871896089),\n",
       " 'order;': (-6.641521960863547, -6.522949235424158),\n",
       " 'itjust': (-7.4339136503618, -7.321303871896089),\n",
       " 'incomprehensible--a': (-8.13288365469782, None),\n",
       " 'addenna': (-8.13288365469782, None),\n",
       " 'nouns.4': (-8.13288365469782, None),\n",
       " 'passengers': (-5.699914363823414, -5.92835580878155),\n",
       " 'Pinkett': (-6.928763672041894, -6.962281929254421),\n",
       " 're-meets': (-7.831853659033838, -8.166401911910345),\n",
       " '(among': (-5.838417428536227, -6.055812201611096),\n",
       " 'explore.Doc': (-8.13288365469782, None),\n",
       " 'ambulance': (-6.340491965199566, -6.3151435631912705),\n",
       " 'overboard.': (-6.178641145258494, -6.113323468426926),\n",
       " 'Mothers.': (-7.178641145258494, -7.321303871896089),\n",
       " 'Kong\".....I': (-8.13288365469782, None),\n",
       " 'glasses!!!': (-7.530823663369857, -7.689280657190683),\n",
       " '\"HOW': (-6.601404737655564, -6.513189398135002),\n",
       " 'cooked!': (-7.178641145258494, -7.212159402471021),\n",
       " 'spiders': (-5.899887544305665, -5.8065664295704575),\n",
       " 'Naktir.': (-8.13288365469782, None),\n",
       " ';)Aside': (-8.13288365469782, None),\n",
       " 'Transaction.': (-7.018940302390982, -8.166401911910345),\n",
       " '(different': (-5.902434733319545, -5.695110200851407),\n",
       " 'Contriving': (-8.13288365469782, None),\n",
       " 'Edmon': (-8.13288365469782, None),\n",
       " 'w/her': (-6.831853659033838, -7.052458559603509),\n",
       " 'prisoned': (-7.530823663369857, -7.689280657190683),\n",
       " ...}"
      ]
     },
     "execution_count": 25,
     "metadata": {},
     "output_type": "execute_result"
    }
   ],
   "source": [
    "palavra_concat_dict"
   ]
  },
  {
   "cell_type": "markdown",
   "id": "6f0b09be-75f8-49c9-ae38-7520863c7536",
   "metadata": {},
   "source": [
    "Abaixo podemos verificar um comparativo do impacto da mudança:"
   ]
  },
  {
   "cell_type": "code",
   "execution_count": 26,
   "id": "b4d380f2-1d8c-4989-b72d-f038297c8ede",
   "metadata": {},
   "outputs": [
    {
     "data": {
      "text/plain": [
       "False"
      ]
     },
     "execution_count": 26,
     "metadata": {},
     "output_type": "execute_result"
    }
   ],
   "source": [
    "\"family\" in palavra_concat"
   ]
  },
  {
   "cell_type": "code",
   "execution_count": 27,
   "id": "c4764955-2fee-406d-b98a-f7307f19ffc2",
   "metadata": {},
   "outputs": [
    {
     "data": {
      "text/plain": [
       "True"
      ]
     },
     "execution_count": 27,
     "metadata": {},
     "output_type": "execute_result"
    }
   ],
   "source": [
    "\"family\" in palavra_concat_dict"
   ]
  },
  {
   "cell_type": "markdown",
   "id": "44bea261",
   "metadata": {},
   "source": [
    "#### Tarefa"
   ]
  },
  {
   "cell_type": "markdown",
   "id": "b9ff8703",
   "metadata": {},
   "source": [
    "Para uma dada string, determine se ela é um review positivo ou negativo usando os RDDs acima. Lembre-se de como funciona o classificador Naive-Bayes: http://stanford.edu/~jurafsky/slp3/slides/7_NB.pdf, consulte tambem suas notas de aula de Ciência dos Dados!"
   ]
  },
  {
   "cell_type": "code",
   "execution_count": 28,
   "id": "f9fe770f",
   "metadata": {},
   "outputs": [],
   "source": [
    "#vamos pegar um teste qualquer presente no dataset\n",
    "phrase = \"A complete waste of time. Typographical errors, poor grammar, and a totally pathetic plot add up to absolutely nothing. I'm embarrassed for this author and very disappointed I actually paid for this book.\""
   ]
  },
  {
   "cell_type": "code",
   "execution_count": 29,
   "id": "23ad8bd0-15d2-4de3-8484-2ddbffdb4735",
   "metadata": {},
   "outputs": [
    {
     "data": {
      "text/plain": [
       "['A',\n",
       " 'complete',\n",
       " 'waste',\n",
       " 'of',\n",
       " 'time.',\n",
       " 'Typographical',\n",
       " 'errors,',\n",
       " 'poor',\n",
       " 'grammar,',\n",
       " 'and',\n",
       " 'a',\n",
       " 'totally',\n",
       " 'pathetic',\n",
       " 'plot',\n",
       " 'add',\n",
       " 'up',\n",
       " 'to',\n",
       " 'absolutely',\n",
       " 'nothing.',\n",
       " \"I'm\",\n",
       " 'embarrassed',\n",
       " 'for',\n",
       " 'this',\n",
       " 'author',\n",
       " 'and',\n",
       " 'very',\n",
       " 'disappointed',\n",
       " 'I',\n",
       " 'actually',\n",
       " 'paid',\n",
       " 'for',\n",
       " 'this',\n",
       " 'book.']"
      ]
     },
     "execution_count": 29,
     "metadata": {},
     "output_type": "execute_result"
    }
   ],
   "source": [
    "all_terms = phrase.split()\n",
    "all_terms"
   ]
  },
  {
   "cell_type": "code",
   "execution_count": 30,
   "id": "8b7789bd-c4e9-4b7a-b8a5-b5e6ecd2b344",
   "metadata": {},
   "outputs": [],
   "source": [
    "def naive_bayes(words, reference):\n",
    "    #precisamos divir em palavras positivas e palavras negativas e somar a probabilidade total\n",
    "    positive = 0\n",
    "    negative = 0\n",
    "    \n",
    "    for word in words:\n",
    "        if word in reference:\n",
    "            if reference[word][0] != None:\n",
    "                positive += reference[word][0]\n",
    "            if reference[word][1] != None:\n",
    "                negative += reference[word][1]\n",
    "    \n",
    "    print(positive)\n",
    "    print(negative)\n",
    "    if positive > negative:\n",
    "        return \"positive\"\n",
    "\n",
    "    return \"negative\"\n",
    "    "
   ]
  },
  {
   "cell_type": "code",
   "execution_count": 31,
   "id": "3855ef20-b885-42c7-9582-b3347689e1fe",
   "metadata": {},
   "outputs": [
    {
     "name": "stdout",
     "output_type": "stream",
     "text": [
      "-112.3695899560691\n",
      "-104.0231864327492\n"
     ]
    },
    {
     "data": {
      "text/plain": [
       "'negative'"
      ]
     },
     "execution_count": 31,
     "metadata": {},
     "output_type": "execute_result"
    }
   ],
   "source": [
    "result = naive_bayes(all_terms, palavra_concat_dict)\n",
    "result"
   ]
  },
  {
   "cell_type": "markdown",
   "id": "dd7ec3f1",
   "metadata": {},
   "source": [
    "### Fase 2"
   ]
  },
  {
   "cell_type": "markdown",
   "id": "f80fa7fe",
   "metadata": {},
   "source": [
    "Agora que temos um classificador Naive-Bayes, vamos explorá-lo um pouco:"
   ]
  },
  {
   "cell_type": "markdown",
   "id": "65e67dff",
   "metadata": {},
   "source": [
    "### Tarefa"
   ]
  },
  {
   "cell_type": "markdown",
   "id": "fb1bc2a4",
   "metadata": {},
   "source": [
    "Quais são as 100 palavras que mais indicam negatividade, ou seja, onde a diferença entre a probabilidade da palavra no conjunto dos comentários negativos e positivos é máxima? E quais as 100 palavras de maior positividade? Mostre os resultados na forma de *word clouds*."
   ]
  },
  {
   "cell_type": "code",
   "execution_count": 32,
   "id": "b23aec16",
   "metadata": {},
   "outputs": [],
   "source": [
    "palavra_concat = positive_log.fullOuterJoin(negative_log)"
   ]
  },
  {
   "cell_type": "code",
   "execution_count": 33,
   "id": "80be552f-b2a4-4273-aed8-067449c0bd5c",
   "metadata": {},
   "outputs": [],
   "source": [
    "palavra_rdd = palavra_concat"
   ]
  },
  {
   "cell_type": "code",
   "execution_count": 34,
   "id": "04db520c-376a-4094-8a67-a4469898a114",
   "metadata": {},
   "outputs": [],
   "source": [
    "most_negative = palavra_rdd.filter(lambda x: x[1][0] != None).filter(lambda x: x[1][1] != None).map(lambda x: (x[0], x[1][0], x[1][1], x[1][1] - x[1][0])).takeOrdered(100, lambda x: -x[3])"
   ]
  },
  {
   "cell_type": "code",
   "execution_count": 35,
   "id": "f1ff0a25-3ae0-4f14-bbfd-ba4306293017",
   "metadata": {},
   "outputs": [
    {
     "data": {
      "text/plain": [
       "[('Worthless', -7.4339136503618, -4.730080211770613, 2.7038334385911877),\n",
       " ('Awful!', -7.831853659033838, -5.194662321022568, 2.63719133801127),\n",
       " ('Terrible!', -7.6557623999781566, -5.138644707219792, 2.5171176927583643),\n",
       " ('Uninspired', -8.13288365469782, -5.627325813117569, 2.5055578415802504),\n",
       " ('Avoid!', -8.13288365469782, -5.6387720110390065, 2.4941116436588127),\n",
       " ('Useless.', -8.13288365469782, -5.6413571048735, 2.491526549824319),\n",
       " ('Disappointed...', -8.13288365469782, -5.6413571048735, 2.491526549824319),\n",
       " ('JUNK!!!', -8.13288365469782, -5.677851195409901, 2.455032459287918),\n",
       " ('Junk!', -7.6557623999781566, -5.213125575243041, 2.442636824735115),\n",
       " ('worthless!', -8.13288365469782, -5.702508922924438, 2.430374731773381),\n",
       " ('Worthless.', -8.13288365469782, -5.72235711599227, 2.4105265387055494),\n",
       " ('unfunny,', -8.13288365469782, -5.728651349089958, 2.404232305607861),\n",
       " ('Dull,', -7.831853659033838, -5.441307390828877, 2.390546268204961),\n",
       " ('Unreliable', -7.530823663369857, -5.180526554601952, 2.3502971087679043),\n",
       " ('JUNK!', -7.530823663369857, -5.184130678870777, 2.3466929844990796),\n",
       " ('Horrible.', -7.530823663369857, -5.212642220177117, 2.3181814431927394),\n",
       " ('Disappointing...',\n",
       "  -7.831853659033838,\n",
       "  -5.523937391668224,\n",
       "  2.3079162673656137),\n",
       " ('Horrible!', -7.354732404314175, -5.048137185820866, 2.3065952184933094),\n",
       " ('Tripe', -8.13288365469782, -5.854648050854591, 2.2782356038432283),\n",
       " ('Disappointment!',\n",
       "  -7.831853659033838,\n",
       "  -5.572009361534919,\n",
       "  2.259844297498919),\n",
       " ('Yawn', -7.6557623999781566, -5.409005883117321, 2.2467565168608354),\n",
       " ('Boring,', -7.091490969539594, -4.847087607819834, 2.24440336171976),\n",
       " ('GARBAGE!', -7.831853659033838, -5.604109047453871, 2.2277446115799666),\n",
       " ('Atrocious', -8.13288365469782, -5.9208892440961955, 2.2119944106016236),\n",
       " ('Unsatisfactory', -8.13288365469782, -5.930873465002796, 2.202010189695023),\n",
       " ('Disappointing.',\n",
       "  -7.178641145258494,\n",
       "  -4.977473428149493,\n",
       "  2.2011677171090014),\n",
       " ('Misrepresentation',\n",
       "  -8.13288365469782,\n",
       "  -5.938515207296672,\n",
       "  2.194368447401147),\n",
       " ('USELESS.', -8.13288365469782, -5.94629382387029, 2.186589830827529),\n",
       " ('Disappointing!', -7.4339136503618, -5.2499479633604205, 2.18396568700138),\n",
       " ('Unimpressed', -8.13288365469782, -5.956886897367714, 2.175996757330105),\n",
       " ('Horrible!!', -8.13288365469782, -5.956886897367714, 2.175996757330105),\n",
       " ('TERRIBLE!!!', -8.13288365469782, -5.962281929254421, 2.1706017254433982),\n",
       " ('Blech.', -8.13288365469782, -5.973277313555884, 2.1596063411419353),\n",
       " ('WORST!', -8.13288365469782, -5.996140196515388, 2.1367434581824307),\n",
       " ('Disgusting.', -8.13288365469782, -6.005033909675371, 2.1278497450224485),\n",
       " ('SecuROM', -8.13288365469782, -6.005033909675371, 2.1278497450224485),\n",
       " ('Dissapointment',\n",
       "  -7.6557623999781566,\n",
       "  -5.542119816074678,\n",
       "  2.113642583903479),\n",
       " ('Defective', -6.7904609738756125, -4.680396725548103, 2.110064248327509),\n",
       " ('Dangerous!', -8.13288365469782, -6.039297113545538, 2.0935865411522814),\n",
       " ('YAWN', -8.13288365469782, -6.039297113545538, 2.0935865411522814),\n",
       " ('disappointment!!',\n",
       "  -7.831853659033838,\n",
       "  -5.7382671178815565,\n",
       "  2.0935865411522814),\n",
       " ('Awful.', -7.354732404314175, -5.2665814094832495, 2.088150994830926),\n",
       " ('Amateurish', -7.831853659033838, -5.746446163420588, 2.08540749561325),\n",
       " ('Junk.', -7.4339136503618, -5.350160611918563, 2.0837530384432377),\n",
       " ('Poorly', -6.460785796762102, -4.377738698789488, 2.0830470979726137),\n",
       " ('POS.', -7.6557623999781566, -5.573115844889888, 2.0826465550882682),\n",
       " ('RUBBISH', -8.13288365469782, -6.059191942262477, 2.073691712435342),\n",
       " ('disappointing!!',\n",
       "  -8.13288365469782,\n",
       "  -6.0660313667927825,\n",
       "  2.0668522879050366),\n",
       " ('Ugh', -7.4339136503618, -5.369134371079629, 2.0647792792821713),\n",
       " ('Plodding', -8.13288365469782, -6.07298022674811, 2.059903427949709),\n",
       " ('Disappointing', -6.01230972349197, -3.9530435582859544, 2.059266165206015),\n",
       " ('Unwatchable', -7.831853659033838, -5.77370495865068, 2.058148700383158),\n",
       " ('REFUND.', -8.13288365469782, -6.076496800470948, 2.0563868542268713),\n",
       " ('Leaked', -7.831853659033838, -5.777235827545813, 2.0546178314880246),\n",
       " ('Drivel', -7.530823663369857, -5.483354873671496, 2.0474687896983603),\n",
       " ('Yawn...', -8.13288365469782, -6.087220665862721, 2.0456629888350983),\n",
       " ('E18', -8.13288365469782, -6.087220665862721, 2.0456629888350983),\n",
       " ('Terrible!!', -8.13288365469782, -6.090854950517815, 2.0420287041800043),\n",
       " ('drivel!', -8.13288365469782, -6.090854950517815, 2.0420287041800043),\n",
       " ('Disappointment',\n",
       "  -6.479671140922475,\n",
       "  -4.439104709106758,\n",
       "  2.0405664318157175),\n",
       " ('Awful,', -7.287785614683562, -5.251002076698076, 2.036783537985486),\n",
       " ('Dreadful!', -8.13288365469782, -6.098216050164184, 2.0346676045336354),\n",
       " ('HORRID', -8.13288365469782, -6.101943922683427, 2.0309397320143923),\n",
       " ('Insulting', -7.831853659033838, -5.800913927019446, 2.0309397320143923),\n",
       " ('Boring!', -7.178641145258494, -5.156951016111652, 2.021690129146842),\n",
       " ('Dissatisfied', -7.6557623999781566, -5.634922994868091, 2.020839405110066),\n",
       " ('DISAPPOINTING!', -8.13288365469782, -6.117183889240164, 2.015699765457655),\n",
       " ('Worthless,', -8.13288365469782, -6.117183889240164, 2.015699765457655),\n",
       " ('Deceiving', -7.831853659033838, -5.818097048862185, 2.0137566101716526),\n",
       " ('Worst!', -8.13288365469782, -6.125009226752121, 2.0078744279456986),\n",
       " ('dreadful!', -8.13288365469782, -6.125009226752121, 2.0078744279456986),\n",
       " ('Ineffective', -7.831853659033838, -5.823979231088139, 2.0078744279456986),\n",
       " ('Junk!!', -8.13288365469782, -6.128975413969722, 2.003908240728097),\n",
       " ('Disappointed!!!',\n",
       "  -8.13288365469782,\n",
       "  -6.132978156423396,\n",
       "  1.9999054982744235),\n",
       " ('Unfunny', -8.13288365469782, -6.132978156423396, 1.9999054982744235),\n",
       " ('Inane', -8.13288365469782, -6.132978156423396, 1.9999054982744235),\n",
       " ('Monotonous', -8.13288365469782, -6.145212612840408, 1.9876710418574115),\n",
       " ('Worst.', -7.831853659033838, -5.850431566453428, 1.9814220925804102),\n",
       " ('Disappointed!', -7.178641145258494, -5.198386197916704, 1.9802549473417903),\n",
       " ('Disapointing', -7.4339136503618, -5.462251395070546, 1.9716622552912542),\n",
       " ('Boring!!', -8.13288365469782, -6.162080538127703, 1.9708031165701163),\n",
       " ('plague!', -7.831853659033838, -5.867548835500639, 1.9643048235331992),\n",
       " ('Unimaginative', -8.13288365469782, -6.170766717312795, 1.9621169373850238),\n",
       " ('Dreck', -8.13288365469782, -6.175175836217851, 1.9577078184799683),\n",
       " ('Boring.', -7.132883654697819, -5.179182682002341, 1.9537009726954784),\n",
       " ('BORING!!!!', -8.13288365469782, -6.179630177644101, 1.9532534770537184),\n",
       " ('tripe!', -8.13288365469782, -6.179630177644101, 1.9532534770537184),\n",
       " ('junk!!', -7.831853659033838, -5.880844602902572, 1.9510090561312659),\n",
       " ('disappointing!!!',\n",
       "  -8.13288365469782,\n",
       "  -6.188678306621497,\n",
       "  1.9442053480763217),\n",
       " ('Awful...', -8.13288365469782, -6.188678306621497, 1.9442053480763217),\n",
       " ('snoozer.', -7.831853659033838, -5.887648310957517, 1.9442053480763208),\n",
       " ('Leaks!', -8.13288365469782, -6.193274058310647, 1.9396095963871725),\n",
       " ('Tedious,', -7.831853659033838, -5.8922440626466654, 1.9396095963871725),\n",
       " ('Dreadful.', -8.13288365469782, -6.19791896335641, 1.934964691341409),\n",
       " ('UGH', -7.831853659033838, -5.899230183507332, 1.9326234755265057),\n",
       " ('Unconvincing', -8.13288365469782, -6.20261408456479, 1.9302695701330288),\n",
       " ('Banal', -8.13288365469782, -6.20261408456479, 1.9302695701330288),\n",
       " ('Beware!!!', -7.6557623999781566, -5.725492829845128, 1.9302695701330288),\n",
       " ('Stilted', -8.13288365469782, -6.207360519589252, 1.925523135108567),\n",
       " ('refund?', -7.831853659033838, -5.906330523925271, 1.925523135108567)]"
      ]
     },
     "execution_count": 35,
     "metadata": {},
     "output_type": "execute_result"
    }
   ],
   "source": [
    "most_negative"
   ]
  },
  {
   "cell_type": "code",
   "execution_count": 36,
   "id": "87f05e70-8404-4c50-bf5a-8460eea60f76",
   "metadata": {},
   "outputs": [],
   "source": [
    "most_positive = palavra_rdd.filter(lambda x: x[1][0] != None).filter(lambda x: x[1][1] != None).map(lambda x: (x[0], x[1][0], x[1][1], x[1][0] - x[1][1])).takeOrdered(100, lambda x: -x[3])"
   ]
  },
  {
   "cell_type": "code",
   "execution_count": 37,
   "id": "4a2d9581-e9f4-4d84-bf8e-35acb43b2f99",
   "metadata": {},
   "outputs": [
    {
     "data": {
      "text/plain": [
       "[('Excellent!!!', -5.743717570333287, -8.166401911910345, 2.4226843415770585),\n",
       " ('must-read!', -5.923368640155188, -8.166401911910345, 2.2430332717551567),\n",
       " ('Inspiring!', -5.939759056343357, -8.166401911910345, 2.226642855566988),\n",
       " ('Outstanding!', -5.344008538922402, -7.564341920582383, 2.220333381659981),\n",
       " ('Excellent!!', -5.682634546378458, -7.865371916246365, 2.1827373698679065),\n",
       " ('Adorable!', -5.993004568296582, -8.166401911910345, 2.173397343613763),\n",
       " ('Underrated', -5.415213151695557, -7.564341920582383, 2.1491287688868264),\n",
       " ('Bookwatch', -6.025673685049951, -8.166401911910345, 2.1407282268603938),\n",
       " ('Fantastic!!', -6.029079933741862, -8.166401911910345, 2.137321978168483),\n",
       " ('Excellent!', -4.714914012483082, -6.804674075892753, 2.0897600634096705),\n",
       " ('Gem!', -6.079805211214399, -8.166401911910345, 2.086596700695946),\n",
       " ('must-have!', -5.7845787916496585, -7.865371916246365, 2.080793124596706),\n",
       " ('Insightful!', -6.091490969539594, -8.166401911910345, 2.0749109423707512),\n",
       " ('Awesome!!!', -5.576581153930532, -7.564341920582383, 1.987760766651851),\n",
       " ('Excelente', -5.403718865005049, -7.388250661526702, 1.9845317965216527),\n",
       " ('MUST!', -5.8824636523889255, -7.865371916246365, 1.9829082638574391),\n",
       " ('FANTASTIC!!!', -6.188400982547651, -8.166401911910345, 1.9780009293626941),\n",
       " ('Pleasantly', -5.347553819687052, -7.321303871896089, 1.973750052209037),\n",
       " ('Beautiful!', -5.355456832308508, -7.321303871896089, 1.9658470395875813),\n",
       " ('Superb!', -5.6078388476609735, -7.564341920582383, 1.95650307292141),\n",
       " ('Captivating!', -6.2190698023141024, -8.166401911910345, 1.9473321095962426),\n",
       " ('Mesmerizing', -5.928763672041894, -7.865371916246365, 1.9366082442044705),\n",
       " ('Impressive!', -6.235256563407377, -8.166401911910345, 1.9311453485029677),\n",
       " ('Eye-opening', -6.240789052007338, -8.166401911910345, 1.9256128599030067),\n",
       " ('Inspirational!',\n",
       "  -6.240789052007338,\n",
       "  -8.166401911910345,\n",
       "  1.9256128599030067),\n",
       " ('Underappreciated',\n",
       "  -6.257822391306119,\n",
       "  -8.166401911910345,\n",
       "  1.908579520604226),\n",
       " ('Addictive!', -6.263651934966843, -8.166401911910345, 1.9027499769435021),\n",
       " ('Must-have', -5.965566319949643, -7.865371916246365, 1.899805596296722),\n",
       " ('uplifting!', -6.269560794577363, -8.166401911910345, 1.8968411173329818),\n",
       " ('Oustanding', -6.281625305978744, -8.166401911910345, 1.8847766059316013),\n",
       " ('Fabulous!', -5.439156705774172, -7.321303871896089, 1.882147166121917),\n",
       " ('REFRESHING', -6.287785614683562, -8.166401911910345, 1.8786162972267828),\n",
       " ('Overlooked', -5.812737368586765, -7.689280657190683, 1.8765432886039184),\n",
       " ('Awesome!!', -5.595064559624545, -7.467431907574327, 1.8723673479497824),\n",
       " ('Hit!', -5.9961630875414125, -7.865371916246365, 1.8692088287049522),\n",
       " ('awesome!!!!!', -6.3003747419915825, -8.166401911910345, 1.8660271699187625),\n",
       " ('Refreshing!', -6.3003747419915825, -8.166401911910345, 1.8660271699187625),\n",
       " ('Magical!', -6.3003747419915825, -8.166401911910345, 1.8660271699187625),\n",
       " ('Favorite!', -6.005778856333012, -7.865371916246365, 1.8595930599133528),\n",
       " ('must-see!', -6.306808851996993, -8.166401911910345, 1.8595930599133519),\n",
       " ('Rules!!', -6.313339719155951, -8.166401911910345, 1.8530621927543942),\n",
       " ('Amazing!!!!', -6.313339719155951, -8.166401911910345, 1.8530621927543942),\n",
       " ('Have!', -5.7145823633780735, -7.564341920582383, 1.84975955720431),\n",
       " ('Finally!!!', -6.3199702980549635, -8.166401911910345, 1.8464316138553816),\n",
       " ('FANTASTIC!!', -6.326703680713932, -8.166401911910345, 1.8396982311964134),\n",
       " ('lifesaver!', -6.025673685049951, -7.865371916246365, 1.8396982311964134),\n",
       " ('Amazing!!', -5.856421850524575, -7.689280657190683, 1.832858806666108),\n",
       " ('Fantastic!', -4.995846199908306, -6.823979231088139, 1.8281330311798332),\n",
       " ('Wonderful!', -4.908350592091733, -6.735038147751358, 1.8266875556596247),\n",
       " ('Fantastic!!!', -6.0394619695355845, -7.865371916246365, 1.8259099467107802),\n",
       " ('Memories!', -6.340491965199566, -8.166401911910345, 1.8259099467107793),\n",
       " ('Outstanding!!', -6.340491965199566, -8.166401911910345, 1.8259099467107793),\n",
       " ('MASTERPIECE!', -6.347553819687052, -8.166401911910345, 1.818848092223293),\n",
       " ('Inspirational,', -6.347553819687052, -8.166401911910345, 1.818848092223293),\n",
       " ('Wonderful!!', -5.872812266712744, -7.689280657190683, 1.8164683904779393),\n",
       " ('Perfect!!!', -6.354732404314175, -8.166401911910345, 1.8116695075961697),\n",
       " ('Magnificent!', -6.057336693305288, -7.865371916246365, 1.8080352229410765),\n",
       " ('Delicious!', -5.763667797287677, -7.564341920582383, 1.8006741232947068),\n",
       " ('life-saver', -6.3846956276916185, -8.166401911910345, 1.7817062842187266),\n",
       " ('EXCELLENT!!!', -6.095457156757195, -7.865371916246365, 1.7699147594891693),\n",
       " ('favorite!!', -6.09945989921087, -7.865371916246365, 1.765912017035495),\n",
       " ('Uplifting,', -6.400489894874851, -8.166401911910345, 1.765912017035494),\n",
       " ('Excellent,', -4.909907204804428, -6.675040218076073, 1.7651330132716447),\n",
       " ('Riveting,', -6.40860778509703, -8.166401911910345, 1.757794126813315),\n",
       " ('Poignant', -5.808601199400126, -7.564341920582383, 1.7557407211822573),\n",
       " ('Awesome!', -4.712103035149254, -6.467431907574327, 1.755328872425073),\n",
       " ('delight!', -5.638729060679377, -7.388250661526702, 1.7495216008473253),\n",
       " ('recomendable.', -6.41688031106302, -8.166401911910345, 1.7495216008473253),\n",
       " ('Perfect!', -5.095058904109477, -6.844182617176426, 1.7491237130669495),\n",
       " ('Outstanding', -4.515254356939977, -6.263311924918402, 1.7480575679784254),\n",
       " ('Spectacular!', -6.120046429992647, -7.865371916246365, 1.7453254862537175),\n",
       " ('HOOKED!', -6.425313478599882, -8.166401911910345, 1.7410884333104626),\n",
       " ('Superb.', -6.128562280915177, -7.865371916246365, 1.7368096353311877),\n",
       " ('Indispensible', -6.132883654697819, -7.865371916246365, 1.7324882615485455),\n",
       " ('Invaluable', -5.6557623999781566, -7.388250661526702, 1.7324882615485455),\n",
       " ('INSPIRATIONAL', -6.4339136503618, -8.166401911910345, 1.7324882615485446),\n",
       " ('beautiful!!!', -6.4339136503618, -8.166401911910345, 1.7324882615485446),\n",
       " ('Engrossing,', -6.4339136503618, -8.166401911910345, 1.7324882615485446),\n",
       " ('Heartwarming', -5.660127205380607, -7.388250661526702, 1.7281234561460952),\n",
       " ('Riveting', -5.536286559071359, -7.263311924918402, 1.7270253658470436),\n",
       " ('Charming!', -6.442687574669305, -8.166401911910345, 1.7237143372410397),\n",
       " ('Life-changing', -6.442687574669305, -8.166401911910345, 1.7237143372410397),\n",
       " ('Wonderful!!!!', -6.442687574669305, -8.166401911910345, 1.7237143372410397),\n",
       " ('Outstanding,', -5.980595310314762, -7.689280657190683, 1.7086853468759209),\n",
       " ('must-buy.', -6.159755801098121, -7.865371916246365, 1.7056161151482438),\n",
       " ('believer!', -6.460785796762102, -8.166401911910345, 1.705616115148243),\n",
       " ('favorite!!!', -6.460785796762102, -8.166401911910345, 1.705616115148243),\n",
       " ('Beautiful!!!', -6.460785796762102, -8.166401911910345, 1.705616115148243),\n",
       " ('EXCELLENT!!!!', -6.460785796762102, -8.166401911910345, 1.705616115148243),\n",
       " ('Useful!', -6.460785796762102, -8.166401911910345, 1.705616115148243),\n",
       " ('Awsome!', -5.986755619019581, -7.689280657190683, 1.7025250381711023),\n",
       " ('EXCELLENT!!', -6.169095827352264, -7.865371916246365, 1.696276088894101),\n",
       " ('Recommended!!!',\n",
       "  -6.470125823016245,\n",
       "  -8.166401911910345,\n",
       "  1.6962760888941002),\n",
       " ('resource!', -5.517986438664685, -7.212159402471021, 1.694172963806336),\n",
       " ('Excellant', -5.433045928830573, -7.125009226752121, 1.6919632979215473),\n",
       " ('Non-Stop', -6.479671140922475, -8.166401911910345, 1.6867307709878698),\n",
       " ('Stand-out', -6.479671140922475, -8.166401911910345, 1.6867307709878698),\n",
       " ('joys,', -6.188400982547651, -7.865371916246365, 1.6769709336987138),\n",
       " ('AWESOME!!!!', -5.88737098688367, -7.564341920582383, 1.6769709336987138),\n",
       " ('PLEASANTLY', -6.489430978211632, -8.166401911910345, 1.6769709336987129)]"
      ]
     },
     "execution_count": 37,
     "metadata": {},
     "output_type": "execute_result"
    }
   ],
   "source": [
    "most_positive"
   ]
  },
  {
   "cell_type": "markdown",
   "id": "509d7efd",
   "metadata": {},
   "source": [
    "### Tarefa desafio!"
   ]
  },
  {
   "cell_type": "markdown",
   "id": "3f52f2f3",
   "metadata": {},
   "source": [
    "Qual o desempenho do classificador (acurácia)? Para medir sua acurácia:\n",
    "\n",
    "- Separe os reviews em dois conjuntos: treinamente e teste\n",
    "- Repita o \"treinamento\" do classificador com o conjunto de treinamento\n",
    "- Para cada review do conjunto de teste, determine se é positiva ou negativa de acordo com o classificador\n",
    "- Determine a acurácia\n",
    "\n",
    "Esta não é uma tarefa trivial. Não basta fazer um `for` para determinar a classe de cada review de teste: isso demoraria uma eternidade. Você tem que usar variáveis \"broadcast\" do Spark para enviar uma cópia da tabela de frequencias para cada *core* do executor."
   ]
  },
  {
   "cell_type": "markdown",
   "id": "f39451fc",
   "metadata": {},
   "source": [
    "### Tarefa desafio!"
   ]
  },
  {
   "cell_type": "markdown",
   "id": "3d91afc5",
   "metadata": {},
   "source": [
    "Implemente Laplace smoothing"
   ]
  },
  {
   "cell_type": "code",
   "execution_count": 39,
   "id": "0ea17a8c",
   "metadata": {},
   "outputs": [],
   "source": [
    "#valores retirados do projeto de cdados (https://github.com/wilgnerl/Projeto1-Cdados)\n",
    "alfa = 0.01\n",
    "V = 10e4\n",
    "def naive_bayes_with_laplace(rdd, alfa, V, T):\n",
    "    return rdd.map(lambda x: (x[0], np.log( (x[1] + alfa)/(T[1] + V*alfa) ) ) )"
   ]
  },
  {
   "cell_type": "code",
   "execution_count": 40,
   "id": "e52ba996-6eb2-40d9-81c9-993bb8b9a2fa",
   "metadata": {},
   "outputs": [],
   "source": [
    "#Agora que temos o laplace smoothing, basta reaplicar nos testes que fizemos para verificar a diferença\n",
    "positive_smoothing = naive_bayes_with_laplace(positive_, alfa, V, total_positive)\n",
    "negative_smoothing = naive_bayes_with_laplace(negative, alfa, V, total_negative)"
   ]
  },
  {
   "cell_type": "code",
   "execution_count": 45,
   "id": "d6f13e6c-e986-4079-af4c-4c06099b58c7",
   "metadata": {},
   "outputs": [
    {
     "data": {
      "text/plain": [
       "[('out', -6.128667513519069),\n",
       " ('like', -5.7411678661236305),\n",
       " ('heart-rendering', -15.835736871190655),\n",
       " ('book', -5.233246177825735)]"
      ]
     },
     "execution_count": 45,
     "metadata": {},
     "output_type": "execute_result"
    }
   ],
   "source": [
    "positive_smoothing.take(4)"
   ]
  },
  {
   "cell_type": "code",
   "execution_count": 46,
   "id": "4d9a52c2-d4f8-4433-800b-8221391bc342",
   "metadata": {},
   "outputs": [],
   "source": [
    "palavra_concat_smooth = positive_smoothing.fullOuterJoin(negative_smoothing)"
   ]
  },
  {
   "cell_type": "code",
   "execution_count": 47,
   "id": "1b0195ce-0805-459b-b9ee-7f25051631da",
   "metadata": {},
   "outputs": [
    {
     "ename": "Py4JJavaError",
     "evalue": "An error occurred while calling z:org.apache.spark.api.python.PythonRDD.runJob.\n: org.apache.spark.SparkException: Job aborted due to stage failure: Task 48 in stage 36.0 failed 1 times, most recent failure: Lost task 48.0 in stage 36.0 (TID 875) (4ec2a45a0c45 executor driver): org.apache.spark.api.python.PythonException: Traceback (most recent call last):\n  File \"/usr/local/spark/python/lib/pyspark.zip/pyspark/worker.py\", line 686, in main\n    process()\n  File \"/usr/local/spark/python/lib/pyspark.zip/pyspark/worker.py\", line 678, in process\n    serializer.dump_stream(out_iter, outfile)\n  File \"/usr/local/spark/python/lib/pyspark.zip/pyspark/serializers.py\", line 273, in dump_stream\n    vs = list(itertools.islice(iterator, batch))\n  File \"/usr/local/spark/python/lib/pyspark.zip/pyspark/util.py\", line 81, in wrapper\n    return f(*args, **kwargs)\n  File \"/tmp/ipykernel_11344/4237827204.py\", line 5, in <lambda>\nTypeError: can only concatenate str (not \"float\") to str\n\n\tat org.apache.spark.api.python.BasePythonRunner$ReaderIterator.handlePythonException(PythonRunner.scala:559)\n\tat org.apache.spark.api.python.PythonRunner$$anon$3.read(PythonRunner.scala:765)\n\tat org.apache.spark.api.python.PythonRunner$$anon$3.read(PythonRunner.scala:747)\n\tat org.apache.spark.api.python.BasePythonRunner$ReaderIterator.hasNext(PythonRunner.scala:512)\n\tat org.apache.spark.InterruptibleIterator.hasNext(InterruptibleIterator.scala:37)\n\tat scala.collection.Iterator.foreach(Iterator.scala:943)\n\tat scala.collection.Iterator.foreach$(Iterator.scala:943)\n\tat org.apache.spark.InterruptibleIterator.foreach(InterruptibleIterator.scala:28)\n\tat org.apache.spark.api.python.PythonRDD$.writeIteratorToStream(PythonRDD.scala:307)\n\tat org.apache.spark.api.python.PythonRunner$$anon$2.writeIteratorToStream(PythonRunner.scala:732)\n\tat org.apache.spark.api.python.BasePythonRunner$WriterThread.$anonfun$run$1(PythonRunner.scala:438)\n\tat org.apache.spark.util.Utils$.logUncaughtExceptions(Utils.scala:2066)\n\tat org.apache.spark.api.python.BasePythonRunner$WriterThread.run(PythonRunner.scala:272)\n\nDriver stacktrace:\n\tat org.apache.spark.scheduler.DAGScheduler.failJobAndIndependentStages(DAGScheduler.scala:2672)\n\tat org.apache.spark.scheduler.DAGScheduler.$anonfun$abortStage$2(DAGScheduler.scala:2608)\n\tat org.apache.spark.scheduler.DAGScheduler.$anonfun$abortStage$2$adapted(DAGScheduler.scala:2607)\n\tat scala.collection.mutable.ResizableArray.foreach(ResizableArray.scala:62)\n\tat scala.collection.mutable.ResizableArray.foreach$(ResizableArray.scala:55)\n\tat scala.collection.mutable.ArrayBuffer.foreach(ArrayBuffer.scala:49)\n\tat org.apache.spark.scheduler.DAGScheduler.abortStage(DAGScheduler.scala:2607)\n\tat org.apache.spark.scheduler.DAGScheduler.$anonfun$handleTaskSetFailed$1(DAGScheduler.scala:1182)\n\tat org.apache.spark.scheduler.DAGScheduler.$anonfun$handleTaskSetFailed$1$adapted(DAGScheduler.scala:1182)\n\tat scala.Option.foreach(Option.scala:407)\n\tat org.apache.spark.scheduler.DAGScheduler.handleTaskSetFailed(DAGScheduler.scala:1182)\n\tat org.apache.spark.scheduler.DAGSchedulerEventProcessLoop.doOnReceive(DAGScheduler.scala:2860)\n\tat org.apache.spark.scheduler.DAGSchedulerEventProcessLoop.onReceive(DAGScheduler.scala:2802)\n\tat org.apache.spark.scheduler.DAGSchedulerEventProcessLoop.onReceive(DAGScheduler.scala:2791)\n\tat org.apache.spark.util.EventLoop$$anon$1.run(EventLoop.scala:49)\n\tat org.apache.spark.scheduler.DAGScheduler.runJob(DAGScheduler.scala:952)\n\tat org.apache.spark.SparkContext.runJob(SparkContext.scala:2228)\n\tat org.apache.spark.SparkContext.runJob(SparkContext.scala:2249)\n\tat org.apache.spark.SparkContext.runJob(SparkContext.scala:2268)\n\tat org.apache.spark.api.python.PythonRDD$.runJob(PythonRDD.scala:166)\n\tat org.apache.spark.api.python.PythonRDD.runJob(PythonRDD.scala)\n\tat java.base/jdk.internal.reflect.NativeMethodAccessorImpl.invoke0(Native Method)\n\tat java.base/jdk.internal.reflect.NativeMethodAccessorImpl.invoke(NativeMethodAccessorImpl.java:77)\n\tat java.base/jdk.internal.reflect.DelegatingMethodAccessorImpl.invoke(DelegatingMethodAccessorImpl.java:43)\n\tat java.base/java.lang.reflect.Method.invoke(Method.java:568)\n\tat py4j.reflection.MethodInvoker.invoke(MethodInvoker.java:244)\n\tat py4j.reflection.ReflectionEngine.invoke(ReflectionEngine.java:357)\n\tat py4j.Gateway.invoke(Gateway.java:282)\n\tat py4j.commands.AbstractCommand.invokeMethod(AbstractCommand.java:132)\n\tat py4j.commands.CallCommand.execute(CallCommand.java:79)\n\tat py4j.ClientServerConnection.waitForCommands(ClientServerConnection.java:182)\n\tat py4j.ClientServerConnection.run(ClientServerConnection.java:106)\n\tat java.base/java.lang.Thread.run(Thread.java:833)\nCaused by: org.apache.spark.api.python.PythonException: Traceback (most recent call last):\n  File \"/usr/local/spark/python/lib/pyspark.zip/pyspark/worker.py\", line 686, in main\n    process()\n  File \"/usr/local/spark/python/lib/pyspark.zip/pyspark/worker.py\", line 678, in process\n    serializer.dump_stream(out_iter, outfile)\n  File \"/usr/local/spark/python/lib/pyspark.zip/pyspark/serializers.py\", line 273, in dump_stream\n    vs = list(itertools.islice(iterator, batch))\n  File \"/usr/local/spark/python/lib/pyspark.zip/pyspark/util.py\", line 81, in wrapper\n    return f(*args, **kwargs)\n  File \"/tmp/ipykernel_11344/4237827204.py\", line 5, in <lambda>\nTypeError: can only concatenate str (not \"float\") to str\n\n\tat org.apache.spark.api.python.BasePythonRunner$ReaderIterator.handlePythonException(PythonRunner.scala:559)\n\tat org.apache.spark.api.python.PythonRunner$$anon$3.read(PythonRunner.scala:765)\n\tat org.apache.spark.api.python.PythonRunner$$anon$3.read(PythonRunner.scala:747)\n\tat org.apache.spark.api.python.BasePythonRunner$ReaderIterator.hasNext(PythonRunner.scala:512)\n\tat org.apache.spark.InterruptibleIterator.hasNext(InterruptibleIterator.scala:37)\n\tat scala.collection.Iterator.foreach(Iterator.scala:943)\n\tat scala.collection.Iterator.foreach$(Iterator.scala:943)\n\tat org.apache.spark.InterruptibleIterator.foreach(InterruptibleIterator.scala:28)\n\tat org.apache.spark.api.python.PythonRDD$.writeIteratorToStream(PythonRDD.scala:307)\n\tat org.apache.spark.api.python.PythonRunner$$anon$2.writeIteratorToStream(PythonRunner.scala:732)\n\tat org.apache.spark.api.python.BasePythonRunner$WriterThread.$anonfun$run$1(PythonRunner.scala:438)\n\tat org.apache.spark.util.Utils$.logUncaughtExceptions(Utils.scala:2066)\n\tat org.apache.spark.api.python.BasePythonRunner$WriterThread.run(PythonRunner.scala:272)\n",
     "output_type": "error",
     "traceback": [
      "\u001b[0;31m---------------------------------------------------------------------------\u001b[0m",
      "\u001b[0;31mPy4JJavaError\u001b[0m                             Traceback (most recent call last)",
      "Cell \u001b[0;32mIn [47], line 1\u001b[0m\n\u001b[0;32m----> 1\u001b[0m \u001b[43mpalavra_concat_smooth\u001b[49m\u001b[38;5;241;43m.\u001b[39;49m\u001b[43mtake\u001b[49m\u001b[43m(\u001b[49m\u001b[38;5;241;43m1\u001b[39;49m\u001b[43m)\u001b[49m\n",
      "File \u001b[0;32m/usr/local/spark/python/pyspark/rdd.py:1883\u001b[0m, in \u001b[0;36mRDD.take\u001b[0;34m(self, num)\u001b[0m\n\u001b[1;32m   1880\u001b[0m         taken \u001b[38;5;241m+\u001b[39m\u001b[38;5;241m=\u001b[39m \u001b[38;5;241m1\u001b[39m\n\u001b[1;32m   1882\u001b[0m p \u001b[38;5;241m=\u001b[39m \u001b[38;5;28mrange\u001b[39m(partsScanned, \u001b[38;5;28mmin\u001b[39m(partsScanned \u001b[38;5;241m+\u001b[39m numPartsToTry, totalParts))\n\u001b[0;32m-> 1883\u001b[0m res \u001b[38;5;241m=\u001b[39m \u001b[38;5;28;43mself\u001b[39;49m\u001b[38;5;241;43m.\u001b[39;49m\u001b[43mcontext\u001b[49m\u001b[38;5;241;43m.\u001b[39;49m\u001b[43mrunJob\u001b[49m\u001b[43m(\u001b[49m\u001b[38;5;28;43mself\u001b[39;49m\u001b[43m,\u001b[49m\u001b[43m \u001b[49m\u001b[43mtakeUpToNumLeft\u001b[49m\u001b[43m,\u001b[49m\u001b[43m \u001b[49m\u001b[43mp\u001b[49m\u001b[43m)\u001b[49m\n\u001b[1;32m   1885\u001b[0m items \u001b[38;5;241m+\u001b[39m\u001b[38;5;241m=\u001b[39m res\n\u001b[1;32m   1886\u001b[0m partsScanned \u001b[38;5;241m+\u001b[39m\u001b[38;5;241m=\u001b[39m numPartsToTry\n",
      "File \u001b[0;32m/usr/local/spark/python/pyspark/context.py:1486\u001b[0m, in \u001b[0;36mSparkContext.runJob\u001b[0;34m(self, rdd, partitionFunc, partitions, allowLocal)\u001b[0m\n\u001b[1;32m   1484\u001b[0m mappedRDD \u001b[38;5;241m=\u001b[39m rdd\u001b[38;5;241m.\u001b[39mmapPartitions(partitionFunc)\n\u001b[1;32m   1485\u001b[0m \u001b[38;5;28;01massert\u001b[39;00m \u001b[38;5;28mself\u001b[39m\u001b[38;5;241m.\u001b[39m_jvm \u001b[38;5;129;01mis\u001b[39;00m \u001b[38;5;129;01mnot\u001b[39;00m \u001b[38;5;28;01mNone\u001b[39;00m\n\u001b[0;32m-> 1486\u001b[0m sock_info \u001b[38;5;241m=\u001b[39m \u001b[38;5;28;43mself\u001b[39;49m\u001b[38;5;241;43m.\u001b[39;49m\u001b[43m_jvm\u001b[49m\u001b[38;5;241;43m.\u001b[39;49m\u001b[43mPythonRDD\u001b[49m\u001b[38;5;241;43m.\u001b[39;49m\u001b[43mrunJob\u001b[49m\u001b[43m(\u001b[49m\u001b[38;5;28;43mself\u001b[39;49m\u001b[38;5;241;43m.\u001b[39;49m\u001b[43m_jsc\u001b[49m\u001b[38;5;241;43m.\u001b[39;49m\u001b[43msc\u001b[49m\u001b[43m(\u001b[49m\u001b[43m)\u001b[49m\u001b[43m,\u001b[49m\u001b[43m \u001b[49m\u001b[43mmappedRDD\u001b[49m\u001b[38;5;241;43m.\u001b[39;49m\u001b[43m_jrdd\u001b[49m\u001b[43m,\u001b[49m\u001b[43m \u001b[49m\u001b[43mpartitions\u001b[49m\u001b[43m)\u001b[49m\n\u001b[1;32m   1487\u001b[0m \u001b[38;5;28;01mreturn\u001b[39;00m \u001b[38;5;28mlist\u001b[39m(_load_from_socket(sock_info, mappedRDD\u001b[38;5;241m.\u001b[39m_jrdd_deserializer))\n",
      "File \u001b[0;32m/usr/local/spark/python/lib/py4j-0.10.9.5-src.zip/py4j/java_gateway.py:1321\u001b[0m, in \u001b[0;36mJavaMember.__call__\u001b[0;34m(self, *args)\u001b[0m\n\u001b[1;32m   1315\u001b[0m command \u001b[38;5;241m=\u001b[39m proto\u001b[38;5;241m.\u001b[39mCALL_COMMAND_NAME \u001b[38;5;241m+\u001b[39m\\\n\u001b[1;32m   1316\u001b[0m     \u001b[38;5;28mself\u001b[39m\u001b[38;5;241m.\u001b[39mcommand_header \u001b[38;5;241m+\u001b[39m\\\n\u001b[1;32m   1317\u001b[0m     args_command \u001b[38;5;241m+\u001b[39m\\\n\u001b[1;32m   1318\u001b[0m     proto\u001b[38;5;241m.\u001b[39mEND_COMMAND_PART\n\u001b[1;32m   1320\u001b[0m answer \u001b[38;5;241m=\u001b[39m \u001b[38;5;28mself\u001b[39m\u001b[38;5;241m.\u001b[39mgateway_client\u001b[38;5;241m.\u001b[39msend_command(command)\n\u001b[0;32m-> 1321\u001b[0m return_value \u001b[38;5;241m=\u001b[39m \u001b[43mget_return_value\u001b[49m\u001b[43m(\u001b[49m\n\u001b[1;32m   1322\u001b[0m \u001b[43m    \u001b[49m\u001b[43manswer\u001b[49m\u001b[43m,\u001b[49m\u001b[43m \u001b[49m\u001b[38;5;28;43mself\u001b[39;49m\u001b[38;5;241;43m.\u001b[39;49m\u001b[43mgateway_client\u001b[49m\u001b[43m,\u001b[49m\u001b[43m \u001b[49m\u001b[38;5;28;43mself\u001b[39;49m\u001b[38;5;241;43m.\u001b[39;49m\u001b[43mtarget_id\u001b[49m\u001b[43m,\u001b[49m\u001b[43m \u001b[49m\u001b[38;5;28;43mself\u001b[39;49m\u001b[38;5;241;43m.\u001b[39;49m\u001b[43mname\u001b[49m\u001b[43m)\u001b[49m\n\u001b[1;32m   1324\u001b[0m \u001b[38;5;28;01mfor\u001b[39;00m temp_arg \u001b[38;5;129;01min\u001b[39;00m temp_args:\n\u001b[1;32m   1325\u001b[0m     temp_arg\u001b[38;5;241m.\u001b[39m_detach()\n",
      "File \u001b[0;32m/usr/local/spark/python/lib/py4j-0.10.9.5-src.zip/py4j/protocol.py:326\u001b[0m, in \u001b[0;36mget_return_value\u001b[0;34m(answer, gateway_client, target_id, name)\u001b[0m\n\u001b[1;32m    324\u001b[0m value \u001b[38;5;241m=\u001b[39m OUTPUT_CONVERTER[\u001b[38;5;28mtype\u001b[39m](answer[\u001b[38;5;241m2\u001b[39m:], gateway_client)\n\u001b[1;32m    325\u001b[0m \u001b[38;5;28;01mif\u001b[39;00m answer[\u001b[38;5;241m1\u001b[39m] \u001b[38;5;241m==\u001b[39m REFERENCE_TYPE:\n\u001b[0;32m--> 326\u001b[0m     \u001b[38;5;28;01mraise\u001b[39;00m Py4JJavaError(\n\u001b[1;32m    327\u001b[0m         \u001b[38;5;124m\"\u001b[39m\u001b[38;5;124mAn error occurred while calling \u001b[39m\u001b[38;5;132;01m{0}\u001b[39;00m\u001b[38;5;132;01m{1}\u001b[39;00m\u001b[38;5;132;01m{2}\u001b[39;00m\u001b[38;5;124m.\u001b[39m\u001b[38;5;130;01m\\n\u001b[39;00m\u001b[38;5;124m\"\u001b[39m\u001b[38;5;241m.\u001b[39m\n\u001b[1;32m    328\u001b[0m         \u001b[38;5;28mformat\u001b[39m(target_id, \u001b[38;5;124m\"\u001b[39m\u001b[38;5;124m.\u001b[39m\u001b[38;5;124m\"\u001b[39m, name), value)\n\u001b[1;32m    329\u001b[0m \u001b[38;5;28;01melse\u001b[39;00m:\n\u001b[1;32m    330\u001b[0m     \u001b[38;5;28;01mraise\u001b[39;00m Py4JError(\n\u001b[1;32m    331\u001b[0m         \u001b[38;5;124m\"\u001b[39m\u001b[38;5;124mAn error occurred while calling \u001b[39m\u001b[38;5;132;01m{0}\u001b[39;00m\u001b[38;5;132;01m{1}\u001b[39;00m\u001b[38;5;132;01m{2}\u001b[39;00m\u001b[38;5;124m. Trace:\u001b[39m\u001b[38;5;130;01m\\n\u001b[39;00m\u001b[38;5;132;01m{3}\u001b[39;00m\u001b[38;5;130;01m\\n\u001b[39;00m\u001b[38;5;124m\"\u001b[39m\u001b[38;5;241m.\u001b[39m\n\u001b[1;32m    332\u001b[0m         \u001b[38;5;28mformat\u001b[39m(target_id, \u001b[38;5;124m\"\u001b[39m\u001b[38;5;124m.\u001b[39m\u001b[38;5;124m\"\u001b[39m, name, value))\n",
      "\u001b[0;31mPy4JJavaError\u001b[0m: An error occurred while calling z:org.apache.spark.api.python.PythonRDD.runJob.\n: org.apache.spark.SparkException: Job aborted due to stage failure: Task 48 in stage 36.0 failed 1 times, most recent failure: Lost task 48.0 in stage 36.0 (TID 875) (4ec2a45a0c45 executor driver): org.apache.spark.api.python.PythonException: Traceback (most recent call last):\n  File \"/usr/local/spark/python/lib/pyspark.zip/pyspark/worker.py\", line 686, in main\n    process()\n  File \"/usr/local/spark/python/lib/pyspark.zip/pyspark/worker.py\", line 678, in process\n    serializer.dump_stream(out_iter, outfile)\n  File \"/usr/local/spark/python/lib/pyspark.zip/pyspark/serializers.py\", line 273, in dump_stream\n    vs = list(itertools.islice(iterator, batch))\n  File \"/usr/local/spark/python/lib/pyspark.zip/pyspark/util.py\", line 81, in wrapper\n    return f(*args, **kwargs)\n  File \"/tmp/ipykernel_11344/4237827204.py\", line 5, in <lambda>\nTypeError: can only concatenate str (not \"float\") to str\n\n\tat org.apache.spark.api.python.BasePythonRunner$ReaderIterator.handlePythonException(PythonRunner.scala:559)\n\tat org.apache.spark.api.python.PythonRunner$$anon$3.read(PythonRunner.scala:765)\n\tat org.apache.spark.api.python.PythonRunner$$anon$3.read(PythonRunner.scala:747)\n\tat org.apache.spark.api.python.BasePythonRunner$ReaderIterator.hasNext(PythonRunner.scala:512)\n\tat org.apache.spark.InterruptibleIterator.hasNext(InterruptibleIterator.scala:37)\n\tat scala.collection.Iterator.foreach(Iterator.scala:943)\n\tat scala.collection.Iterator.foreach$(Iterator.scala:943)\n\tat org.apache.spark.InterruptibleIterator.foreach(InterruptibleIterator.scala:28)\n\tat org.apache.spark.api.python.PythonRDD$.writeIteratorToStream(PythonRDD.scala:307)\n\tat org.apache.spark.api.python.PythonRunner$$anon$2.writeIteratorToStream(PythonRunner.scala:732)\n\tat org.apache.spark.api.python.BasePythonRunner$WriterThread.$anonfun$run$1(PythonRunner.scala:438)\n\tat org.apache.spark.util.Utils$.logUncaughtExceptions(Utils.scala:2066)\n\tat org.apache.spark.api.python.BasePythonRunner$WriterThread.run(PythonRunner.scala:272)\n\nDriver stacktrace:\n\tat org.apache.spark.scheduler.DAGScheduler.failJobAndIndependentStages(DAGScheduler.scala:2672)\n\tat org.apache.spark.scheduler.DAGScheduler.$anonfun$abortStage$2(DAGScheduler.scala:2608)\n\tat org.apache.spark.scheduler.DAGScheduler.$anonfun$abortStage$2$adapted(DAGScheduler.scala:2607)\n\tat scala.collection.mutable.ResizableArray.foreach(ResizableArray.scala:62)\n\tat scala.collection.mutable.ResizableArray.foreach$(ResizableArray.scala:55)\n\tat scala.collection.mutable.ArrayBuffer.foreach(ArrayBuffer.scala:49)\n\tat org.apache.spark.scheduler.DAGScheduler.abortStage(DAGScheduler.scala:2607)\n\tat org.apache.spark.scheduler.DAGScheduler.$anonfun$handleTaskSetFailed$1(DAGScheduler.scala:1182)\n\tat org.apache.spark.scheduler.DAGScheduler.$anonfun$handleTaskSetFailed$1$adapted(DAGScheduler.scala:1182)\n\tat scala.Option.foreach(Option.scala:407)\n\tat org.apache.spark.scheduler.DAGScheduler.handleTaskSetFailed(DAGScheduler.scala:1182)\n\tat org.apache.spark.scheduler.DAGSchedulerEventProcessLoop.doOnReceive(DAGScheduler.scala:2860)\n\tat org.apache.spark.scheduler.DAGSchedulerEventProcessLoop.onReceive(DAGScheduler.scala:2802)\n\tat org.apache.spark.scheduler.DAGSchedulerEventProcessLoop.onReceive(DAGScheduler.scala:2791)\n\tat org.apache.spark.util.EventLoop$$anon$1.run(EventLoop.scala:49)\n\tat org.apache.spark.scheduler.DAGScheduler.runJob(DAGScheduler.scala:952)\n\tat org.apache.spark.SparkContext.runJob(SparkContext.scala:2228)\n\tat org.apache.spark.SparkContext.runJob(SparkContext.scala:2249)\n\tat org.apache.spark.SparkContext.runJob(SparkContext.scala:2268)\n\tat org.apache.spark.api.python.PythonRDD$.runJob(PythonRDD.scala:166)\n\tat org.apache.spark.api.python.PythonRDD.runJob(PythonRDD.scala)\n\tat java.base/jdk.internal.reflect.NativeMethodAccessorImpl.invoke0(Native Method)\n\tat java.base/jdk.internal.reflect.NativeMethodAccessorImpl.invoke(NativeMethodAccessorImpl.java:77)\n\tat java.base/jdk.internal.reflect.DelegatingMethodAccessorImpl.invoke(DelegatingMethodAccessorImpl.java:43)\n\tat java.base/java.lang.reflect.Method.invoke(Method.java:568)\n\tat py4j.reflection.MethodInvoker.invoke(MethodInvoker.java:244)\n\tat py4j.reflection.ReflectionEngine.invoke(ReflectionEngine.java:357)\n\tat py4j.Gateway.invoke(Gateway.java:282)\n\tat py4j.commands.AbstractCommand.invokeMethod(AbstractCommand.java:132)\n\tat py4j.commands.CallCommand.execute(CallCommand.java:79)\n\tat py4j.ClientServerConnection.waitForCommands(ClientServerConnection.java:182)\n\tat py4j.ClientServerConnection.run(ClientServerConnection.java:106)\n\tat java.base/java.lang.Thread.run(Thread.java:833)\nCaused by: org.apache.spark.api.python.PythonException: Traceback (most recent call last):\n  File \"/usr/local/spark/python/lib/pyspark.zip/pyspark/worker.py\", line 686, in main\n    process()\n  File \"/usr/local/spark/python/lib/pyspark.zip/pyspark/worker.py\", line 678, in process\n    serializer.dump_stream(out_iter, outfile)\n  File \"/usr/local/spark/python/lib/pyspark.zip/pyspark/serializers.py\", line 273, in dump_stream\n    vs = list(itertools.islice(iterator, batch))\n  File \"/usr/local/spark/python/lib/pyspark.zip/pyspark/util.py\", line 81, in wrapper\n    return f(*args, **kwargs)\n  File \"/tmp/ipykernel_11344/4237827204.py\", line 5, in <lambda>\nTypeError: can only concatenate str (not \"float\") to str\n\n\tat org.apache.spark.api.python.BasePythonRunner$ReaderIterator.handlePythonException(PythonRunner.scala:559)\n\tat org.apache.spark.api.python.PythonRunner$$anon$3.read(PythonRunner.scala:765)\n\tat org.apache.spark.api.python.PythonRunner$$anon$3.read(PythonRunner.scala:747)\n\tat org.apache.spark.api.python.BasePythonRunner$ReaderIterator.hasNext(PythonRunner.scala:512)\n\tat org.apache.spark.InterruptibleIterator.hasNext(InterruptibleIterator.scala:37)\n\tat scala.collection.Iterator.foreach(Iterator.scala:943)\n\tat scala.collection.Iterator.foreach$(Iterator.scala:943)\n\tat org.apache.spark.InterruptibleIterator.foreach(InterruptibleIterator.scala:28)\n\tat org.apache.spark.api.python.PythonRDD$.writeIteratorToStream(PythonRDD.scala:307)\n\tat org.apache.spark.api.python.PythonRunner$$anon$2.writeIteratorToStream(PythonRunner.scala:732)\n\tat org.apache.spark.api.python.BasePythonRunner$WriterThread.$anonfun$run$1(PythonRunner.scala:438)\n\tat org.apache.spark.util.Utils$.logUncaughtExceptions(Utils.scala:2066)\n\tat org.apache.spark.api.python.BasePythonRunner$WriterThread.run(PythonRunner.scala:272)\n"
     ]
    }
   ],
   "source": [
    "palavra_concat_smooth.take(1)"
   ]
  },
  {
   "cell_type": "code",
   "execution_count": null,
   "id": "22839015-1752-4d32-ba26-b23f4c5c6e89",
   "metadata": {},
   "outputs": [],
   "source": [
    "word_dict_smooth = convert_tupla_dict(palavra_concat_smooth)"
   ]
  },
  {
   "cell_type": "code",
   "execution_count": null,
   "id": "f25a2d36-803c-4d13-b441-44eadfd9aa23",
   "metadata": {},
   "outputs": [],
   "source": [
    "#vamos pegar um teste!\n"
   ]
  },
  {
   "cell_type": "markdown",
   "id": "0c60baa1",
   "metadata": {},
   "source": [
    "## Rubrica de avaliação"
   ]
  },
  {
   "cell_type": "markdown",
   "id": "f012b9b1",
   "metadata": {},
   "source": [
    "- I: groselha, falha crítica, ou não entregou nada\n",
    "- D: Fez uma tentativa honesta de fazer todos os itens da fase 1, mas tem erros\n",
    "- C: Fase 1 completa\n",
    "- B: Fase 2, faltando apenas um desafio\n",
    "- A: Fase 2 completa"
   ]
  }
 ],
 "metadata": {
  "kernelspec": {
   "display_name": "Python 3 (ipykernel)",
   "language": "python",
   "name": "python3"
  },
  "language_info": {
   "codemirror_mode": {
    "name": "ipython",
    "version": 3
   },
   "file_extension": ".py",
   "mimetype": "text/x-python",
   "name": "python",
   "nbconvert_exporter": "python",
   "pygments_lexer": "ipython3",
   "version": "3.10.6"
  },
  "vscode": {
   "interpreter": {
    "hash": "e7370f93d1d0cde622a1f8e1c04877d8463912d04d973331ad4851f04de6915a"
   }
  }
 },
 "nbformat": 4,
 "nbformat_minor": 5
}
